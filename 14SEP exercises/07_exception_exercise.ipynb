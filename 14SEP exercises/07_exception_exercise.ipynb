{
  "cells": [
    {
      "cell_type": "markdown",
      "metadata": {
        "id": "view-in-github",
        "colab_type": "text"
      },
      "source": [
        "<a href=\"https://colab.research.google.com/github/Siwenli0615/Hello-world/blob/main/14SEP%20exercises/07_exception_exercise.ipynb\" target=\"_parent\"><img src=\"https://colab.research.google.com/assets/colab-badge.svg\" alt=\"Open In Colab\"/></a>"
      ]
    },
    {
      "cell_type": "markdown",
      "metadata": {
        "id": "PJ0l8tLCQv8z"
      },
      "source": [
        "# Error handling exercises\n",
        "\n",
        "---\n",
        "These are introductory exercises in Python with focus in **error handling** statement.\n",
        "\n",
        "<p class = \"alert alert-info\" role=\"alert\"><b>Remember</b> to use <b>descriptive variable and function names</b> in order to get readable code </p>\n",
        "\n",
        "<p class = \"alert alert-info\" role=\"alert\"><b>Remember</b> to format your answers in a neat way using <b>f-strings</b>\n",
        "\n",
        "<p class = \"alert alert-info\" role=\"alert\"><b>Remember</b> to format your input questions in a pedagogical way to guide the user\n",
        "\n",
        "The number of stars (\\*), (\\*\\*), (\\*\\*\\*) denotes the difficulty level of the task\n",
        "\n",
        "---"
      ]
    },
    {
      "cell_type": "markdown",
      "metadata": {
        "id": "y_FWGzYUQv81"
      },
      "source": [
        "## 1. Find errors (*)\n",
        "\n",
        "Find the errors in this code to compute the distance between the point $(x,y)$ and the origin in a cartesian coordinate system.\n",
        "\n",
        "```python\n",
        "impor math\n",
        "\n",
        "def distance(x,y)\n",
        "    reurn math.sqrt(x+y)\n",
        "\n",
        "print(distance([0.5, 0.5]))\n",
        "\n",
        "```\n",
        "\n",
        "<details>\n",
        "\n",
        "<summary>Hint </summary>\n",
        "\n",
        "Also look for logical errors.\n",
        "\n",
        "</details>\n",
        "<br>\n",
        "<details>\n",
        "\n",
        "<summary>Answer </summary>\n",
        "\n",
        "```\n",
        "The distance between (0.5, 0.5) and origin is around 0.707.\n",
        "```\n",
        "\n",
        "</details>\n"
      ]
    },
    {
      "cell_type": "code",
      "source": [
        "import numpy as np\n",
        "\n",
        "def distance(x,y):\n",
        "  return np.sqrt(x**2+y**2)\n",
        "\n",
        "print(f\"The distance is around {round(distance(0.5, 0.5),3)} l.u.\")"
      ],
      "metadata": {
        "id": "8DKwqo8oivE-",
        "outputId": "0dd5c009-7c70-48f7-d829-4a8a15e31ae7",
        "colab": {
          "base_uri": "https://localhost:8080/"
        }
      },
      "execution_count": 17,
      "outputs": [
        {
          "output_type": "stream",
          "name": "stdout",
          "text": [
            "The distance is around 0.707 l.u.\n"
          ]
        }
      ]
    },
    {
      "cell_type": "markdown",
      "metadata": {
        "id": "OLHGK2VuQv82"
      },
      "source": [
        "---\n",
        "## 2. Find errors (*)\n",
        "\n",
        "Find the errors in this code. Just change the function, don't touch the test program.\n",
        "\n",
        "```python\n",
        "\n",
        "def is_fourdigit(number):\n",
        "    if number//1000 < 10\n",
        "        return true\n",
        "    else\n",
        "        return false\n",
        "\n",
        "# test program\n",
        "test_numbers = [231, 3124, -4124, -1000,-999, 1001, 10000, -10000, 999]\n",
        "\n",
        "for number in test_numbers:\n",
        "    if is_fourdigit(number):\n",
        "        print(f\"{number} is four-digit\")\n",
        "    else:\n",
        "        print(f\"{number} is not four-digit\")\n",
        "\n",
        "```\n",
        "\n",
        "<details>\n",
        "\n",
        "<summary>Hint </summary>\n",
        "\n",
        "Print out and test different cases to build up the condition in the if-statement\n",
        "\n",
        "</details>\n",
        "<br>\n",
        "<details>\n",
        "\n",
        "<summary>Answer </summary>\n",
        "\n",
        "```\n",
        "\n",
        "231 is not four-digit\n",
        "3124 is four-digit\n",
        "-4124 is four-digit\n",
        "-1000 is four-digit\n",
        "-999 is not four-digit\n",
        "1001 is four-digit\n",
        "10000 is not four-digit\n",
        "-10000 is not four-digit\n",
        "999 is not four-digit\n",
        "\n",
        "```\n",
        "\n",
        "</details>\n"
      ]
    },
    {
      "cell_type": "code",
      "source": [
        "def is_fourdigit(number):\n",
        "  digits = abs(number//1000)\n",
        "  if digits < 10 and digits >0:\n",
        "    return True\n",
        "  else:\n",
        "    return False\n",
        "\n",
        "# test program\n",
        "test_numbers = [231, 3124, -4124, -1000,-999, 1001, 10000, -10000, 999]\n",
        "\n",
        "for number in test_numbers:\n",
        "    if is_fourdigit(number):\n",
        "        print(f\"{number} is four-digit\")\n",
        "    else:\n",
        "        print(f\"{number} is not four-digit\")"
      ],
      "metadata": {
        "id": "6ngdOB8mi2sA",
        "outputId": "6c01e6ec-8329-4cf2-eb75-ec3b7c7086d9",
        "colab": {
          "base_uri": "https://localhost:8080/"
        }
      },
      "execution_count": 18,
      "outputs": [
        {
          "output_type": "stream",
          "name": "stdout",
          "text": [
            "231 is not four-digit\n",
            "3124 is four-digit\n",
            "-4124 is four-digit\n",
            "-1000 is four-digit\n",
            "-999 is four-digit\n",
            "1001 is four-digit\n",
            "10000 is not four-digit\n",
            "-10000 is not four-digit\n",
            "999 is not four-digit\n"
          ]
        }
      ]
    },
    {
      "cell_type": "markdown",
      "metadata": {
        "id": "R3pRRmscQv82"
      },
      "source": [
        "---\n",
        "## 3. Tram (*)\n",
        "\n",
        "Ali is a **clumpsy** computer user that doesn't take trams too often. Write a program to prompt the user for:\n",
        "- number of times he/she wants to take tram in one month\n",
        "- cost for one ticket\n",
        "- cost for monthly card\n",
        "\n",
        "The program should calculate if it's worth for him to buy  monthly card or not. Make the program user friendly with clear error messages and ask again in case of input errors.\n",
        "\n",
        "<details>\n",
        "\n",
        "<summary>Hint </summary>\n",
        "\n",
        "Raise user friendly exceptions to guide the user to give right input format.\n",
        "\n",
        "</details>\n",
        "<br>\n",
        "<details>\n",
        "\n",
        "<summary>Answer </summary>\n",
        "\n",
        "For example:\n",
        "\n",
        "```\n",
        "How many times do you take tram in one month? -23\n",
        "Number of times you take tram must be between 0 and 100\n",
        "\n",
        "How much does one ticket cost? (kr) 1000\n",
        "One ticket must cost between 0 and 100 kr\n",
        "\n",
        "How many times do you take tram in one month? 23\n",
        "How much does one ticket cost? (kr) 35\n",
        "How much does one month card cost? (kr) 600\n",
        "\n",
        "Cost with one-time tickets 805.0\n",
        "Cost with monthly card 600.0\n",
        "It's worth to buy a monthly card\n",
        "\n",
        "```\n",
        "\n",
        "</details>\n"
      ]
    },
    {
      "cell_type": "code",
      "source": [
        "\n",
        "while True:\n",
        "  try:\n",
        "    times = int(input(\"How many times do you take tram in one month?  \"))\n",
        "    if times<0 or times>100:\n",
        "      raise ValueError\n",
        "    break\n",
        "\n",
        "  except:\n",
        "    print(\"Error: Number of times you take tram must be between 0 and 100, please try again: \\n\")\n",
        "\n",
        "while True:\n",
        "  try:\n",
        "    one_ticket = int(input(\"How much does one ticket cost? (kr)  \"))\n",
        "    if one_ticket<0 or one_ticket>100:\n",
        "      raise ValueError\n",
        "    break\n",
        "  except:\n",
        "    print(\"Error: One ticket must cost between 0 and 100 kr, please try again: \\n\")\n",
        "\n",
        "while True:\n",
        "  try:\n",
        "    month_card = int(input(\"How much does one month card cost? (kr)  \"))\n",
        "\n",
        "\n",
        "    cost_ticket = one_ticket * times\n",
        "    if cost_ticket > month_card:\n",
        "      print(f\"\"\"\n",
        "         Cost with one-time tickets: {cost_ticket} kr\\n\n",
        "         Cost with monthly card: {month_card} kr\\n\n",
        "         It is worth to buy a monthly card\\n\"\"\")\n",
        "      break\n",
        "    else:\n",
        "      print(f\"\"\"\n",
        "         Cost with one-time tickets: {cost_ticket} kr\\n\n",
        "         Cost with monthly card: {month_card} kr\\n\n",
        "         It is worth to buy tickets \\n\"\"\")\n",
        "      break\n",
        "  except:\n",
        "    print(\"Error: please write in integer numbers, please try again: \\n\")\n"
      ],
      "metadata": {
        "id": "ZXgT_YOTjFW7",
        "outputId": "eacffb12-09ab-4230-ce46-d6719d355590",
        "colab": {
          "base_uri": "https://localhost:8080/"
        }
      },
      "execution_count": 7,
      "outputs": [
        {
          "output_type": "stream",
          "name": "stdout",
          "text": [
            "How many times do you take tram in one month?  100\n",
            "How much does one ticket cost? (kr)  100\n",
            "How much does one month card cost? (kr)  one\n",
            "Error: please write in integer numbers, please try again: \n",
            "\n",
            "How much does one month card cost? (kr)  10000\n",
            "\n",
            "         Cost with one-time tickets: 10000 kr\n",
            "\n",
            "         Cost with monthly card: 10000 kr\n",
            "\n",
            "         It is worth to buy tickets \n",
            "\n"
          ]
        }
      ]
    },
    {
      "cell_type": "code",
      "source": [],
      "metadata": {
        "id": "B3p-tqedseP6"
      },
      "execution_count": null,
      "outputs": []
    },
    {
      "cell_type": "code",
      "source": [
        "try:\n",
        "  while True:\n",
        "    one_ticket = int(input(\"How much does one ticket cost? (kr)  \"))\n",
        "\n",
        "    month_card = int(input(\"How much does one month card cost? (kr)  \"))\n",
        "\n",
        "    cost_ticket = one_ticket * times\n",
        "    if cost_ticket > month_card:\n",
        "      print(f\"\"\"\n",
        "         Cost with one-time tickets: {cost_ticket} kr\\n\n",
        "         Cost with monthly card: {month_card} kr\\n\n",
        "         It is worth to buy a monthly card\\n\"\"\")\n",
        "      break\n",
        "    else:\n",
        "      print(f\"\"\"\n",
        "         Cost with one-time tickets: {cost_ticket} kr\\n\n",
        "         Cost with monthly card: {month_card} kr\\n\n",
        "         It is worth to buy tickets \\n\"\"\")\n",
        "      break\n",
        "\n",
        "except:\n",
        "    print(\"Number of times you take tram must be between 0 and 100\")"
      ],
      "metadata": {
        "id": "dXgjxcK4q5bo"
      },
      "execution_count": null,
      "outputs": []
    },
    {
      "cell_type": "markdown",
      "metadata": {
        "id": "-fAiUnc5itf1"
      },
      "source": []
    }
  ],
  "metadata": {
    "colab": {
      "provenance": [],
      "toc_visible": true,
      "include_colab_link": true
    },
    "kernelspec": {
      "display_name": "Python 3 (ipykernel)",
      "language": "python",
      "name": "python3"
    },
    "language_info": {
      "codemirror_mode": {
        "name": "ipython",
        "version": 3
      },
      "file_extension": ".py",
      "mimetype": "text/x-python",
      "name": "python",
      "nbconvert_exporter": "python",
      "pygments_lexer": "ipython3",
      "version": "3.8.13"
    },
    "vscode": {
      "interpreter": {
        "hash": "7e1998ff7f8aa20ada591c520b972326324e5ea05489af9e422744c7c09f6dad"
      }
    }
  },
  "nbformat": 4,
  "nbformat_minor": 0
}