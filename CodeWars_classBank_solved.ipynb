{
  "nbformat": 4,
  "nbformat_minor": 0,
  "metadata": {
    "colab": {
      "provenance": [],
      "toc_visible": true,
      "authorship_tag": "ABX9TyNmB3baW3tVynWA7g7WBt9U",
      "include_colab_link": true
    },
    "kernelspec": {
      "name": "python3",
      "display_name": "Python 3"
    },
    "language_info": {
      "name": "python"
    }
  },
  "cells": [
    {
      "cell_type": "markdown",
      "metadata": {
        "id": "view-in-github",
        "colab_type": "text"
      },
      "source": [
        "<a href=\"https://colab.research.google.com/github/Siwenli0615/General/blob/main/CodeWars_classBank_solved.ipynb\" target=\"_parent\"><img src=\"https://colab.research.google.com/assets/colab-badge.svg\" alt=\"Open In Colab\"/></a>"
      ]
    },
    {
      "cell_type": "code",
      "execution_count": 11,
      "metadata": {
        "id": "BEDMXKP1Nl3f"
      },
      "outputs": [],
      "source": [
        "class User(object):\n",
        "    def __init__(self, name, balance, checking_account):\n",
        "        self.name = name\n",
        "        self.balance = balance\n",
        "        self.checking_account = checking_account\n",
        "    def withdraw(self,amount):\n",
        "      if self.balance >= amount:\n",
        "        self.balance -= amount\n",
        "        return f'{self.name} has {self.balance}.'\n",
        "      else:\n",
        "        raise ValueError(f\"{self.name} does not have enough moeny to withdraw.\")\n",
        "\n",
        "    def check(self,other_user,money):\n",
        "      if other_user.checking_account:\n",
        "        if money<=other_user.balance:\n",
        "          other_user.balance -= money\n",
        "          self.balance += money\n",
        "          return f'{self.name} has {self.balance} and {other_user.name} has {other_user.balance}.'\n",
        "        else:\n",
        "          raise ValueError(f\"{other_user.name} does not have enough moeny to transfer.\")\n",
        "      else:\n",
        "        raise ValueError(f\"Account for {other_user.name} does not exist .\")\n",
        "    def add_cash(self,cash):\n",
        "      self.balance += cash\n",
        "      return f'{self.name} has {self.balance}.'\n",
        "\n",
        "\n",
        "\n"
      ]
    },
    {
      "cell_type": "code",
      "source": [
        "Jeff = User('Jeff', 70, True)\n",
        "Joe = User('Joe', 70, True)"
      ],
      "metadata": {
        "id": "1-AT_oYrPjgh"
      },
      "execution_count": 12,
      "outputs": []
    },
    {
      "cell_type": "code",
      "source": [
        "Jeff.withdraw(50)"
      ],
      "metadata": {
        "colab": {
          "base_uri": "https://localhost:8080/",
          "height": 35
        },
        "id": "eSR6chbJVLGb",
        "outputId": "99543f94-cdef-4bc3-cc34-f0823c96b4ea"
      },
      "execution_count": 15,
      "outputs": [
        {
          "output_type": "execute_result",
          "data": {
            "text/plain": [
              "'Jeff has 70.'"
            ],
            "application/vnd.google.colaboratory.intrinsic+json": {
              "type": "string"
            }
          },
          "metadata": {},
          "execution_count": 15
        }
      ]
    },
    {
      "cell_type": "code",
      "source": [
        "     Jeff = User('Jeff', 70, True)\n",
        "        Joe = User('Joe', 70, True)\n",
        "\n",
        "        test.assert_equals(Jeff.withdraw(2), 'Jeff has 68.')\n",
        "        test.assert_equals(Joe.check(Jeff, 50), 'Joe has 120 and Jeff has 18.')\n",
        "        test.assert_equals(Jeff.check(Joe, 80), 'Jeff has 98 and Joe has 40.')\n",
        "        test.assert_equals(Jeff.add_cash(20), 'Jeff has 118.')"
      ],
      "metadata": {
        "id": "yEH6ftYaPZja"
      },
      "execution_count": null,
      "outputs": []
    }
  ]
}