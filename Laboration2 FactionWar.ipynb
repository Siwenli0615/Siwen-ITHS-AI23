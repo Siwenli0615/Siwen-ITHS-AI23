{
  "nbformat": 4,
  "nbformat_minor": 0,
  "metadata": {
    "colab": {
      "provenance": [],
      "authorship_tag": "ABX9TyP21BSOXBAAm/D6fSUPbew8",
      "include_colab_link": true
    },
    "kernelspec": {
      "name": "python3",
      "display_name": "Python 3"
    },
    "language_info": {
      "name": "python"
    }
  },
  "cells": [
    {
      "cell_type": "markdown",
      "metadata": {
        "id": "view-in-github",
        "colab_type": "text"
      },
      "source": [
        "<a href=\"https://colab.research.google.com/github/Siwenli0615/General/blob/main/Laboration2%20FactionWar.ipynb\" target=\"_parent\"><img src=\"https://colab.research.google.com/assets/colab-badge.svg\" alt=\"Open In Colab\"/></a>"
      ]
    },
    {
      "cell_type": "code",
      "execution_count": 87,
      "metadata": {
        "id": "C0XvU5ofCYVR"
      },
      "outputs": [],
      "source": [
        "import random\n",
        "import matplotlib.pyplot as plt\n",
        "\n",
        "class Faction:\n",
        "\n",
        "\n",
        "    def __init__(self,name:str,apples:int,oranges:int,bananas:int,strawberries:int):\n",
        "      fruits = {\"apples\":apples,\"oranges\":oranges,\"bananas\":bananas,\"strawberries\":strawberries}\n",
        "      for key,value in fruits.items():\n",
        "        if not isinstance(value,int):\n",
        "          raise TypeError(f'{key} needs to be a number')\n",
        "        if not (0<=value<=200):\n",
        "          raise ValueError(f\"The limit of amount of {key} can only be between 0-200 ({value} added)\")\n",
        "      if not isinstance(name,str):\n",
        "        raise TypeError(\"Name needs to be a string\")\n",
        "\n",
        "      self.__name = name\n",
        "      self.__apples = apples\n",
        "      self.__oranges = oranges\n",
        "      self.__bananas = bananas\n",
        "      self.__strawberries = strawberries\n",
        "\n",
        "    @property\n",
        "    def name(self):\n",
        "      return self.__name\n",
        "    @property\n",
        "    def apples(self):\n",
        "      return self.__apples\n",
        "    @property\n",
        "    def oranges(self):\n",
        "      return self.__oranges\n",
        "    @property\n",
        "    def bananas(self):\n",
        "      return self.__bananas\n",
        "    @property\n",
        "    def strawberries(self):\n",
        "      return self.__strawberries\n",
        "\n",
        "\n",
        "\n",
        "\n",
        "    def __repr__(self)->str:\n",
        "      text = f\"faction(name='{self.__name}',apples={self.__apples}, oranges={self.__oranges}, bananas={self.__bananas}, strawberries={self.__strawberries})\"\n",
        "      return text\n",
        "\n",
        "\n",
        "\n",
        "\n",
        "\n",
        "    def inventory(self)->int:\n",
        "      total_fruits = self.__apples + self.__oranges + self.__bananas + self.__strawberries\n",
        "      return total_fruits\n",
        "\n",
        "\n",
        "\n",
        "\n",
        "    def status(self):\n",
        "      total_frukt = self.inventory()\n",
        "      if total_frukt <= 150:\n",
        "        print(f\"This aint nothin but a scratch! {self.__name} might be struggling for the moment, but will be back with vengance! (strength:{total_frukt})\")\n",
        "      elif (150<total_frukt<=500):\n",
        "        print(f\"The proud {self.__name} is VERY eager to toss some apples! Where are the opponents?! (strength:{total_frukt})\")\n",
        "      elif 500<total_frukt:\n",
        "        print(f\"{self.__name} is GODLIKE! Their position is super dominant! (strength:{total_frukt})\")\n",
        "\n",
        "\n",
        "\n",
        "    def alter_stock_value(self,fruit:str,stock:int):\n",
        "      possible_fruits = (\"apples\",\"oranges\",\"bananas\",\"strawberries\") # skall endast acceptera mellan de 4 sorter frukter\n",
        "      fruit = fruit.lower().strip()                  # ta bort risken för stora bokstav och mellanslag\n",
        "      if not isinstance(fruit,str):                  # samma kontroll som initialiseringen\n",
        "        raise TypeError(\"Fruit should be in text (string)\")\n",
        "      elif fruit not in possible_fruits:\n",
        "        raise ValueError(f\"{fruit} not found in inventory (apples/oranges/bananas/strawberries)\")\n",
        "      if not isinstance(stock,int):\n",
        "        raise TypeError(f\"The amount of {fruit} need to be a number (integer)\")\n",
        "      elif not (0<=stock<=200):\n",
        "        raise ValueError(f\"The amount of {fruit} need to be between 0-200\")\n",
        "\n",
        "      if fruit == \"apples\":           # när allt data är ok då gäller det att ändra på stocken till den rätta frukten\n",
        "        self.__apples = stock\n",
        "      elif fruit == \"oranges\":\n",
        "        self.__oranges = stock\n",
        "      elif fruit == \"bananas\":\n",
        "        self.__bananas = stock\n",
        "      elif fruit == \"strawberries\":\n",
        "        self.__strawberries = stock\n",
        "\n",
        "\n",
        "\n",
        "    def visualize_resources(self):\n",
        "\n",
        "\n",
        "\n",
        "    def organical_growth(self):\n",
        "\n",
        "        pass\n",
        "\n",
        "\n",
        "    def __mul__(self, other):\n",
        "\n",
        "        pass\n"
      ]
    },
    {
      "cell_type": "code",
      "source": [
        "fire_nation = Faction('Fire Nation', 100, 100, 100, 100)\n",
        "\n",
        "fire_nation.alter_stock_value('apples',200)\n",
        "print(f\"new apples: {fire_nation.apples}\")"
      ],
      "metadata": {
        "colab": {
          "base_uri": "https://localhost:8080/"
        },
        "id": "01caQiq-ThvH",
        "outputId": "feea1c59-04b8-460c-b3e0-fc722a454e70"
      },
      "execution_count": 88,
      "outputs": [
        {
          "output_type": "stream",
          "name": "stdout",
          "text": [
            "new apples: 200\n"
          ]
        }
      ]
    },
    {
      "cell_type": "code",
      "source": [
        "fire_nation = Faction('Fire Nation', 100, 100, 100, 100)\n",
        "earth_kingdom = Faction('Earth Kingdom', 0, 0, 0, 0)\n",
        "water_tribe = Faction('Water Tribe', 100, 100, 100, 100)\n",
        "air_nomads = Faction('Air Nomads', 100, 100, 100, 100)"
      ],
      "metadata": {
        "id": "s2YPXqBAFl8S"
      },
      "execution_count": 64,
      "outputs": []
    },
    {
      "cell_type": "code",
      "source": [
        "print(fire_nation)\n",
        "print(earth_kingdom)\n",
        "print(water_tribe)\n",
        "print(air_nomads)"
      ],
      "metadata": {
        "colab": {
          "base_uri": "https://localhost:8080/"
        },
        "id": "X0FbVGIPFnMG",
        "outputId": "2faba93e-9bc7-4269-b614-bfd54e858f5f"
      },
      "execution_count": 55,
      "outputs": [
        {
          "output_type": "stream",
          "name": "stdout",
          "text": [
            "faction(name='Fire Nation',apples=100, oranges=100, bananas=100, strawberries=100)\n",
            "faction(name='Earth Kingdom',apples=0, oranges=0, bananas=0, strawberries=0)\n",
            "faction(name='Water Tribe',apples=100, oranges=100, bananas=100, strawberries=100)\n",
            "faction(name='Air Nomads',apples=100, oranges=100, bananas=100, strawberries=100)\n"
          ]
        }
      ]
    },
    {
      "cell_type": "code",
      "source": [
        "test = fire_nation.inventory()\n",
        "print(test)\n",
        "print(fire_nation.apples)\n",
        "fire_nation.status()\n",
        "earth_kingdom.status()"
      ],
      "metadata": {
        "colab": {
          "base_uri": "https://localhost:8080/"
        },
        "id": "cXPAcASyJP6S",
        "outputId": "bbcdefa5-ecf9-43c0-9561-c21f59d2377c"
      },
      "execution_count": 65,
      "outputs": [
        {
          "output_type": "stream",
          "name": "stdout",
          "text": [
            "400\n",
            "100\n",
            "The proud Fire Nation is VERY eager to toss some apples! Where are the opponents?! (strength:400)\n",
            "This aint nothin but a scratch! Earth Kingdom might be struggling for the moment, but will be back with vengance! (strength:0)\n"
          ]
        }
      ]
    },
    {
      "cell_type": "code",
      "source": [],
      "metadata": {
        "id": "0YJjX0XaMups"
      },
      "execution_count": null,
      "outputs": []
    }
  ]
}