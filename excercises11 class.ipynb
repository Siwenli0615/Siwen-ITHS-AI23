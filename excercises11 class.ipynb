{
  "nbformat": 4,
  "nbformat_minor": 0,
  "metadata": {
    "colab": {
      "provenance": [],
      "toc_visible": true,
      "authorship_tag": "ABX9TyNrYzkVfADrc4vuUPGalBZz",
      "include_colab_link": true
    },
    "kernelspec": {
      "name": "python3",
      "display_name": "Python 3"
    },
    "language_info": {
      "name": "python"
    }
  },
  "cells": [
    {
      "cell_type": "markdown",
      "metadata": {
        "id": "view-in-github",
        "colab_type": "text"
      },
      "source": [
        "<a href=\"https://colab.research.google.com/github/Siwenli0615/General/blob/main/excercises11%20class.ipynb\" target=\"_parent\"><img src=\"https://colab.research.google.com/assets/colab-badge.svg\" alt=\"Open In Colab\"/></a>"
      ]
    },
    {
      "cell_type": "code",
      "execution_count": 36,
      "metadata": {
        "id": "EFQ3046j8gRA"
      },
      "outputs": [],
      "source": [
        "class UnitUS():\n",
        "  def __init__(self,value:(int,float)):\n",
        "    if not isinstance(value,(int,float)):\n",
        "      raise TypeError('The value entered needs to be a number/decimal number')\n",
        "    self.__number = value\n",
        "  @property\n",
        "  def number(self):\n",
        "    return self.__number\n",
        "\n",
        "\n",
        "  def inch_to_cm(self):\n",
        "    centimeter = round(self.number * 2.54,2)\n",
        "    return centimeter\n",
        "  def foot_to_meters(self):\n",
        "    meter = round(self.number * 0.3048,2)\n",
        "    return meter\n",
        "  def pound_to_kg(self):\n",
        "    kg = round(self.number * 0.45359237,2)\n",
        "    return kg\n",
        "  def __repr__(self):\n",
        "    return f'''\n",
        "    Converting US standard inch/foot/pound into cm/meter/kg\n",
        "    use:\n",
        "    .foot_to_meters()\n",
        "    .inch_to_cm()\n",
        "    .pound_to_kg()\n",
        "    '''\n"
      ]
    },
    {
      "cell_type": "code",
      "source": [
        "units = UnitUS(-1.9)\n",
        "print(f\"5 feet = {units.foot_to_meters()} m\")\n",
        "print(f\"5 inch = {units.inch_to_cm()} cm\")\n",
        "print(f\"5 pounds = {units.pound_to_kg()} kg\")"
      ],
      "metadata": {
        "colab": {
          "base_uri": "https://localhost:8080/"
        },
        "id": "hU0vVV29-kB_",
        "outputId": "ce950de1-93c9-4f92-bb97-366ebceccd4c"
      },
      "execution_count": 30,
      "outputs": [
        {
          "output_type": "stream",
          "name": "stdout",
          "text": [
            "5 feet = -0.58 m\n",
            "5 inch = -4.83 cm\n",
            "5 pounds = -0.86 kg\n"
          ]
        }
      ]
    },
    {
      "cell_type": "code",
      "source": [
        "conversion = UnitUS(5)\n",
        "print(conversion.pound_to_kg())"
      ],
      "metadata": {
        "colab": {
          "base_uri": "https://localhost:8080/"
        },
        "id": "5WXWZqp-_8ey",
        "outputId": "154a56b7-2a93-4d84-9c4a-5313bab587f9"
      },
      "execution_count": 34,
      "outputs": [
        {
          "output_type": "stream",
          "name": "stdout",
          "text": [
            "2.27\n"
          ]
        }
      ]
    },
    {
      "cell_type": "code",
      "source": [
        "print(UnitUS(5))"
      ],
      "metadata": {
        "colab": {
          "base_uri": "https://localhost:8080/"
        },
        "id": "Hj3OxWNDCtuP",
        "outputId": "a88b7a64-9f1f-484a-82a5-1bce2e3cfa8a"
      },
      "execution_count": 37,
      "outputs": [
        {
          "output_type": "stream",
          "name": "stdout",
          "text": [
            " \n",
            "    Converting US standard inch/foot/pound into cm/meter/kg\n",
            "    use:\n",
            "    .foot_to_meters()\n",
            "    .inch_to_cm()\n",
            "    .pound_to_kg()\n",
            "    \n"
          ]
        }
      ]
    }
  ]
}