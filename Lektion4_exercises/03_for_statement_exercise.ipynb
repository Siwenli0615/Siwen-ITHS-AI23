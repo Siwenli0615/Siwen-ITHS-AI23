{
  "cells": [
    {
      "cell_type": "markdown",
      "metadata": {
        "id": "view-in-github",
        "colab_type": "text"
      },
      "source": [
        "<a href=\"https://colab.research.google.com/github/Siwenli0615/Hello-world/blob/main/Lektion4_exercises/03_for_statement_exercise.ipynb\" target=\"_parent\"><img src=\"https://colab.research.google.com/assets/colab-badge.svg\" alt=\"Open In Colab\"/></a>"
      ]
    },
    {
      "cell_type": "markdown",
      "metadata": {
        "id": "P9bSTaK7PmVT"
      },
      "source": [
        "# for statement exercises\n",
        "\n",
        "---\n",
        "These are introductory exercises in Python with focus in **for** statement.\n",
        "\n",
        "<p class = \"alert alert-info\" role=\"alert\"><b>Remember</b> to use <b>descriptive variable names</b> in order to get readable code </p>\n",
        "\n",
        "<p class = \"alert alert-info\" role=\"alert\"><b>Remember</b> to format your answers in a neat way using <b>f-strings</b>\n",
        "\n",
        "<p class = \"alert alert-info\" role=\"alert\"><b>Remember</b> to format your input questions in a pedagogical way to guide the user\n",
        "\n",
        "The number of stars (\\*), (\\*\\*), (\\*\\*\\*) denotes the difficulty level of the task\n",
        "\n",
        "---"
      ]
    },
    {
      "cell_type": "markdown",
      "metadata": {
        "id": "9gRZO9cxPmVV"
      },
      "source": [
        "## 1. Count numbers (*)\n",
        "\n",
        "Use a **for** statement to count from:\n",
        "\n",
        "&nbsp; a) &nbsp; -10 to 10 with one increment (*)\n",
        "\n",
        "&nbsp; b) &nbsp; -10 to 10 with two increment (*)\n",
        "\n",
        "<details>\n",
        "\n",
        "<summary>Answer </summary>\n",
        "\n",
        "```\n",
        "a) -10 -9 -8 -7 -6 -5 -4 -3 -2 -1 0 1 2 3 4 5 6 7 8 9 10\n",
        "\n",
        "b) -10  -8  -6  -4  -2  0  2  4  6  8  10\n",
        "```\n",
        "\n",
        "</details>\n",
        "\n"
      ]
    },
    {
      "cell_type": "code",
      "source": [
        "#Use a for statement to count from:\n",
        "#a)   -10 to 10 with one increment (*)\n",
        "\n",
        "for number in range(-10,11):\n",
        "  print(number,end=\" \")\n"
      ],
      "metadata": {
        "id": "YgMsCJZwd5QI",
        "outputId": "46740a7a-05ae-4bb1-ddbc-38b4f73584f6",
        "colab": {
          "base_uri": "https://localhost:8080/"
        }
      },
      "execution_count": 5,
      "outputs": [
        {
          "output_type": "stream",
          "name": "stdout",
          "text": [
            "-10 -9 -8 -7 -6 -5 -4 -3 -2 -1 0 1 2 3 4 5 6 7 8 9 10 "
          ]
        }
      ]
    },
    {
      "cell_type": "code",
      "source": [
        "# b)   -10 to 10 with two increment (*)\n",
        "for i in range(-10,11,2):\n",
        "  print(i, end=\" \")"
      ],
      "metadata": {
        "id": "TTW4roqneZUM",
        "outputId": "929a78f5-8e47-4b52-9448-80e5253a4862",
        "colab": {
          "base_uri": "https://localhost:8080/"
        }
      },
      "execution_count": 7,
      "outputs": [
        {
          "output_type": "stream",
          "name": "stdout",
          "text": [
            "-10 -8 -6 -4 -2 0 2 4 6 8 10 "
          ]
        }
      ]
    },
    {
      "cell_type": "markdown",
      "metadata": {
        "id": "t-3FxnC6PmVV"
      },
      "source": [
        "---\n",
        "## 2. Arithmetic sum (*)\n",
        "Use a **for** statement to compute the following sums:\n",
        "\n",
        "&nbsp; a) &nbsp; $\\text{sum} = 1 + 2 + \\ldots + 99+ 100$ (*)\n",
        "\n",
        "&nbsp; b) &nbsp; $\\text{sum} = 1 + 3 + 5 + \\ldots + 97 + 99$ (*)\n",
        "\n",
        "<details>\n",
        "\n",
        "<summary>Answer </summary>\n",
        "\n",
        "```\n",
        "a) 1 + 2 + ... + 99 + 100 = 5050\n",
        "\n",
        "b) 1 + 3 + 5 +...+ 97 + 99 = 2500\n",
        "```\n",
        "\n",
        "</details>\n"
      ]
    },
    {
      "cell_type": "code",
      "source": [
        "#Use a for statement to compute the following sums:\n",
        "#  a)    sum=1+2+…+99+100  (*)\n",
        "sum = 0\n",
        "for i in range(1,101):\n",
        "  sum += i\n",
        "\n",
        "print(sum)\n"
      ],
      "metadata": {
        "id": "SEb4BarPepBK",
        "outputId": "93047664-0347-4f51-dd10-7cd4f556d18a",
        "colab": {
          "base_uri": "https://localhost:8080/"
        }
      },
      "execution_count": 9,
      "outputs": [
        {
          "output_type": "stream",
          "name": "stdout",
          "text": [
            "5050\n"
          ]
        }
      ]
    },
    {
      "cell_type": "code",
      "source": [
        "#b)    sum=1+3+5+…+97+99  (*)\n",
        "sum=0\n",
        "for i in range(1,100,2):\n",
        "  sum+=i\n",
        "print(sum)"
      ],
      "metadata": {
        "id": "rLluZhxme_DH",
        "outputId": "875961ce-5d76-42ff-9571-cfabe1577a8a",
        "colab": {
          "base_uri": "https://localhost:8080/"
        }
      },
      "execution_count": 10,
      "outputs": [
        {
          "output_type": "stream",
          "name": "stdout",
          "text": [
            "2500\n"
          ]
        }
      ]
    },
    {
      "cell_type": "markdown",
      "metadata": {
        "id": "vUheZeUMPmVV"
      },
      "source": [
        "---\n",
        "## 3. Multiplication table (*)\n",
        "Use **for** statement(s) to:\n",
        "\n",
        "&nbsp; a) &nbsp; print out the 6th multiplication table from 0 to 10 (*)\n",
        "\n",
        "&nbsp; b) &nbsp; let the user input the **table**, **start** and **end** of the table. (*)\n",
        "\n",
        "&nbsp; c) &nbsp; print out a full multiplication table from 0 to 10. (**)\n",
        "\n",
        "\n",
        "<details>\n",
        "\n",
        "<summary>Hint</summary>\n",
        "\n",
        "c) Use nested for-loops, which means a for-loop in a for-loop. To format the table nicely, use **f-string**:\n",
        "\n",
        "```python\n",
        "print(f\"{number :4}\", end = \"\")\n",
        "```\n",
        "\n",
        "\n",
        "</details>\n",
        "\n",
        "\n",
        "<details>\n",
        "\n",
        "<summary>Answer </summary>\n",
        "\n",
        "a)\n",
        "```\n",
        "0 6 12 18 24 30 36 42 48 54 60\n",
        "```\n",
        "\n",
        "b) e.g.\n",
        "\n",
        "```\n",
        "Which table are you interested in? 5\n",
        "Specify start of table: 5\n",
        "Specify end of table: 12\n",
        "\n",
        "Your 5th multiplication table from 5 to 12: 25 30 35 40 45 50 55 60\n",
        "```\n",
        "\n",
        "c)\n",
        "\n",
        "```\n",
        "   0   0   0   0   0   0   0   0   0   0   0\n",
        "   0   1   2   3   4   5   6   7   8   9  10\n",
        "   0   2   4   6   8  10  12  14  16  18  20\n",
        "   0   3   6   9  12  15  18  21  24  27  30\n",
        "   0   4   8  12  16  20  24  28  32  36  40\n",
        "   0   5  10  15  20  25  30  35  40  45  50\n",
        "   0   6  12  18  24  30  36  42  48  54  60\n",
        "   0   7  14  21  28  35  42  49  56  63  70\n",
        "   0   8  16  24  32  40  48  56  64  72  80\n",
        "   0   9  18  27  36  45  54  63  72  81  90\n",
        "   0  10  20  30  40  50  60  70  80  90 100\n",
        "```\n",
        "\n",
        "</details>"
      ]
    },
    {
      "cell_type": "code",
      "source": [
        "#Use for statement(s) to:\n",
        "\n",
        "# a)   print out the 6th multiplication table from 0 to 10 (*)\n",
        "for i in range(11):\n",
        "  print(f\"6 * {i} = {i*6}\")\n"
      ],
      "metadata": {
        "id": "Vy3tHlfQfMMC",
        "outputId": "7bc84691-c060-454d-a789-a4ac15ca2530",
        "colab": {
          "base_uri": "https://localhost:8080/"
        }
      },
      "execution_count": 13,
      "outputs": [
        {
          "output_type": "stream",
          "name": "stdout",
          "text": [
            "6 * 0 = 0\n",
            "6 * 1 = 6\n",
            "6 * 2 = 12\n",
            "6 * 3 = 18\n",
            "6 * 4 = 24\n",
            "6 * 5 = 30\n",
            "6 * 6 = 36\n",
            "6 * 7 = 42\n",
            "6 * 8 = 48\n",
            "6 * 9 = 54\n",
            "6 * 10 = 60\n"
          ]
        }
      ]
    },
    {
      "cell_type": "code",
      "source": [
        " # b)   let the user input the table, start and end of the table. (*)\n",
        "print(\"We can have some multiplication, you can choose table, start and end and I will give you the answer, lets try!\")\n",
        "table = int(input(\"What multiplication table shall we try? >\"))\n",
        "start_number = int(input(\"starting at? >\"))\n",
        "end_number = int(input(\"End at? >\"))\n",
        "print(\"\\n Here it is: \")\n",
        "for i in range(start_number, end_number+1):\n",
        "  print(f\" {table} x {i} = {table * i}\")\n"
      ],
      "metadata": {
        "id": "ETeHGKR9fn9G",
        "outputId": "a22168d6-d082-4ccf-a7f3-f1f47757a193",
        "colab": {
          "base_uri": "https://localhost:8080/"
        }
      },
      "execution_count": 23,
      "outputs": [
        {
          "output_type": "stream",
          "name": "stdout",
          "text": [
            "We can have some multiplication, you can choose table, start and end and I will give you the answer, lets try!\n",
            "What multiplication table shall we try? >5\n",
            "starting at? >2\n",
            "End at? >3\n",
            "\n",
            " Here it is: \n",
            " 5 x 2 = 10\n",
            " 5 x 3 = 15\n"
          ]
        }
      ]
    },
    {
      "cell_type": "code",
      "source": [
        "#  c)   print out a full multiplication table from 0 to 10. (**)\n",
        "print(\"Here is a multiplication table from 0 to 10: \")\n",
        "for table in range(0,11):\n",
        "  print(\"\\n\")\n",
        "  for count in range(0,11):\n",
        "    print(f\"{table*count}\", end = \"  \")\n"
      ],
      "metadata": {
        "id": "tmjfdR2shd3G",
        "outputId": "236a7ad2-a5e9-450e-b48c-f88317321b44",
        "colab": {
          "base_uri": "https://localhost:8080/"
        }
      },
      "execution_count": 33,
      "outputs": [
        {
          "output_type": "stream",
          "name": "stdout",
          "text": [
            "Here is a multiplication table from 0 to 10: \n",
            "\n",
            "\n",
            "0  0  0  0  0  0  0  0  0  0  0  \n",
            "\n",
            "0  1  2  3  4  5  6  7  8  9  10  \n",
            "\n",
            "0  2  4  6  8  10  12  14  16  18  20  \n",
            "\n",
            "0  3  6  9  12  15  18  21  24  27  30  \n",
            "\n",
            "0  4  8  12  16  20  24  28  32  36  40  \n",
            "\n",
            "0  5  10  15  20  25  30  35  40  45  50  \n",
            "\n",
            "0  6  12  18  24  30  36  42  48  54  60  \n",
            "\n",
            "0  7  14  21  28  35  42  49  56  63  70  \n",
            "\n",
            "0  8  16  24  32  40  48  56  64  72  80  \n",
            "\n",
            "0  9  18  27  36  45  54  63  72  81  90  \n",
            "\n",
            "0  10  20  30  40  50  60  70  80  90  100  "
          ]
        }
      ]
    },
    {
      "cell_type": "markdown",
      "metadata": {
        "id": "zMfZPT4SPmVW"
      },
      "source": [
        "---\n",
        "## 4. Faculty (*)\n",
        "\n",
        "Use a **for** statement to compute $n!$.\n",
        "\n",
        "$n! = 1\\cdot2\\cdot3\\cdot\\ldots\\cdot(n-1)\\cdot n $\n",
        "\n",
        "Let the user input $n$."
      ]
    },
    {
      "cell_type": "code",
      "source": [
        "#Use a for statement to compute  n! .\n",
        "\n",
        "#n!=1⋅2⋅3⋅…⋅(n−1)⋅n\n",
        "\n",
        "#Let the user input  n .\n",
        "result = 1\n",
        "n = int(input(\"Choose the number 'n' and I will give you n! >\"))\n",
        "for i in range(1, n+1):\n",
        "  result *= i\n",
        "print(f\"The answer is {result}\")"
      ],
      "metadata": {
        "id": "zJqEVQN6i2wA",
        "outputId": "41461689-f3a8-4460-fd31-da0f9ee0bf13",
        "colab": {
          "base_uri": "https://localhost:8080/"
        }
      },
      "execution_count": 38,
      "outputs": [
        {
          "output_type": "stream",
          "name": "stdout",
          "text": [
            "Choose the number 'n' and I will give you n! >5\n",
            "The answer is 120\n"
          ]
        }
      ]
    },
    {
      "cell_type": "markdown",
      "metadata": {
        "id": "QrbJGJygPmVW"
      },
      "source": [
        "---\n",
        "## 5. Guess the number (*)\n",
        "\n",
        "The computer thinks of a four-digit number. Start by creating a random four-digit number. Use **for** statement to figure out a correct guess\n",
        "\n",
        "<br>\n",
        "<details>\n",
        "\n",
        "<summary>Answer </summary>\n",
        "\n",
        "e.g.\n",
        "```\n",
        "The final guess is 8993\n",
        "The computer number is 8993\n",
        "```\n",
        "\n",
        "</details>"
      ]
    },
    {
      "cell_type": "code",
      "source": [
        "# The computer thinks of a four-digit number. Start by creating a random four-digit number. Use for statement to figure out a correct guess\n",
        "import random\n",
        "first_digit = random.randint(0,9)\n",
        "second_digit = random.randint(0,9)\n",
        "third_digit = random.randint(0,9)\n",
        "fourth_digit = random.randint(0,9)\n",
        "\n",
        "random_number = [first_digit, second_digit,third_digit,fourth_digit]\n",
        "print(random_number)\n",
        "print(f\"The random number: {first_digit}{second_digit}{third_digit}{fourth_digit} \")\n",
        "\n",
        "print(f\"My guessed number: \",end=\"\")\n",
        "for i in range(len(random_number)):\n",
        "  for j in range(0,10):\n",
        "    if j == random_number[i]:\n",
        "      print(j,end=\"\")\n",
        "      break\n",
        "\n",
        "\n",
        "\n"
      ],
      "metadata": {
        "id": "peK3bhQHkLkc",
        "outputId": "a8973c94-0e07-4863-a9cd-6a3b2fa7314c",
        "colab": {
          "base_uri": "https://localhost:8080/"
        }
      },
      "execution_count": 53,
      "outputs": [
        {
          "output_type": "stream",
          "name": "stdout",
          "text": [
            "[6, 5, 8, 5]\n",
            "The random number: 6585 \n",
            "My guessed number: 6585"
          ]
        }
      ]
    },
    {
      "cell_type": "markdown",
      "metadata": {
        "id": "H4DC6pSOPmVW"
      },
      "source": [
        "---\n",
        "## 6. Rice on chessboard (*)\n",
        "\n",
        "In first square of the chessboard there is one grain of rice, in the second square there is two grains, in the third square there is four grains and so on. How many grains are there in the whole chessboard when all squares are filled using this pattern?\n",
        "\n",
        "<img align=\"left\" src=\"https://github.com/aleylani/Python/blob/main/assets/chessboard.png?raw=1\" width=\"300\"/>"
      ]
    },
    {
      "cell_type": "code",
      "source": [
        "#In first square of the chessboard there is one grain of rice, in the second square there is two grains, in the third square there is four grains and so on. How many grains are there in the whole chessboard when all squares are filled using this pattern?\n",
        "\n",
        "# number of square on the chessboard: 8 x 8 = 64\n",
        "# we want to have the sum of 1+2+4+8+...+2^63\n",
        "sum = 0\n",
        "for i in range(0,64):\n",
        "  sum += 2**i\n",
        "\n",
        "print(f\"The total amount is {sum} grains\")\n",
        "\n",
        "m = 0.065 #weight_of_one_grain is 0.065 gram\n",
        "tot_weight = sum * 0.065 /1000/1000 # weight in ton\n",
        "tot_weight_billion = round(tot_weight/1000000000,2) # weight in billion ton\n",
        "print(f\"that is {tot_weight_billion} billion ton!\")\n",
        "\n"
      ],
      "metadata": {
        "id": "g1ex0XzZmzbT",
        "outputId": "1f1b13c0-be2e-4a12-8547-d65375116b83",
        "colab": {
          "base_uri": "https://localhost:8080/"
        }
      },
      "execution_count": 57,
      "outputs": [
        {
          "output_type": "stream",
          "name": "stdout",
          "text": [
            "The total amount is 18446744073709551615 grains\n",
            "that is 1199.04 billion ton!\n"
          ]
        }
      ]
    },
    {
      "cell_type": "markdown",
      "metadata": {
        "id": "4QoVQ_6jPmVX"
      },
      "source": [
        "<details>\n",
        "\n",
        "<summary>Answer</summary>\n",
        "\n",
        "```\n",
        "18446744073709551615 number of grains\n",
        "```\n",
        "\n",
        "</details>"
      ]
    }
  ],
  "metadata": {
    "colab": {
      "provenance": [],
      "toc_visible": true,
      "include_colab_link": true
    },
    "kernelspec": {
      "display_name": "Python 3 (ipykernel)",
      "language": "python",
      "name": "python3"
    },
    "language_info": {
      "codemirror_mode": {
        "name": "ipython",
        "version": 3
      },
      "file_extension": ".py",
      "mimetype": "text/x-python",
      "name": "python",
      "nbconvert_exporter": "python",
      "pygments_lexer": "ipython3",
      "version": "3.8.13"
    },
    "vscode": {
      "interpreter": {
        "hash": "0da836a34428266995a795f1e1e27b816fa1c02f148d9728b3fbbbc5459afca6"
      }
    }
  },
  "nbformat": 4,
  "nbformat_minor": 0
}