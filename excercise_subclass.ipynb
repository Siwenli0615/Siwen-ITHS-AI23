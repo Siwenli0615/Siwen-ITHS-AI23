{
  "nbformat": 4,
  "nbformat_minor": 0,
  "metadata": {
    "colab": {
      "provenance": [],
      "authorship_tag": "ABX9TyMV5ur8+odVs/IBC5QL6S5Z",
      "include_colab_link": true
    },
    "kernelspec": {
      "name": "python3",
      "display_name": "Python 3"
    },
    "language_info": {
      "name": "python"
    }
  },
  "cells": [
    {
      "cell_type": "markdown",
      "metadata": {
        "id": "view-in-github",
        "colab_type": "text"
      },
      "source": [
        "<a href=\"https://colab.research.google.com/github/Siwenli0615/General/blob/main/excercise_subclass.ipynb\" target=\"_parent\"><img src=\"https://colab.research.google.com/assets/colab-badge.svg\" alt=\"Open In Colab\"/></a>"
      ]
    },
    {
      "cell_type": "code",
      "execution_count": 1,
      "metadata": {
        "id": "U3Ph_-YLeR6a"
      },
      "outputs": [],
      "source": [
        "class Flygplan:\n",
        "  def __init__(self,company:str,modell:str,passenger:str):\n",
        "    self.company = company\n",
        "    self.mode = modell\n",
        "    self.passenger = passenger\n",
        "\n",
        "  def info(self):\n",
        "    print(f\"This airplane is owned by {self.company}, model {self.modell}, and can have max {self.passenger} passengers \")\n",
        "\n",
        "  def make_some_noise(self):\n",
        "    print(f'*making some airplane-sound*!')\n",
        "\n",
        ""
      ]
    },
    {
      "cell_type": "code",
      "source": [
        "class Stridsflygplan(Flygplan):\n",
        "  def __init__(self,company,modell,passenger,rocket):\n",
        "    super().__init__(self,company,modell,passenger)\n",
        "    self.rocket = rocket\n",
        "\n",
        ""
      ],
      "metadata": {
        "id": "uujBo_gClBpZ"
      },
      "execution_count": null,
      "outputs": []
    },
    {
      "cell_type": "code",
      "source": [
        "class Passagerarflygplan(Flygplan):\n",
        "  def __init__(self,company,modell,passenger, weekly_schedule):\n",
        "    super().__init__(self,company,modell,passenger)\n",
        "\n",
        "    self.weekly_schedule = weekly_schedule"
      ],
      "metadata": {
        "id": "MrS_vxYouQfP"
      },
      "execution_count": null,
      "outputs": []
    }
  ]
}