{
  "nbformat": 4,
  "nbformat_minor": 0,
  "metadata": {
    "colab": {
      "provenance": [],
      "authorship_tag": "ABX9TyMy1jLFCf0wn1/RR/j4vTQo",
      "include_colab_link": true
    },
    "kernelspec": {
      "name": "python3",
      "display_name": "Python 3"
    },
    "language_info": {
      "name": "python"
    }
  },
  "cells": [
    {
      "cell_type": "markdown",
      "metadata": {
        "id": "view-in-github",
        "colab_type": "text"
      },
      "source": [
        "<a href=\"https://colab.research.google.com/github/Siwenli0615/General/blob/main/excercise_subclasses.ipynb\" target=\"_parent\"><img src=\"https://colab.research.google.com/assets/colab-badge.svg\" alt=\"Open In Colab\"/></a>"
      ]
    },
    {
      "cell_type": "code",
      "execution_count": 44,
      "metadata": {
        "id": "U3Ph_-YLeR6a"
      },
      "outputs": [],
      "source": [
        "class Flygplan:\n",
        "  def __init__(self,company:str,modell:str,passenger:int):\n",
        "    if not isinstance(company,str):\n",
        "      raise TypeError(\"Need to be text\")\n",
        "    if not isinstance(modell,str):\n",
        "      raise TypeError(\"Need to be text\")\n",
        "    if not isinstance(passenger,int):\n",
        "      raise TypeError(\"Need to be integer\")\n",
        "    elif passenger<=1:\n",
        "      raise ValueError(\"Need to have at least one person to operate the aircraft\")\n",
        "\n",
        "    self.company = company\n",
        "    self.model = modell\n",
        "    self.passenger = passenger\n",
        "\n",
        "  def info(self):\n",
        "    print(f\"This airplane is owned by {self.company}, model {self.model}, and can have max {self.passenger} passengers \")\n",
        "\n",
        "  def make_some_noise(self):\n",
        "    print(f'*making some airplane-sound*!')\n",
        "\n",
        "  def belonging(self):\n",
        "    print(f\"This {self.model} belongs to the company {self.company}\")\n",
        "\n",
        "\n",
        "\n",
        ""
      ]
    },
    {
      "cell_type": "code",
      "source": [
        "class Stridsflygplan(Flygplan):\n",
        "  def __init__(self,company,modell,passenger,rocket:int):\n",
        "    super().__init__(company,modell,passenger)\n",
        "    if not isinstance(rocket,int):\n",
        "      raise TypeError(\"Need to be a integer\")\n",
        "    if rocket<=0:\n",
        "      raise ValueError(\"Need to have at least one rocket installed\")\n",
        "    self.rocket = rocket\n",
        "\n",
        "  def power(self):\n",
        "      print(f\"This fighter airplane has {self.rocket} rockets and is able to eliminate several targets\")\n",
        "\n",
        "  def make_some_noise(self):\n",
        "    print(f'Booom!')\n",
        "\n",
        ""
      ],
      "metadata": {
        "id": "uujBo_gClBpZ"
      },
      "execution_count": 51,
      "outputs": []
    },
    {
      "cell_type": "code",
      "source": [
        "class Passagerarflygplan(Flygplan):\n",
        "  def __init__(self,company,modell,passenger, weekly_schedule):\n",
        "    super().__init__(company,modell,passenger)\n",
        "    if not isinstance(weekly_schedule,int):\n",
        "      raise TypeError(\"Need to be a integer\")\n",
        "    if weekly_schedule<0:\n",
        "      raise ValueError(\"Schedule cannot be negative\")\n",
        "\n",
        "    self.weekly_schedule = weekly_schedule\n",
        "\n",
        "  def value_adding(self):\n",
        "      print(f'This airplane goes {self.weekly_schedule} times a week and can have maximum {self.weekly_schedule * self.passenger} passengers a week')"
      ],
      "metadata": {
        "id": "MrS_vxYouQfP"
      },
      "execution_count": 45,
      "outputs": []
    },
    {
      "cell_type": "code",
      "source": [
        "flyg1 = Passagerarflygplan(\"SAS\",\"AirBus300\",300,5)\n",
        "flyg2 = Stridsflygplan(\"FMV\",\"Gripen\",2,4)\n",
        "flyg1.belonging()\n",
        "flyg1.info()\n",
        "flyg1.make_some_noise()\n",
        "flyg1.value_adding()\n",
        "print()\n",
        "flyg2.power()\n",
        "\n"
      ],
      "metadata": {
        "colab": {
          "base_uri": "https://localhost:8080/"
        },
        "id": "-2C-UVQdxaYl",
        "outputId": "e13039b0-494b-4875-92a4-fa3f221e211f"
      },
      "execution_count": 53,
      "outputs": [
        {
          "output_type": "stream",
          "name": "stdout",
          "text": [
            "This AirBus300 belongs to the company SAS\n",
            "This airplane is owned by SAS, model AirBus300, and can have max 300 passengers \n",
            "*making some airplane-sound*!\n",
            "This airplane goes 5 times a week and can have maximum 1500 passengers a week\n",
            "\n",
            "This fighter airplane has 4 rockets and is able to eliminate several targets\n"
          ]
        }
      ]
    }
  ]
}