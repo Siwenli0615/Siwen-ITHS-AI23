{
  "nbformat": 4,
  "nbformat_minor": 0,
  "metadata": {
    "colab": {
      "provenance": [],
      "toc_visible": true,
      "authorship_tag": "ABX9TyOzsaebI3LqFL+dJrHbSh29",
      "include_colab_link": true
    },
    "kernelspec": {
      "name": "python3",
      "display_name": "Python 3"
    },
    "language_info": {
      "name": "python"
    }
  },
  "cells": [
    {
      "cell_type": "markdown",
      "metadata": {
        "id": "view-in-github",
        "colab_type": "text"
      },
      "source": [
        "<a href=\"https://colab.research.google.com/github/Siwenli0615/Hello-world/blob/main/CodeWar_sudoku.ipynb\" target=\"_parent\"><img src=\"https://colab.research.google.com/assets/colab-badge.svg\" alt=\"Open In Colab\"/></a>"
      ]
    },
    {
      "cell_type": "code",
      "source": [
        "puzzle = [[5,3,0,0,7,0,0,0,0],\n",
        "          [6,0,0,1,9,5,0,0,0],\n",
        "          [0,9,8,0,0,0,0,6,0],\n",
        "          [8,0,0,0,6,0,0,0,3],\n",
        "          [4,0,0,8,0,3,0,0,1],\n",
        "          [7,0,0,0,2,0,0,0,6],\n",
        "          [0,6,0,0,0,0,2,8,0],\n",
        "          [0,0,0,4,1,9,0,0,5],\n",
        "          [0,0,0,0,8,0,0,7,9]]\n",
        "\n",
        "solution = [[5,3,4,6,7,8,9,1,2],\n",
        "            [6,7,2,1,9,5,3,4,8],\n",
        "            [1,9,8,3,4,2,5,6,7],\n",
        "            [8,5,9,7,6,1,4,2,3],\n",
        "            [4,2,6,8,5,3,7,9,1],\n",
        "            [7,1,3,9,2,4,8,5,6],\n",
        "            [9,6,1,5,3,7,2,8,4],\n",
        "            [2,8,7,4,1,9,6,3,5],\n",
        "            [3,4,5,2,8,6,1,7,9]]\n",
        "\n",
        ""
      ],
      "metadata": {
        "id": "pz2VKfNpB3xi"
      },
      "execution_count": null,
      "outputs": []
    },
    {
      "cell_type": "code",
      "source": [
        "puzzle = [[5,3,0,0,7,0,0,0,0],  # 15\n",
        "          [6,0,0,1,9,5,0,0,0],  # 21\n",
        "          [0,9,8,0,0,0,0,6,0],  #23\n",
        "          [8,0,0,0,6,0,0,0,3],  #17\n",
        "          [4,0,0,8,0,3,0,0,1],  #16\n",
        "          [7,0,0,0,2,0,0,0,6],  #15\n",
        "          [0,6,0,0,0,0,2,8,0],  #16\n",
        "          [0,0,0,4,1,9,0,0,5],  #19\n",
        "          [0,0,0,0,8,0,0,7,9]]  #24\n",
        "        #\n",
        "\n",
        "row_column = [1,2,3,4,5,6,7,8,9]\n",
        "\n",
        "# test on rows:\n",
        "sum_rows = []\n",
        "for i in range(0,9):\n",
        "  sum_rows.append(sum(puzzle[i]))\n",
        "\n",
        "# test on columns:\n",
        "sum_column = []\n",
        "for i in range[0,9]:\n",
        "\n",
        "print(sum_rows)\n"
      ],
      "metadata": {
        "colab": {
          "base_uri": "https://localhost:8080/"
        },
        "id": "oCn2YnJqB_su",
        "outputId": "3cffe655-3307-4fd9-84eb-fd5341e5ab65"
      },
      "execution_count": 85,
      "outputs": [
        {
          "output_type": "stream",
          "name": "stdout",
          "text": [
            "[15, 21, 23, 17, 16, 15, 16, 19, 24]\n"
          ]
        }
      ]
    }
  ]
}