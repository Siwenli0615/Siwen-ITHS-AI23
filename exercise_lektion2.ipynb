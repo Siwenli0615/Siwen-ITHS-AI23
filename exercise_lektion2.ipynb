{
  "cells": [
    {
      "cell_type": "markdown",
      "metadata": {
        "id": "view-in-github",
        "colab_type": "text"
      },
      "source": [
        "<a href=\"https://colab.research.google.com/github/Siwenli0615/Hello-world/blob/main/exercise_lektion2.ipynb\" target=\"_parent\"><img src=\"https://colab.research.google.com/assets/colab-badge.svg\" alt=\"Open In Colab\"/></a>"
      ]
    },
    {
      "cell_type": "markdown",
      "metadata": {
        "id": "V_XJ764PQBl5"
      },
      "source": [
        "# if statements exercises\n",
        "\n",
        "---\n",
        "These are introductory exercises in Python with focus in **if** statement.\n",
        "\n",
        "<p class = \"alert alert-info\" role=\"alert\"><b>Remember</b> to use <b>descriptive variable names</b> in order to get readable code </p>\n",
        "\n",
        "<p class = \"alert alert-info\" role=\"alert\"><b>Remember</b> to format your answers in a neat way using <b>f-strings</b>\n",
        "\n",
        "<p class = \"alert alert-info\" role=\"alert\"><b>Remember</b> to format your input questions in a pedagogical way to guide the user\n",
        "\n",
        "The number of stars (\\*), (\\*\\*), (\\*\\*\\*) denotes the difficulty level of the task\n",
        "\n",
        "---"
      ]
    },
    {
      "cell_type": "markdown",
      "metadata": {
        "id": "aBBTSK3GQBl6"
      },
      "source": [
        "## 1. Check sign (*)\n",
        "\n",
        "Ask the user to input a number and check if this number is **positive**, **negative** or **zero** and print it out."
      ]
    },
    {
      "cell_type": "code",
      "source": [
        "number = float( input('Please enter a number: ') )\n",
        "if number < 0:\n",
        "  print(f\"the number {number} that you just entered is a negative number.\")\n",
        "elif number == 0:\n",
        "  print(f\"the number {number} that you just entered is zero.\")\n",
        "elif number > 0:\n",
        "  print(f\"the number {number} that you just entered is a positive number.\")\n",
        "else:\n",
        "  print(\"Unreadable, please try again.\")"
      ],
      "metadata": {
        "id": "mmQf-AoWk6nR",
        "outputId": "df7a76aa-0375-4380-80ae-3a6c2c0c4e93",
        "colab": {
          "base_uri": "https://localhost:8080/"
        }
      },
      "execution_count": null,
      "outputs": [
        {
          "output_type": "stream",
          "name": "stdout",
          "text": [
            "Please enter a number: -55\n",
            "the number -55.0 that you just entered is a negative number.\n"
          ]
        }
      ]
    },
    {
      "cell_type": "markdown",
      "metadata": {
        "id": "FEwYSDEWQBl7"
      },
      "source": [
        "---\n",
        "## 2. Smallest (*)\n",
        "Ask the user to input two numbers and check which one is the smallest and print it out.   "
      ]
    },
    {
      "cell_type": "code",
      "source": [
        "print(\"Welcome! enter two numbers and I will tell you which one is the smallest.\")\n",
        "number_1 = input('Please enter the first number: ')\n",
        "number_2 = input('Please enter the second number: ')\n",
        "if number_1 < number_2:\n",
        "  print(f\"the first number {number_1} is the smallest.\")\n",
        "elif number_1 > number_2:\n",
        "  print(f\"the second number {number_2} is the smallest.\")\n",
        "else:\n",
        "  print('None of the numbers is smallest.')"
      ],
      "metadata": {
        "id": "W2mfDYpdl8Ig",
        "outputId": "bb0791b6-582b-4811-ea86-2dc348f83259",
        "colab": {
          "base_uri": "https://localhost:8080/"
        }
      },
      "execution_count": null,
      "outputs": [
        {
          "output_type": "stream",
          "name": "stdout",
          "text": [
            "Welcome! enter two numbers and I will tell you which one is the smallest.\n",
            "Please enter the first number: 22\n",
            "Please enter the second number: 23\n",
            "the first number 22' is the smallest.\n"
          ]
        }
      ]
    },
    {
      "cell_type": "markdown",
      "metadata": {
        "id": "57poR3jBQBl7"
      },
      "source": [
        "---\n",
        "## 3. Right angle (*)\n",
        "\n",
        "Ask the user to input three angles and check if the triangle has a right angle. Your code should make sure that all three angles are valid and make up a triangle.\n",
        "\n",
        "<img align=\"left\" src=\"https://github.com/aleylani/Python/blob/main/assets/triangle_angles.png?raw=1\" width=\"200\"/>"
      ]
    },
    {
      "cell_type": "code",
      "source": [
        "print(\"\"\"Tell me 3 angles and I will check if one of them is a\n",
        "right angle. OBS! the angles must be positive numbers (greater than\n",
        "zero) and less than 180!\"\"\")\n",
        "\n",
        "first_angle = float(input(\"Please enter the first angle: \"))\n",
        "if first_angle <= 0:\n",
        "  print(\"Error! the angle must be a positive number! \")\n",
        "print()\n",
        "\n",
        "second_angle = float(input(\"Please enter the second angle: \"))\n",
        "if second_angle <= 0:\n",
        "  print(\"Error! the angle must be a positive number! \")\n",
        "print()\n",
        "\n",
        "third_angle = 180-first_angle-second_angle\n",
        "check = input(f\"Is the third angle {third_angle}? (y/n)\")\n",
        "if third_angle <= 0:\n",
        "  print(\"Error! the angle must be a positive number! \")\n",
        "print()\n",
        "answer = check.lower() # just in case someone answered \"Y\"\n",
        "if answer == \"y\":\n",
        "  if first_angle == 90 and second_angle != 90:\n",
        "    print(\"The first angle is a right angle.\")\n",
        "  elif second_angle == 90:\n",
        "    print(\"The second angle is a right angle.\")\n",
        "  elif third_angle == 90:\n",
        "    print(\"The third angle is a right angle.\")\n",
        "  else:\n",
        "    print('Sorry none of the angles is a right angle')\n",
        "else:\n",
        "  print(\"Sorry the sum of above 3 angles need to be 180, please try again\")"
      ],
      "metadata": {
        "colab": {
          "base_uri": "https://localhost:8080/"
        },
        "id": "bIgfW1cNoQR3",
        "outputId": "591ab222-353e-4c7a-a90c-382375ec6c7f"
      },
      "execution_count": 14,
      "outputs": [
        {
          "output_type": "stream",
          "name": "stdout",
          "text": [
            "Tell me 3 angles and I will check if one of them is a \n",
            "right angle. OBS! the angles must be positive numbers (greater than \n",
            "zero) and less than 180!\n",
            "Please enter the first angle: 66\n",
            "\n",
            "Please enter the second angle: 23\n",
            "\n",
            "Is the third angle 91.0? (y/n)y\n",
            "\n",
            "Sorry none of the angles is a right angle\n"
          ]
        }
      ]
    },
    {
      "cell_type": "markdown",
      "metadata": {
        "id": "nRxIy93lQBl7"
      },
      "source": [
        "----\n",
        "## 4. Medicine (*)\n",
        "\n",
        "The information in the following table is stated in a medicine package. Also it is stated that for children weight is more important than age.\n",
        "\n",
        "<table align=\"left\">\n",
        "<thead>\n",
        "    <tr>\n",
        "        <th></th>\n",
        "        <th>Age</th>\n",
        "        <th>Number of pills</th>\n",
        "    </tr>\n",
        "</thead>\n",
        "\n",
        "<tbody>\n",
        "  <tr>\n",
        "    <td>Adults & adolescent <br>over 40 kg</td>\n",
        "    <td>over 12 years</td>\n",
        "    <td>1-2</td>\n",
        "  </tr>\n",
        "\n",
        "  <tr>\n",
        "    <td>Children 26-40 kg</td>\n",
        "    <td>7-12 years</td>\n",
        "    <td>1/2-1</td>\n",
        "  </tr>\n",
        "\n",
        "  <tr>\n",
        "    <td>Children 15-25 kg</td>\n",
        "    <td>3-7 years</td>\n",
        "    <td>1/2</td>\n",
        "  </tr>\n",
        "</tbody>\n",
        "</table>"
      ]
    },
    {
      "cell_type": "markdown",
      "metadata": {
        "id": "EVUjoVVzQBl7"
      },
      "source": [
        "Let the user input an **age** and a **weight**, the program should recommend the number of pills for the user."
      ]
    },
    {
      "cell_type": "code",
      "source": [
        "print(\"Please enter the age and weight then I will recommend the dose of this medicine.\")\n",
        "age = input('How old is the patient? : ')\n",
        "weight = input('How much weight the patient? : ')\n",
        "age = float(age)      #using float incase someone likes decimals\n",
        "weight = float(weight)    # reassign to float\n",
        "\n",
        "if age < 3:\n",
        "  print('Sorry no data avaible for age below 3 years, please contact your doctor.')\n",
        "\n",
        "elif age >=3 and age < 7:\n",
        "  if weight < 15:\n",
        "    print(\"Sorry the patient's weight is to low, please contact your doctor.\")\n",
        "  elif weight >= 15 and weight <= 25:\n",
        "    print(\"The recommended dose is 1/2 pill\")\n",
        "  elif weight >= 25 and weight <= 40:\n",
        "    print(f\"The recommended dose for 26-40kg is 1/2 - 1 pills\")\n",
        "  else:\n",
        "    print(\"some data seems unreasonable, please check again or contact your doctor\")\n",
        "\n",
        "elif age > 7 and age < 12:\n",
        "  if weight < 15:\n",
        "    print(\"Sorry no data avaible for weight below 15kg, please contact your doctor\")\n",
        "  elif weight >= 15 and weight <= 25:\n",
        "    print(\"The recommended dose is 1/2 pill\")\n",
        "  elif weight >= 26 and weight <= 40:\n",
        "    print(f\"The recommended dose for 26-40kg is 1/2 - 1 pills\")\n",
        "  elif weight >=40 and weight <= 250:\n",
        "    print(f\"The recommended dose for children 7-12 years and above 40kg is 1 - 2 pills\")\n",
        "  else:\n",
        "    print(\"some data seems unreasonable, please check again or contact your doctor\")\n",
        "else:\n",
        "  print(f\"The recommended dose for adults/adolescents over 12 years and above 40kg is 1 - 2 pills\")\n",
        "\n",
        "\n"
      ],
      "metadata": {
        "colab": {
          "base_uri": "https://localhost:8080/"
        },
        "id": "2d474gFbuOap",
        "outputId": "14b5497c-37d3-43be-c3c1-cdc0f439f9a8"
      },
      "execution_count": 22,
      "outputs": [
        {
          "output_type": "stream",
          "name": "stdout",
          "text": [
            "Please enter the age and weight then I will recommend the dose of this medicine.\n",
            "How old is the patient? : 13\n",
            "How much weight the patient? : 200\n",
            "The recommended dose for adults/adolescents over 12 years and above 40kg is 1 - 2 pills\n"
          ]
        }
      ]
    },
    {
      "cell_type": "markdown",
      "metadata": {
        "id": "yUEv0BwKQBl8"
      },
      "source": [
        "---\n",
        "## 5. Divisible (*)\n",
        "Let the user input a number. Check if the number is\n",
        "<ol type=\"a\">\n",
        "  <li>even or odd</li>\n",
        "  <li>is divisible by 5</li>\n",
        "  <li>is divisble by 5 and odd</li>\n",
        "</ol>"
      ]
    },
    {
      "cell_type": "code",
      "source": [
        "print('Tell me a number and I will check if it is even/odd and if it is divisible by 5')\n",
        "number = input('Please enter your number here: ')\n",
        "number = float(number)  # resign as a number\n",
        "rest_with_two = number % 2\n",
        "rest_with_five = number % 5\n",
        "if rest_with_two == 1:  # odd numbers has rest 1\n",
        "  if rest_with_five == 0:\n",
        "    print('it is an odd number and divisible by 5')\n",
        "  else:\n",
        "    print('it is just an odd number but not divisible by 5')\n",
        "else:   #even number\n",
        "  if rest_with_five == 0:\n",
        "    print('it is an even number and divisible by 5')\n",
        "  else:\n",
        "    print('it is an even number but not divisible by 5')\n",
        "\n"
      ],
      "metadata": {
        "colab": {
          "base_uri": "https://localhost:8080/"
        },
        "id": "2CfJjqaHzgYj",
        "outputId": "5a764370-f440-4ad4-c115-0a4653b4f738"
      },
      "execution_count": 31,
      "outputs": [
        {
          "output_type": "stream",
          "name": "stdout",
          "text": [
            "Tell me a number and I will check if it is even/odd and if it is divisible by 5\n",
            "Please enter your number here: 33\n",
            "it is just an odd number but not divisible by 5\n"
          ]
        }
      ]
    },
    {
      "cell_type": "markdown",
      "metadata": {
        "id": "1loU66d0QBl8"
      },
      "source": [
        "---\n",
        "## 6. Luggage size (*)\n",
        "\n",
        "The maximum allowed luggage size for boarding an airplane is:\n",
        "- weight: 8kg\n",
        "- dimensions: 55x40x23cm (length x width x height)\n",
        "\n",
        "Let the user input weight, length, width and height of the luggage. The program should check if the luggage is allowed or not."
      ]
    },
    {
      "cell_type": "code",
      "source": [
        "print(\"Checking your luggage: \")\n",
        "weight = input(\"Please enter the weight of your luggage: \")\n",
        "length = input(\"Please enter the length of your luggage: \")\n",
        "width = input(\"Please enter the width of your luggage: \")\n",
        "height = input(\"Please enter the height of your luggage: \")\n",
        "\n",
        "weight = float(weight)\n",
        "length = float(length)\n",
        "width = float(width)\n",
        "height = float(height)\n",
        "max_volume = 55*40*23\n",
        "luggage_volume = length * width * height\n",
        "\n",
        "if weight <= 8 and length <= 55 and width <= 40 and height <= 23:\n",
        "  print()\n",
        "  print(\"Your luggage is allowed.\")\n",
        "elif weight <= 8 and luggage_volume <= max_volume:\n",
        "  print()\n",
        "  print(\"Please contact the staff.\")\n",
        "else:\n",
        "  print()\n",
        "  print(\"Your luggage is not allowed.\")"
      ],
      "metadata": {
        "colab": {
          "base_uri": "https://localhost:8080/"
        },
        "id": "ex1rtIyR_nnq",
        "outputId": "f32d4fc3-6934-4b15-eb70-36f58c9de8a8"
      },
      "execution_count": 39,
      "outputs": [
        {
          "output_type": "stream",
          "name": "stdout",
          "text": [
            "Checking your luggage: \n",
            "Please enter the weight of your luggage: 11\n",
            "Please enter the length of your luggage: 11\n",
            "Please enter the width of your luggage: 11\n",
            "Please enter the height of your luggage: 11\n",
            "\n",
            "Your luggage is not allowed.\n"
          ]
        }
      ]
    }
  ],
  "metadata": {
    "colab": {
      "provenance": [],
      "include_colab_link": true
    },
    "kernelspec": {
      "display_name": "Python 3 (ipykernel)",
      "language": "python",
      "name": "python3"
    },
    "language_info": {
      "codemirror_mode": {
        "name": "ipython",
        "version": 3
      },
      "file_extension": ".py",
      "mimetype": "text/x-python",
      "name": "python",
      "nbconvert_exporter": "python",
      "pygments_lexer": "ipython3",
      "version": "3.8.13"
    },
    "vscode": {
      "interpreter": {
        "hash": "0da836a34428266995a795f1e1e27b816fa1c02f148d9728b3fbbbc5459afca6"
      }
    }
  },
  "nbformat": 4,
  "nbformat_minor": 0
}