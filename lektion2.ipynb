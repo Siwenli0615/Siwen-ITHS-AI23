{
  "nbformat": 4,
  "nbformat_minor": 0,
  "metadata": {
    "colab": {
      "provenance": [],
      "authorship_tag": "ABX9TyN+4yLvHo7BgK42/4+yxIpD",
      "include_colab_link": true
    },
    "kernelspec": {
      "name": "python3",
      "display_name": "Python 3"
    },
    "language_info": {
      "name": "python"
    }
  },
  "cells": [
    {
      "cell_type": "markdown",
      "metadata": {
        "id": "view-in-github",
        "colab_type": "text"
      },
      "source": [
        "<a href=\"https://colab.research.google.com/github/Siwenli0615/Hello-world/blob/main/lektion2.ipynb\" target=\"_parent\"><img src=\"https://colab.research.google.com/assets/colab-badge.svg\" alt=\"Open In Colab\"/></a>"
      ]
    },
    {
      "cell_type": "markdown",
      "source": [
        "# Lektion 2"
      ],
      "metadata": {
        "id": "gxz7yeVqYIqB"
      }
    },
    {
      "cell_type": "markdown",
      "source": [
        "if-satser"
      ],
      "metadata": {
        "id": "P4kWhTMzYMgu"
      }
    },
    {
      "cell_type": "code",
      "execution_count": 3,
      "metadata": {
        "colab": {
          "base_uri": "https://localhost:8080/"
        },
        "id": "IMLYqakJVZtn",
        "outputId": "47aa5336-ff3d-4be3-f4f0-55e5ac61b5f7"
      },
      "outputs": [
        {
          "output_type": "stream",
          "name": "stdout",
          "text": [
            "Hej, hur gammal e du? : 22\n",
            "Välkommen in!\n"
          ]
        }
      ],
      "source": [
        "# vakt till puben\n",
        "age_requirement = 20\n",
        "your_age = int( input(\"Hej, hur gammal e du? : \") )\n",
        "if your_age > age_requirement:\n",
        "  print(\"Välkommen in!\")\n"
      ]
    },
    {
      "cell_type": "markdown",
      "source": [
        "if-else satser"
      ],
      "metadata": {
        "id": "wcQhXaxbV8Hh"
      }
    },
    {
      "cell_type": "code",
      "source": [
        "# vakt till puben\n",
        "age_requirement = 20\n",
        "your_age = int( input(\"Hej, hur gammal e du? : \") )\n",
        "if your_age > age_requirement:\n",
        "  print(\"Välkommen in!\")\n",
        "else:\n",
        "  print(\"Tyvärr du är för ung, kom tillbaka när du e 20.\")"
      ],
      "metadata": {
        "id": "3p82Hf1AX_1q"
      },
      "execution_count": null,
      "outputs": []
    },
    {
      "cell_type": "markdown",
      "source": [],
      "metadata": {
        "id": "1DxFY9vtV5nO"
      }
    },
    {
      "cell_type": "markdown",
      "source": [
        "if-elif-else satser"
      ],
      "metadata": {
        "id": "G77GvMdmYyHV"
      }
    },
    {
      "cell_type": "code",
      "source": [
        "# vakt till puben\n",
        "age_requirement = 18\n",
        "your_age = int( input(\"Hej, hur gammal e du? : \") )\n",
        "if your_age > age_requirement:\n",
        "  print(\"Välkommen in!\")\n",
        "elif your_age == age_requirement:\n",
        "  print(\"mm, det är tur att du har legget med dig, välkommen in! \")\n",
        "else:\n",
        "  print(\"Tyvärr du är för ung, kom tillbaka när du e 20.\")"
      ],
      "metadata": {
        "id": "uCoHVVyKY2kx"
      },
      "execution_count": null,
      "outputs": []
    }
  ]
}