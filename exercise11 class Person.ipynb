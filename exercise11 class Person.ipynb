{
  "nbformat": 4,
  "nbformat_minor": 0,
  "metadata": {
    "colab": {
      "provenance": [],
      "toc_visible": true,
      "authorship_tag": "ABX9TyODxUVFI3wXDRtakbKvC7xk",
      "include_colab_link": true
    },
    "kernelspec": {
      "name": "python3",
      "display_name": "Python 3"
    },
    "language_info": {
      "name": "python"
    }
  },
  "cells": [
    {
      "cell_type": "markdown",
      "metadata": {
        "id": "view-in-github",
        "colab_type": "text"
      },
      "source": [
        "<a href=\"https://colab.research.google.com/github/Siwenli0615/General/blob/main/exercise11%20class%20Person.ipynb\" target=\"_parent\"><img src=\"https://colab.research.google.com/assets/colab-badge.svg\" alt=\"Open In Colab\"/></a>"
      ]
    },
    {
      "cell_type": "code",
      "source": [],
      "metadata": {
        "id": "wvXsz5sFDSFh"
      },
      "execution_count": null,
      "outputs": []
    },
    {
      "cell_type": "markdown",
      "source": [
        "1. Unit conversion (*)\n",
        "Create a class for converting US units to the metric system. It should have the following bound methods:\n",
        "\n",
        "__init__ (self, value)\n",
        "\n",
        "inch_to_cm(self)\n",
        "\n",
        "foot_to_meters(self)\n",
        "\n",
        "pound_to_kg(self)\n",
        "\n",
        "__repr__(self)\n",
        "Make sure that value is the correct type and format, raise suitable exceptions in case it isn't. Make value into a property that can be viewed by the user. Test your class manually by instantiating an object from it and test different methods. (*)\n",
        "\n",
        "Hint\n",
        "Use the property decorator:\n",
        "\n",
        "@property\n",
        "You can read about the units here\n",
        "\n",
        "Check for:\n",
        "\n",
        "negative values\n",
        "types that are not int or float\n",
        "Use isinstance() to check for type\n",
        "\n",
        "\n",
        "Answer For example:\n",
        "units = UnitUS(5)\n",
        "print(f\"5 feet = {units.foot_to_meters()} m\")\n",
        "print(f\"5 inch = {units.inch_to_cm()} cm\")\n",
        "print(f\"5 pounds = {units.pound_to_kg():.2f} kg\")\n",
        "5 feet = 1.524 m\n",
        "5 inch = 12.7 cm\n",
        "5 pounds = 2.27 kg"
      ],
      "metadata": {
        "id": "vs5UBM-JDSZA"
      }
    },
    {
      "cell_type": "code",
      "execution_count": 36,
      "metadata": {
        "id": "EFQ3046j8gRA"
      },
      "outputs": [],
      "source": [
        "class UnitUS():\n",
        "  def __init__(self,value:(int,float)):\n",
        "    if not isinstance(value,(int,float)):\n",
        "      raise TypeError('The value entered needs to be a number/decimal number')\n",
        "    self.__number = value\n",
        "  @property\n",
        "  def number(self):\n",
        "    return self.__number\n",
        "\n",
        "\n",
        "  def inch_to_cm(self):\n",
        "    centimeter = round(self.number * 2.54,2)\n",
        "    return centimeter\n",
        "  def foot_to_meters(self):\n",
        "    meter = round(self.number * 0.3048,2)\n",
        "    return meter\n",
        "  def pound_to_kg(self):\n",
        "    kg = round(self.number * 0.45359237,2)\n",
        "    return kg\n",
        "  def __repr__(self):\n",
        "    return f'''\n",
        "    Converting US standard inch/foot/pound into cm/meter/kg\n",
        "    use:\n",
        "    .foot_to_meters()\n",
        "    .inch_to_cm()\n",
        "    .pound_to_kg()\n",
        "    '''\n"
      ]
    },
    {
      "cell_type": "code",
      "source": [
        "units = UnitUS(-1.9)\n",
        "print(f\"5 feet = {units.foot_to_meters()} m\")\n",
        "print(f\"5 inch = {units.inch_to_cm()} cm\")\n",
        "print(f\"5 pounds = {units.pound_to_kg()} kg\")"
      ],
      "metadata": {
        "colab": {
          "base_uri": "https://localhost:8080/"
        },
        "id": "hU0vVV29-kB_",
        "outputId": "ce950de1-93c9-4f92-bb97-366ebceccd4c"
      },
      "execution_count": 30,
      "outputs": [
        {
          "output_type": "stream",
          "name": "stdout",
          "text": [
            "5 feet = -0.58 m\n",
            "5 inch = -4.83 cm\n",
            "5 pounds = -0.86 kg\n"
          ]
        }
      ]
    },
    {
      "cell_type": "code",
      "source": [],
      "metadata": {
        "id": "6DORpknBDQIq"
      },
      "execution_count": null,
      "outputs": []
    },
    {
      "cell_type": "markdown",
      "source": [
        "\n",
        "2. Person (*)\n",
        "Create a class named Person, with the following private parameters, while making sure that they have the following types and values:\n",
        "\n",
        "name - must be string\n",
        "age - must be number between 0 and 125\n",
        "email - must include an @ sign\n",
        "Hint: use TypeError for errors in type, and ValueError for errors in value\n",
        "\n",
        "Since the attributes are now private, the user is not able to directly access them. Create property methods so that the user can access the values of all the attributes, individually\n",
        "\n",
        "It should also have __repr__ method to represent the Person class in a neat way.\n",
        "\n",
        "Also create a method say_hello() that prints\n",
        "\n",
        "Hi, my name is ..., I am ... years old, my email address is ...  \n",
        "Hint\n",
        "Use the property decorator:\n",
        "\n",
        "@property\n",
        "Use isinstance() to check for type\n",
        "\n",
        "Check for:\n",
        "\n",
        "negative values\n",
        "types that are not int or float\n",
        "\n",
        "Answer For example:\n",
        "p = Person(\"Pernilla\", 32, \"pernilla@gmail.com\")\n",
        "print(p)\n",
        "Person(Pernilla, 32, pernilla@gmail.com)\n",
        "\n",
        "try:\n",
        "    p = Person(\"Pernilla\", 32, \"pernillagmail.com\")\n",
        "except TypeError as ex:\n",
        "    print(ex)\n",
        "except NameError as ex:\n",
        "    print(ex)\n",
        "\n",
        "pernillagmail.com is not a valid email, format must be xxxx@yyyy.zzz\n"
      ],
      "metadata": {
        "id": "aUfEO6xMDZMH"
      }
    },
    {
      "cell_type": "code",
      "source": [
        "class Person:\n",
        "  def __init__(self,name:str,age:int,email:str):\n",
        "    if not isinstance(name,str):\n",
        "      raise TypeError('The name needs to be a string')\n",
        "    if age<0 and age>125:\n",
        "      raise ValueError('The age should be reasonable (i.e. between 0-125 years old)')\n",
        "    if \"@\" not in email:\n",
        "      raise TypeError(f'{email} is not a valid email, format must be xxxx@yyyy.zzz')\n",
        "    self.__name = name\n",
        "    self.__age = age\n",
        "    self.__email = email\n",
        "  @property\n",
        "  def name(self):\n",
        "    return self.__name\n",
        "  def age(self):\n",
        "    return self.__age\n",
        "  def email(self):\n",
        "    return self.__email\n",
        "\n",
        "  def __repr__(self):\n",
        "    return f'''\n",
        "    name: {self.__name}\n",
        "    age: {self.__age}\n",
        "    email: {self.__email}\n",
        "    '''\n",
        "  def say_hello(self):\n",
        "    return f\"\"\"Hi, my name is {self.__name}, I am {self.__age} years old, my email address is {self.__email} \"\"\""
      ],
      "metadata": {
        "id": "LktuP-_HEAAm"
      },
      "execution_count": 59,
      "outputs": []
    },
    {
      "cell_type": "code",
      "source": [],
      "metadata": {
        "id": "XPnTVU5faiR7"
      },
      "execution_count": null,
      "outputs": []
    },
    {
      "cell_type": "code",
      "source": [
        "p = Person(\"Pernilla\", 32, \"pernilla@gmail.com\")\n",
        "print(p)"
      ],
      "metadata": {
        "colab": {
          "base_uri": "https://localhost:8080/"
        },
        "id": "9xvmX6g-GV3B",
        "outputId": "d767346a-46e7-434e-8194-70ee2c29879f"
      },
      "execution_count": 60,
      "outputs": [
        {
          "output_type": "stream",
          "name": "stdout",
          "text": [
            " \n",
            "    name: Pernilla\n",
            "    age: 32\n",
            "    email: pernilla@gmail.com\n",
            "    \n"
          ]
        }
      ]
    },
    {
      "cell_type": "code",
      "source": [
        "p.say_hello()"
      ],
      "metadata": {
        "colab": {
          "base_uri": "https://localhost:8080/",
          "height": 35
        },
        "id": "6y6lfvwOZf7q",
        "outputId": "45b2fc22-61d5-454b-e063-ef263e436f88"
      },
      "execution_count": 61,
      "outputs": [
        {
          "output_type": "execute_result",
          "data": {
            "text/plain": [
              "'Hi, my name is Pernilla, I am 32 years old, my email address is pernilla@gmail.com '"
            ],
            "application/vnd.google.colaboratory.intrinsic+json": {
              "type": "string"
            }
          },
          "metadata": {},
          "execution_count": 61
        }
      ]
    }
  ]
}