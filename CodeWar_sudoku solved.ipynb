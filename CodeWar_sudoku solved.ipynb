{
  "nbformat": 4,
  "nbformat_minor": 0,
  "metadata": {
    "colab": {
      "provenance": [],
      "toc_visible": true,
      "authorship_tag": "ABX9TyOQlHPyO67UuZeytPpAqc4b",
      "include_colab_link": true
    },
    "kernelspec": {
      "name": "python3",
      "display_name": "Python 3"
    },
    "language_info": {
      "name": "python"
    }
  },
  "cells": [
    {
      "cell_type": "markdown",
      "metadata": {
        "id": "view-in-github",
        "colab_type": "text"
      },
      "source": [
        "<a href=\"https://colab.research.google.com/github/Siwenli0615/Hello-world/blob/main/CodeWar_sudoku%20solved.ipynb\" target=\"_parent\"><img src=\"https://colab.research.google.com/assets/colab-badge.svg\" alt=\"Open In Colab\"/></a>"
      ]
    },
    {
      "cell_type": "code",
      "source": [
        "\n",
        "puzzle =     [[5,3,0,0,7,0,0,0,0],\n",
        "          [6,0,0,1,9,5,0,0,0],\n",
        "          [0,9,8,0,0,0,0,6,0],\n",
        "          [8,0,0,0,6,0,0,0,3],\n",
        "          [4,0,0,8,0,3,0,0,1],\n",
        "          [7,0,0,0,2,0,0,0,6],\n",
        "          [0,6,0,0,0,0,2,8,0],\n",
        "          [0,0,0,4,1,9,0,0,5],\n",
        "          [0,0,0,0,8,0,0,7,9]]\n",
        "\n",
        "\n"
      ],
      "metadata": {
        "id": "pz2VKfNpB3xi"
      },
      "execution_count": 1,
      "outputs": []
    },
    {
      "cell_type": "code",
      "source": [
        "solution = [[5,3,4,6,7,8,9,1,2],\n",
        "            [6,7,2,1,9,5,3,4,8],\n",
        "            [1,9,8,3,4,2,5,6,7],\n",
        "            [8,5,9,7,6,1,4,2,3],\n",
        "            [4,2,6,8,5,3,7,9,1],\n",
        "            [7,1,3,9,2,4,8,5,6],\n",
        "            [9,6,1,5,3,7,2,8,4],\n",
        "            [2,8,7,4,1,9,6,3,5],\n",
        "            [3,4,5,2,8,6,1,7,9]]"
      ],
      "metadata": {
        "id": "Ayk28WYmaZ2N"
      },
      "execution_count": 2,
      "outputs": []
    },
    {
      "cell_type": "code",
      "source": [
        "def sudoku(puzzle):\n",
        "    \"\"\"return the solved puzzle as a 2d array of 9 x 9\"\"\"\n",
        "    return puzzle"
      ],
      "metadata": {
        "id": "BOqzffDfaezZ"
      },
      "execution_count": null,
      "outputs": []
    },
    {
      "cell_type": "code",
      "source": [
        "puzzle =     [[5,3,0,0,7,0,0,0,0],  # 15\n",
        "          [6,0,0,1,9,5,0,0,0],  # 21\n",
        "          [0,9,8,0,0,0,0,6,0],  #23\n",
        "          [8,0,0,0,6,0,0,0,3],  #17\n",
        "          [4,0,0,8,0,3,0,0,1],  #16\n",
        "          [7,0,0,0,2,0,0,0,6],  #15\n",
        "          [0,6,0,0,0,0,2,8,0],  #16\n",
        "          [0,0,0,4,1,9,0,0,5],  #19\n",
        "          [0,0,0,0,8,0,0,7,9]]  #24\n",
        "        # 30,18,8,13,33,17,2,21,24]\n",
        "\n",
        "row_column = [1,2,3,4,5,6,7,8,9]\n",
        "\n",
        "# test on rows:\n",
        "sum_rows = []\n",
        "for i in range(0,9):\n",
        "  sum_rows.append(sum(puzzle[i]))\n",
        "\n",
        "# test on columns:\n",
        "sum_column = [0]*9\n",
        "print(sum_column)\n",
        "summa_column = 0\n",
        "for rows in puzzle:\n",
        "  for j in range(0,9):\n",
        "    sum_column[j] += rows[j]\n",
        "\n",
        "print(sum_column)\n"
      ],
      "metadata": {
        "colab": {
          "base_uri": "https://localhost:8080/"
        },
        "id": "oCn2YnJqB_su",
        "outputId": "754cda0f-c7d9-45e1-f62c-8f86167f6ef8"
      },
      "execution_count": null,
      "outputs": [
        {
          "output_type": "stream",
          "name": "stdout",
          "text": [
            "[0, 0, 0, 0, 0, 0, 0, 0, 0]\n",
            "[30, 18, 8, 13, 33, 17, 2, 21, 24]\n"
          ]
        }
      ]
    },
    {
      "cell_type": "code",
      "source": [
        "board =     [[5,3,0,0,7,0,0,0,0],\n",
        "          [6,0,0,1,9,5,0,0,0],\n",
        "          [0,9,8,0,0,0,0,6,0],\n",
        "          [8,0,0,0,6,0,0,0,3],\n",
        "          [4,0,0,8,0,3,0,0,1],\n",
        "          [7,0,0,0,2,0,0,0,6],\n",
        "          [0,6,0,0,0,0,2,8,0],\n",
        "          [0,0,0,4,1,9,0,0,5],\n",
        "          [0,0,0,0,8,0,0,7,9]]"
      ],
      "metadata": {
        "id": "cJ3kISrKmczM"
      },
      "execution_count": 35,
      "outputs": []
    },
    {
      "cell_type": "code",
      "source": [
        "def sudoku(board):\n",
        "\n",
        "  # check num is in row or col:\n",
        "  def is_valid(board,row,col,num):\n",
        "    for i in range(9):\n",
        "      if board[row][i]==num or board[i][col] == num:\n",
        "        return False\n",
        "  #check if the num is in the 3x3 blocks:\n",
        "    start_row = 3*(row//3)\n",
        "    start_col = 3*(col//3)\n",
        "    for i in range(start_row,start_row+3):\n",
        "      for j in range(start_col,start_col+3):\n",
        "        if board[i][j]==num:\n",
        "          return False\n",
        "    return True\n",
        "\n",
        "  # scanning the whole matrix:\n",
        "  def solve_sudoku(board):\n",
        "    for row in range(9):\n",
        "      for col in range(9):\n",
        "        if board[row][col] == 0:\n",
        "          for num in range(1,10):\n",
        "            if is_valid(board,row,col,num):\n",
        "              board[row][col] = num\n",
        "              #print(f\"for row:{row} col:{col} gives {board[row][col]}\")\n",
        "              if solve_sudoku(board):\n",
        "                return True\n",
        "              board[row][col]=0\n",
        "          return False\n",
        "    return True\n",
        "\n",
        "\n",
        "  solve_sudoku(board)\n",
        "  return board\n"
      ],
      "metadata": {
        "id": "zrw6eSlskU3K"
      },
      "execution_count": 44,
      "outputs": []
    },
    {
      "cell_type": "code",
      "source": [
        "print(board)"
      ],
      "metadata": {
        "id": "jWuIrtRcs_Bt",
        "outputId": "500a9093-e5f4-4bf9-fbab-ba392db92a50",
        "colab": {
          "base_uri": "https://localhost:8080/"
        }
      },
      "execution_count": 45,
      "outputs": [
        {
          "output_type": "stream",
          "name": "stdout",
          "text": [
            "[[5, 3, 4, 6, 7, 8, 9, 1, 2], [6, 7, 2, 1, 9, 5, 3, 4, 8], [1, 9, 8, 3, 4, 2, 5, 6, 7], [8, 5, 9, 7, 6, 1, 4, 2, 3], [4, 2, 6, 8, 5, 3, 7, 9, 1], [7, 1, 3, 9, 2, 4, 8, 5, 6], [9, 6, 1, 5, 3, 7, 2, 8, 4], [2, 8, 7, 4, 1, 9, 6, 3, 5], [3, 4, 5, 2, 8, 6, 1, 7, 9]]\n"
          ]
        }
      ]
    }
  ]
}