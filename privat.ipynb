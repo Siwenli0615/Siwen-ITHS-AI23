{
  "nbformat": 4,
  "nbformat_minor": 0,
  "metadata": {
    "colab": {
      "provenance": [],
      "authorship_tag": "ABX9TyNoq5f5ws1rHgLvLVIA9Eut",
      "include_colab_link": true
    },
    "kernelspec": {
      "name": "python3",
      "display_name": "Python 3"
    },
    "language_info": {
      "name": "python"
    }
  },
  "cells": [
    {
      "cell_type": "markdown",
      "metadata": {
        "id": "view-in-github",
        "colab_type": "text"
      },
      "source": [
        "<a href=\"https://colab.research.google.com/github/Siwenli0615/Hello-world/blob/main/privat.ipynb\" target=\"_parent\"><img src=\"https://colab.research.google.com/assets/colab-badge.svg\" alt=\"Open In Colab\"/></a>"
      ]
    },
    {
      "cell_type": "code",
      "source": [
        "numerals = {\n",
        "\n",
        "\n",
        "        1:\"一\",\n",
        "        2:\"二\",\n",
        "        3:\"三\",\n",
        "        4:\"四\",\n",
        "        5:\"五\",\n",
        "        6:\"六\",\n",
        "        7:\"七\",\n",
        "        8:\"八\",\n",
        "        9:\"九\",\n",
        "        10:\"十\",\n",
        "        100:\"百\",\n",
        "        1000:\"千\",\n",
        "        10000:\"万\",\n",
        "        \"-\":\"负\",\n",
        "        \".\":\"点\",\n",
        "        0:\"零\", }\n",
        "\n",
        "n = 53008\n",
        "n_str = str(n)\n",
        "\n",
        "\n",
        "length_num = len(n_str)\n",
        "chinese = [\"\"]*length_num\n",
        "\n",
        "for i in range(length_num):\n",
        "  if chinese[i-1] == numerals[0]:\n",
        "    chinese[i]=\"\"\n",
        "    print(f\"zero: {chinese}\")\n",
        "  elif n[i] != \"0\":\n",
        "    chinese[i] += numerals[int(n_str[i])]+ numerals[10**(length_num-i-1)]\n",
        "    print(f\"i={i} and {chinese}\")\n",
        "  elif: n[i] == \"0\":\n",
        "    chinese[i] += numerals[0]\n",
        "\n",
        "\n",
        "\n",
        "\n",
        "\n",
        "\n",
        "\n",
        "print(chinese)\n",
        "\n",
        "\n",
        "\n",
        "\n",
        "\n",
        "\n",
        "\n",
        ""
      ],
      "metadata": {
        "colab": {
          "base_uri": "https://localhost:8080/",
          "height": 147
        },
        "id": "oGaxwfiRvj3T",
        "outputId": "d8eadbe6-f2fd-41c8-fb24-4da801b12662"
      },
      "execution_count": 238,
      "outputs": [
        {
          "output_type": "error",
          "ename": "SyntaxError",
          "evalue": "ignored",
          "traceback": [
            "\u001b[0;36m  File \u001b[0;32m\"<ipython-input-238-a4a71a9a0235>\"\u001b[0;36m, line \u001b[0;32m35\u001b[0m\n\u001b[0;31m    elif: n[i]==\"0\":\u001b[0m\n\u001b[0m        ^\u001b[0m\n\u001b[0;31mSyntaxError\u001b[0m\u001b[0;31m:\u001b[0m invalid syntax\n"
          ]
        }
      ]
    },
    {
      "cell_type": "code",
      "source": [
        "\n",
        "\n",
        "\n",
        "\n",
        "\n",
        "\n",
        "\n",
        "  if number == \"0\" and i > 0:\n",
        "    chinese += numerals[0]\n",
        "    print(f\"i:{i}\")\n",
        "    i-=1\n",
        "\n",
        "    print(f\"zero:{chinese}\")\n",
        "    pass\n",
        "  elif number != \"0\" and i>0:\n",
        "    chinese += numerals[int(number)]\n",
        "    chinese += numerals[10**i]\n",
        "    print(f\"i:{i}\")\n",
        "    i-=1\n",
        "\n",
        "    print(chinese)\n",
        "  elif number != \"0\" and i<=1:\n",
        "    chinese += numerals[int(number)]\n",
        "    print(f\"i:{i}\")\n",
        "    i-=1\n"
      ],
      "metadata": {
        "colab": {
          "base_uri": "https://localhost:8080/"
        },
        "id": "VvU16qD79V7p",
        "outputId": "aae40911-c716-4d6d-9170-f6029009b7af"
      },
      "execution_count": 236,
      "outputs": [
        {
          "output_type": "stream",
          "name": "stdout",
          "text": [
            "i=0 and ['五万五万', '三千', '零百', '零十', '八一']\n",
            "i:0\n",
            "i=1 and ['五万五万', '三千三千', '零百', '零十', '八一', '八']\n",
            "i:1\n",
            "['五万五万', '三千三千', '零百', '零十', '八一', '八', '八', '十']\n",
            "i=2 and ['五万五万', '三千三千', '零百零百', '零十', '八一', '八', '八', '十']\n",
            "i:2\n",
            "['五万五万', '三千三千', '零百零百', '零十', '八一', '八', '八', '十', '八', '百']\n",
            "i=3 and ['五万五万', '三千三千', '零百零百', '零十零十', '八一', '八', '八', '十', '八', '百']\n",
            "i:3\n",
            "['五万五万', '三千三千', '零百零百', '零十零十', '八一', '八', '八', '十', '八', '百', '八', '千']\n",
            "i=4 and ['五万五万', '三千三千', '零百零百', '零十零十', '八一八一', '八', '八', '十', '八', '百', '八', '千']\n",
            "i:4\n",
            "['五万五万', '三千三千', '零百零百', '零十零十', '八一八一', '八', '八', '十', '八', '百', '八', '千', '八', '万']\n"
          ]
        }
      ]
    },
    {
      "cell_type": "code",
      "source": [
        "for key in sorted(numerals.keys(),reverse=True):\n",
        "  if n//key > 0 and n > 10:\n",
        "    chinese += numerals[n//key]\n",
        "    chinese += numerals[key]\n",
        "    n -= n//key*key\n",
        "    i += 1\n",
        "    print(i)\n",
        "  elif n//key ==0:\n",
        "    chinese += specials[0]\n",
        "\n",
        "\n",
        "\n",
        "\n",
        "print(chinese)"
      ],
      "metadata": {
        "colab": {
          "base_uri": "https://localhost:8080/"
        },
        "id": "hUHtTiav4gXD",
        "outputId": "6161673e-481a-44ab-f99f-7302b413da7f"
      },
      "execution_count": 156,
      "outputs": [
        {
          "output_type": "execute_result",
          "data": {
            "text/plain": [
              "0"
            ]
          },
          "metadata": {},
          "execution_count": 156
        }
      ]
    }
  ]
}