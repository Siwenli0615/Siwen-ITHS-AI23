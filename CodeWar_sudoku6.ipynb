{
  "nbformat": 4,
  "nbformat_minor": 0,
  "metadata": {
    "colab": {
      "provenance": [],
      "toc_visible": true,
      "authorship_tag": "ABX9TyOo4Gk1i3B7vtnkHG5cKAm6",
      "include_colab_link": true
    },
    "kernelspec": {
      "name": "python3",
      "display_name": "Python 3"
    },
    "language_info": {
      "name": "python"
    }
  },
  "cells": [
    {
      "cell_type": "markdown",
      "metadata": {
        "id": "view-in-github",
        "colab_type": "text"
      },
      "source": [
        "<a href=\"https://colab.research.google.com/github/Siwenli0615/Hello-world/blob/main/CodeWar_sudoku6.ipynb\" target=\"_parent\"><img src=\"https://colab.research.google.com/assets/colab-badge.svg\" alt=\"Open In Colab\"/></a>"
      ]
    },
    {
      "cell_type": "code",
      "source": [
        "board =      [[8,4,7,2,6,5,1,0,3],\n",
        "\t\t\t\t  [1,3,6,7,0,8,2,4,5],\n",
        "\t\t\t\t  [0,5,2,1,4,3,8,6,7],\n",
        "\t\t\t\t  [4,2,0,6,7,1,5,3,8],\n",
        "\t\t\t\t  [6,7,8,5,3,2,0,1,4],\n",
        "\t\t\t\t  [3,1,5,4,8,0,7,2,6],\n",
        "\t\t\t\t  [5,6,4,0,1,7,3,8,2],\n",
        "\t\t\t\t  [7,8,1,3,2,4,6,5,0],\n",
        "\t\t\t\t  [2,0,3,8,5,6,4,7,1]]"
      ],
      "metadata": {
        "id": "lte-SiTNx8LR"
      },
      "execution_count": 48,
      "outputs": []
    },
    {
      "cell_type": "code",
      "source": [
        "\n",
        "def validate_sudoku(board):\n",
        "  check_control = [x for x in range(1,10)]\n",
        "  column = []\n",
        "  for i in range(9):\n",
        "    for j in board:\n",
        "      column.append(j[i])\n",
        "\n",
        "    column = sorted(column)\n",
        "\n",
        "    if column == check_control:\n",
        "\n",
        "      column = []\n",
        "      return True\n",
        "    else:\n",
        "      return False\n",
        "      break\n",
        "\n",
        "\n",
        "\n",
        "validate_sudoku(board)"
      ],
      "metadata": {
        "id": "zA5qMigEyR7h",
        "outputId": "9a6e5528-52a4-4c1a-a6f7-81bfc172e37c",
        "colab": {
          "base_uri": "https://localhost:8080/"
        }
      },
      "execution_count": 50,
      "outputs": [
        {
          "output_type": "execute_result",
          "data": {
            "text/plain": [
              "False"
            ]
          },
          "metadata": {},
          "execution_count": 50
        }
      ]
    }
  ]
}