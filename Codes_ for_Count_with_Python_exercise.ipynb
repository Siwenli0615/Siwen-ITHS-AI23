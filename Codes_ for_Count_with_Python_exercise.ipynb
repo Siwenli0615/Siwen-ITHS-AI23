{
  "cells": [
    {
      "cell_type": "markdown",
      "metadata": {
        "id": "view-in-github",
        "colab_type": "text"
      },
      "source": [
        "<a href=\"https://colab.research.google.com/github/Siwenli0615/Hello-world/blob/main/Kopia_av_00_Count_with_Python_exercise.ipynb\" target=\"_parent\"><img src=\"https://colab.research.google.com/assets/colab-badge.svg\" alt=\"Open In Colab\"/></a>"
      ]
    },
    {
      "cell_type": "markdown",
      "metadata": {
        "id": "8V98V8GBP3HL"
      },
      "source": [
        "# Count with Python\n",
        "\n",
        "---\n",
        "These are introductory exercises in Python for fundamental mathematics. It is important to both know mathematics as well as Python in order to understand machine learning concepts. Also a focus here is to use Python as a tool for solving mathematical problems.\n",
        "\n",
        "<p class = \"alert alert-info\" role=\"alert\"><b>Remember</b> to use <b>variables</b> in your computations </p>\n",
        "\n",
        "<p class = \"alert alert-info\" role=\"alert\"><b>Remember</b> to format your answers in a neat way using <b>f-strings</b>\n",
        "\n",
        "The number of stars (\\*), (\\*\\*), (\\*\\*\\*) denotes the difficulty level of the task\n",
        "\n",
        "---"
      ]
    },
    {
      "cell_type": "markdown",
      "metadata": {
        "id": "zn_rU_WFP3HN"
      },
      "source": [
        "## 1. Pythagorean theorem (*)\n",
        "\n",
        "&nbsp; a) &nbsp;  A right angled triangle has the catheti: a = 3 and b = 4 length units. Compute the <b>hypothenuse</b> of the triangle. (*)\n",
        "  \n",
        "&nbsp; b) &nbsp;  A right angled triangle has hypothenuse c = 7.0 and a cathetus a = 5.0 length units. Compute the other cathetus and round to one decimal. (*)\n",
        "\n",
        "<img align=\"left\" src=\"https://github.com/aleylani/Python/blob/main/assets/right-angle-triangle.png?raw=1\" width=\"200\"/>"
      ]
    },
    {
      "cell_type": "code",
      "source": [
        "import math\n",
        "a = 3\n",
        "b = 4\n",
        "c = math.sqrt(a**2 + b**2)\n",
        "print(f\"c is {c}\")"
      ],
      "metadata": {
        "id": "Vt6AaZ2M7Z9Y",
        "outputId": "f9d895d0-61a3-4b1e-bb95-53f6d5ec4ca1",
        "colab": {
          "base_uri": "https://localhost:8080/"
        }
      },
      "execution_count": null,
      "outputs": [
        {
          "output_type": "stream",
          "name": "stdout",
          "text": [
            "c is 5.0\n"
          ]
        }
      ]
    },
    {
      "cell_type": "markdown",
      "metadata": {
        "id": "_Z374stYP3HN"
      },
      "source": [
        "\n",
        "<details>\n",
        "\n",
        "<summary>Hint</summary>\n",
        "\n",
        "[Video lecture][pythagoras_video] (swedish)\n",
        "\n",
        "[pythagoras_video]: https://www.youtube.com/watch?v=3iivEnKEJ88\n",
        "\n",
        "To do square root in Python\n",
        "```python\n",
        "import math\n",
        "math.sqrt()\n",
        "```\n",
        "\n",
        "</details>\n",
        "<br>\n",
        "<details>\n",
        "\n",
        "<summary>Answer</summary>\n",
        "a)\n",
        "\n",
        "```\n",
        "The hypothenuse is 5 length units\n",
        "```\n",
        "\n",
        "b)\n",
        "\n",
        "```\n",
        "The other cathetus is 4.9 length units\n",
        "```\n",
        "\n",
        "</details>"
      ]
    },
    {
      "cell_type": "markdown",
      "metadata": {
        "id": "NDrFxEyTP3HO"
      },
      "source": [
        "-----\n",
        "## 2. Classification accuracy (*)\n",
        "\n",
        "A machine learning algorithm has been trained to predict whether or not it would rain the next day. Out of 365 predictions, it got 300 correct, compute the accuracy of this model."
      ]
    },
    {
      "cell_type": "code",
      "source": [
        "correct = 300\n",
        "predictions = 365\n",
        "accuracy = round(correct/predictions,4)*100\n",
        "print(f\"the accuracy is {accuracy}%\")"
      ],
      "metadata": {
        "id": "d20uSsh371Fc",
        "outputId": "1ceb149d-6786-4841-afb6-026e0a08b070",
        "colab": {
          "base_uri": "https://localhost:8080/"
        }
      },
      "execution_count": null,
      "outputs": [
        {
          "output_type": "stream",
          "name": "stdout",
          "text": [
            "the accuracy is 82.19%\n"
          ]
        }
      ]
    },
    {
      "cell_type": "markdown",
      "metadata": {
        "id": "mc8lSHNtP3HO"
      },
      "source": [
        "---\n",
        "## 3. Classification accuracy (*)\n",
        "A machine learning model has been trained to detect fire. Here is the result of its predictions:\n",
        "\n",
        "<table align=\"left\">\n",
        "<tbody>\n",
        "  <tr>\n",
        "    <td>True Positive (TP)\n",
        "      <ul>\n",
        "        <li>Reality: fire</li>\n",
        "        <li>Predicted: fire</li>\n",
        "        <li>Number of TP: 2</li>\n",
        "      </ul>\n",
        "    </td>\n",
        "    <td>False Positive (FP)\n",
        "      <ul>\n",
        "        <li>Reality: no fire</li>\n",
        "        <li>Predicted: fire</li>\n",
        "        <li>Number of FP: 2</li>\n",
        "      </ul>\n",
        "    </td>\n",
        "  </tr>\n",
        "\n",
        "  <tr>\n",
        "    <td>False Negative (FN)\n",
        "      <ul>\n",
        "        <li>Reality: fire</li>\n",
        "        <li>Predicted: no fire</li>\n",
        "        <li>Number of FN: 11</li>\n",
        "      </ul>\n",
        "    </td>\n",
        "    <td>True Negative (TN)\n",
        "      <ul>\n",
        "        <li>Reality: no fire</li>\n",
        "        <li>Predicted: no fire</li>\n",
        "        <li>Number of TN: 985</li>\n",
        "      </ul>\n",
        "    </td>\n",
        "  </tr>\n",
        "</tbody>\n",
        "</table>"
      ]
    },
    {
      "cell_type": "markdown",
      "metadata": {
        "id": "sdgwppPGP3HO"
      },
      "source": [
        "Calculated the accuracy using the following formula:\n",
        "\n",
        "$\\text{accuracy} = \\frac{TP+TN}{TP+TN+FP+FN}$\n",
        "\n",
        "Is this a good model?\n",
        "\n",
        "<details>\n",
        "\n",
        "<summary>Hint </summary>\n",
        "\n",
        "Try to understand what it means for the actual user with each category\n",
        "\n",
        "</details>\n",
        "<br>\n",
        "<details>\n",
        "\n",
        "<summary>Answer </summary>\n",
        "\n",
        "```\n",
        "The accuracy of this model is 0.987.\n",
        "```\n",
        "\n",
        "</details>"
      ]
    },
    {
      "cell_type": "code",
      "source": [
        "TP = 2\n",
        "FP = 2\n",
        "FN = 11\n",
        "TN = 985\n",
        "accuracy = round((TP+TN)/(TP+TN+FP+FN),4)*100\n",
        "print(f\"the accuracy is {accuracy}%\")\n"
      ],
      "metadata": {
        "id": "0oqmnfp38bgM",
        "outputId": "cffec5ac-4cc5-44a3-b5b3-5e3cb6c8a1fa",
        "colab": {
          "base_uri": "https://localhost:8080/"
        }
      },
      "execution_count": null,
      "outputs": [
        {
          "output_type": "stream",
          "name": "stdout",
          "text": [
            "the accuracy is 98.7%\n"
          ]
        }
      ]
    },
    {
      "cell_type": "markdown",
      "metadata": {
        "id": "VaB0kmWAP3HO"
      },
      "source": [
        "---\n",
        "## 4. Line (*)\n",
        "Compute the slope $k$ and the constant term $m$ of this line using the points $A: (4,4)$ and $B: (0,1)$.  \n",
        "\n",
        "<img align=\"left\" src=\"https://github.com/aleylani/Python/blob/main/assets/line.png?raw=1\" width=\"200\"/>"
      ]
    },
    {
      "cell_type": "code",
      "source": [
        "Y1 = 4\n",
        "X1 = 4\n",
        "X2 = 0\n",
        "Y2 = 1\n",
        "k = (Y2-Y1)/(X2-X1)\n",
        "m = Y2 - k*X2\n",
        "print(f\"k is {k} and m is {m}\")"
      ],
      "metadata": {
        "id": "ySHBiZStAkkm",
        "outputId": "a4dd1d34-d3ae-42ee-dd1e-4bb0d10ae598",
        "colab": {
          "base_uri": "https://localhost:8080/"
        }
      },
      "execution_count": null,
      "outputs": [
        {
          "output_type": "stream",
          "name": "stdout",
          "text": [
            "k is 0.75 and m is 1.0\n"
          ]
        }
      ]
    },
    {
      "cell_type": "markdown",
      "metadata": {
        "id": "zQNR48oqP3HP"
      },
      "source": [
        "<details>\n",
        "\n",
        "<summary>Hint </summary>\n",
        "\n",
        "$k = \\frac{\\Delta y}{\\Delta x} = \\frac{y_2 - y_1}{x_2 - x_1}$\n",
        "\n",
        "Either plug in one point into $y = kx + m$ and solve for $m$ or read the intersection with y-axis in the graph.\n",
        "\n",
        "[Video lecture][video_line] (Swedish)\n",
        "\n",
        "[video_line]: https://www.youtube.com/watch?v=9Buuq6rkaJ0\n",
        "\n",
        "</details>\n",
        "<br>\n",
        "<details>\n",
        "\n",
        "<summary>Solution </summary>\n",
        "\n",
        "```\n",
        "k = 0.75, m = 1, so the equation for the slope is y = 0.75x + 1\n",
        "```\n",
        "\n",
        "</details>\n"
      ]
    },
    {
      "cell_type": "markdown",
      "metadata": {
        "id": "cOjmVJj3P3HP"
      },
      "source": [
        "---\n",
        "## 5. Euclidean distance (*)\n",
        "\n",
        "The Euclideam distance between the points $P_1$ and $P_2$ is the length of a line between them. Let $P_1: (3,5)$ and $P_2: (-2,4)$ and compute the distance between them."
      ]
    },
    {
      "cell_type": "code",
      "source": [
        "import math\n",
        "X1 = 3\n",
        "Y1 = 5\n",
        "X2 = -2\n",
        "Y2 = 4\n",
        "distance = round(math.sqrt((X2-X1)**2 + (Y2-Y1)**2),2)\n",
        "print(f\"The distance is {distance} distance units\")"
      ],
      "metadata": {
        "id": "Ah7MivkXBha6",
        "outputId": "31b8c8e1-fed2-406b-ee6c-3f9e4daeacb0",
        "colab": {
          "base_uri": "https://localhost:8080/"
        }
      },
      "execution_count": null,
      "outputs": [
        {
          "output_type": "stream",
          "name": "stdout",
          "text": [
            "The distance is 5.1 distance units\n"
          ]
        }
      ]
    },
    {
      "cell_type": "markdown",
      "metadata": {
        "id": "w0evkWrzP3HQ"
      },
      "source": [
        "<details>\n",
        "\n",
        "<summary>Hint </summary>\n",
        "The formula is:\n",
        "\n",
        "$\\text{distance} = \\sqrt{(x_2-x_1)^2 +(y_2-y_1)^2}$\n",
        "\n",
        "[Video lecture][video_distance] (Swedish)\n",
        "\n",
        "[video_distance]: https://www.youtube.com/watch?v=DrTsKgHg7ng\n",
        "\n",
        "</details>\n",
        "<br>\n",
        "<details>\n",
        "\n",
        "<summary>Answer </summary>\n",
        "\n",
        "```\n",
        "The distance is around 5.1 length units.\n",
        "```\n",
        "\n",
        "</details>"
      ]
    },
    {
      "cell_type": "markdown",
      "metadata": {
        "id": "sopttDAlP3HQ"
      },
      "source": [
        "---\n",
        "## 6. Euclidean distance in 3D (**)\n",
        "\n",
        "Calculate the distance between the points $P_1: (2,1,4)$ and $P_2: (3,1,0)$\n",
        "\n",
        "<details>\n",
        "\n",
        "<summary>Hint </summary>\n",
        "\n",
        "Let $p =(p_1, p_2, p_3)$ and $q = (q_1, q_2, q_3) \\Rightarrow$   \n",
        "\n",
        "$d(p,q) = \\sqrt{(p_1-q_1)^2 +(p_2-q_2)^2 +(p_3-q_3)^2 }$, where $d(p,q)$ is the Euclidean distance between $p$ and $q$\n",
        "\n",
        "</details>\n",
        "<br>\n",
        "<details>\n",
        "\n",
        "<summary>Answer </summary>\n",
        "\n",
        "```\n",
        "The distance is around 4.12 l.u.\n",
        "```\n",
        "\n",
        "</details>"
      ]
    },
    {
      "cell_type": "code",
      "source": [
        "import math\n",
        "P1 = 2\n",
        "P2 = 1\n",
        "P3 = 4\n",
        "Q1 = 3\n",
        "Q2 = 1\n",
        "Q3 = 0\n",
        "distance = math.sqrt((P1-Q1)**2 + (P2-Q2)**2 + (P3-Q3)**2)\n",
        "distance = round(distance,2)\n",
        "print(f\"The distance is {distance} length units\")"
      ],
      "metadata": {
        "id": "09_0yMp4CkWZ",
        "outputId": "87e9bf80-dd76-4b7b-a698-cfb694e809ef",
        "colab": {
          "base_uri": "https://localhost:8080/"
        }
      },
      "execution_count": null,
      "outputs": [
        {
          "output_type": "stream",
          "name": "stdout",
          "text": [
            "The distance is 4.12 length units\n"
          ]
        }
      ]
    }
  ],
  "metadata": {
    "colab": {
      "provenance": [],
      "include_colab_link": true
    },
    "kernelspec": {
      "display_name": "Python 3 (ipykernel)",
      "language": "python",
      "name": "python3"
    },
    "language_info": {
      "codemirror_mode": {
        "name": "ipython",
        "version": 3
      },
      "file_extension": ".py",
      "mimetype": "text/x-python",
      "name": "python",
      "nbconvert_exporter": "python",
      "pygments_lexer": "ipython3",
      "version": "3.8.13"
    },
    "vscode": {
      "interpreter": {
        "hash": "0da836a34428266995a795f1e1e27b816fa1c02f148d9728b3fbbbc5459afca6"
      }
    }
  },
  "nbformat": 4,
  "nbformat_minor": 0
}
