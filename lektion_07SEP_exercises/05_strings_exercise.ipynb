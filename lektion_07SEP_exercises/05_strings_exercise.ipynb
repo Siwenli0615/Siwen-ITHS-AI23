{
  "cells": [
    {
      "cell_type": "markdown",
      "metadata": {
        "id": "view-in-github",
        "colab_type": "text"
      },
      "source": [
        "<a href=\"https://colab.research.google.com/github/Siwenli0615/Hello-world/blob/main/lektion_07SEP_exercises/05_strings_exercise.ipynb\" target=\"_parent\"><img src=\"https://colab.research.google.com/assets/colab-badge.svg\" alt=\"Open In Colab\"/></a>"
      ]
    },
    {
      "cell_type": "markdown",
      "metadata": {
        "id": "4uEpN9NNQhJc"
      },
      "source": [
        "# strings exercises\n",
        "\n",
        "---\n",
        "These are introductory exercises in Python with focus in **strings**.\n",
        "\n",
        "<p class = \"alert alert-info\" role=\"alert\"><b>Remember</b> to use <b>descriptive variable names</b> in order to get readable code </p>\n",
        "\n",
        "<p class = \"alert alert-info\" role=\"alert\"><b>Remember</b> to format your answers in a neat way using <b>f-strings</b>\n",
        "\n",
        "<p class = \"alert alert-info\" role=\"alert\"><b>Remember</b> to format your input questions in a pedagogical way to guide the user\n",
        "\n",
        "The number of stars (\\*), (\\*\\*), (\\*\\*\\*) denotes the difficulty level of the task\n",
        "\n",
        "---"
      ]
    },
    {
      "cell_type": "markdown",
      "metadata": {
        "id": "_dOqDDyDQhJd"
      },
      "source": [
        "## 1. Counting letters (*)\n",
        "\n",
        "Let the user input a word:\n",
        "\n",
        "&nbsp; a) &nbsp; print out the number of letters in the word. (*)\n",
        "  \n",
        "&nbsp; b) &nbsp; print out the number of **uppercase** and **lowercase** letters of the word (*)   \n"
      ]
    },
    {
      "cell_type": "code",
      "source": [
        "word = input(\"Give me a word: \").split()\n",
        "word = [word.strip().upper() for word in word]\n",
        "[f\"The number of letters in '{word}' is: {len(word)}\" for word in word]"
      ],
      "metadata": {
        "id": "qAAKxJhkoSkt",
        "outputId": "03481e19-25b3-4bc1-dee2-25e4c8549a95",
        "colab": {
          "base_uri": "https://localhost:8080/"
        }
      },
      "execution_count": 25,
      "outputs": [
        {
          "name": "stdout",
          "output_type": "stream",
          "text": [
            "Give me a word: siwen li\n"
          ]
        },
        {
          "output_type": "execute_result",
          "data": {
            "text/plain": [
              "[\"The number of letters in 'SIWEN' is: 5\",\n",
              " \"The number of letters in 'LI' is: 2\"]"
            ]
          },
          "metadata": {},
          "execution_count": 25
        }
      ]
    },
    {
      "cell_type": "code",
      "source": [
        "new_word = input(\"Give me a new word: \")\n",
        "uppercase = 0\n",
        "lowercase = 0\n",
        "for i in new_word:\n",
        "  if i.isupper():\n",
        "    uppercase+=1\n",
        "  if i.islower():\n",
        "    lowercase+=1\n",
        "\n",
        "[f\"\"\"The number of uppercase letters in your word is: {uppercase}\n",
        "and the number of lowercase letters in your word is: {lowercase}\"\"\"]"
      ],
      "metadata": {
        "id": "9c5NZ83ppcRR",
        "outputId": "ea2522ea-7498-4e7f-beb8-ac1f3ae44986",
        "colab": {
          "base_uri": "https://localhost:8080/"
        }
      },
      "execution_count": 30,
      "outputs": [
        {
          "name": "stdout",
          "output_type": "stream",
          "text": [
            "Give me a new word: Siwen Li\n"
          ]
        },
        {
          "output_type": "execute_result",
          "data": {
            "text/plain": [
              "['The number of uppercase letters in your word is: 2 \\nand the number of lowercase letters in your word is: 5']"
            ]
          },
          "metadata": {},
          "execution_count": 30
        }
      ]
    },
    {
      "cell_type": "markdown",
      "metadata": {
        "id": "ubDgfpYrQhJe"
      },
      "source": [
        "---\n",
        "## 2. Counting words (*)\n",
        "\n",
        "Count the number of words in this sentence: \"A picture says more than a thousand words, a matematical formula says more than a thousand pictures.\" (*)\n",
        "\n",
        "<details>\n",
        "\n",
        "<summary>Answer</summary>\n",
        "\n",
        "```\n",
        "There are 17 words in that sentence\n",
        "```"
      ]
    },
    {
      "cell_type": "code",
      "source": [
        "sentence = \"A picture says more than a thousand words, a matematical formula says more than a thousand pictures.\"\n",
        "y = sentence.split()\n",
        "\n",
        "print(f\"the sentence has {len(y)} words\")\n"
      ],
      "metadata": {
        "id": "PlMjwitAqxpm",
        "outputId": "af6caeee-d515-401b-ce76-09ee84a42450",
        "colab": {
          "base_uri": "https://localhost:8080/"
        }
      },
      "execution_count": 40,
      "outputs": [
        {
          "output_type": "stream",
          "name": "stdout",
          "text": [
            "the sentence has 17 words\n"
          ]
        }
      ]
    },
    {
      "cell_type": "markdown",
      "metadata": {
        "id": "ZqvDvKPRQhJe"
      },
      "source": [
        "---\n",
        "## 3. Palindrome (*)\n",
        "\n",
        "A palindrome is a sequence of characters that is the same, when read forward as backwards (ignoring spaces). For example:\n",
        "- \"Anna\" is a palindrome\n",
        "- \"Ni talar bra latin\"\n",
        "- bjkjb\n",
        "\n",
        "Let the user input a sequence of characters and check if it is a palindrome. (*)"
      ]
    },
    {
      "cell_type": "code",
      "source": [
        "\n",
        "test = input(\"Give me a word or sentence that you think is a palinedrome: \")\n",
        "test = test.lower()\n",
        "test = test.replace(\" \",\"\")\n",
        "if test == test[::-1]:\n",
        "  print(\"yes it is a palindrome\")\n",
        "else:\n",
        "  print(\"no it is not a palinedrome\")\n",
        "\n",
        "\n",
        "\n",
        "\n"
      ],
      "metadata": {
        "id": "PPI4YI3Rspb7",
        "outputId": "8739221d-445c-4036-d61b-738fbae8de78",
        "colab": {
          "base_uri": "https://localhost:8080/"
        }
      },
      "execution_count": 69,
      "outputs": [
        {
          "output_type": "stream",
          "name": "stdout",
          "text": [
            "Give me a word or sentence that you think is a palinedrome: Ni talar bra latin\n",
            "yes it is a palindrome\n"
          ]
        }
      ]
    },
    {
      "cell_type": "markdown",
      "metadata": {
        "id": "K0MbPLPQQhJe"
      },
      "source": [
        "---\n",
        "## 4. Vowels (**)\n",
        "\n",
        "Count the number of vowels in this sentence: \"Pure mathematics is, in its way, the poetry of logical ideas\"\n",
        "\n",
        "<details>\n",
        "\n",
        "<summary>Answer</summary>\n",
        "\n",
        "```\n",
        "\n",
        "There are 22 vowels in this sentence\n",
        "\n",
        "```\n",
        "</details>"
      ]
    },
    {
      "cell_type": "code",
      "source": [
        "vowels = [\"a\",\"i\",\"u\",\"e\",\"o\",\"y\"]\n",
        "text = \"Pure mathematics is, in its way, the poetry of logical ideas\"\n",
        "vowels_sum = 0\n",
        "for i in text:\n",
        "  if i in vowels:\n",
        "    vowels_sum += 1\n",
        "\n",
        "print(vowels_sum)"
      ],
      "metadata": {
        "id": "fkUluu950ov-",
        "outputId": "97938a08-c825-4a0a-ee1a-07161f75a372",
        "colab": {
          "base_uri": "https://localhost:8080/"
        }
      },
      "execution_count": 70,
      "outputs": [
        {
          "output_type": "stream",
          "name": "stdout",
          "text": [
            "22\n"
          ]
        }
      ]
    },
    {
      "cell_type": "markdown",
      "metadata": {
        "id": "YCkksJpfQhJe"
      },
      "source": [
        "---\n",
        "## 5. Encryption (**)\n",
        "\n",
        "Let the user input a word and:\n",
        "\n",
        "&nbsp; a) &nbsp; encrypt the message by replacing each letter with the next letter. If the letter is in the end of the alphabet, use the first letter instead.\n",
        "\n",
        "e.g. in Swedish: \"höst\" $\\rightarrow$ \"iatu\"\n",
        "\n",
        "&nbsp; b) &nbsp; decrypt the message\n",
        "\n",
        "&nbsp; c) &nbsp; let the user choose either encryption or decryption."
      ]
    },
    {
      "cell_type": "code",
      "source": [
        "import string\n",
        "\n",
        "\n",
        "#swedish = [\"Å\",\"Ä\",\"Ö\",\"å\",\"ä\",\"ö\"] #\"Å\":197,\"Ä\":196,\"Ö\":214,\"å\":229,\"ä\":228,\"ö\":246\n",
        "#[ord(x) for x in swedish]\n",
        "# A=65 Z=90 a=97 z=122\n",
        "\n",
        "def encrypt(text):  # encrypt:\n",
        "  shift = 1      # the number of steps shift to the right\n",
        "            # (-1 will be to the left, i.e. b-->a)\n",
        "  encrypted = []\n",
        "  for i in text:\n",
        "    if i.isalpha():\n",
        "      if i == \"z\":\n",
        "        new = chr(ord(\"a\")+shift-1)\n",
        "        encrypted.append(new)\n",
        "      else:\n",
        "        new = chr(ord(i)+shift)\n",
        "        encrypted.append(new)\n",
        "    else:\n",
        "      encrypted.append(i)\n",
        "  encrypted = \"\".join(encrypted)\n",
        "  print(f\"The encrypted text is: \\033[91m{encrypted}\\033[0m\")\n",
        "  return\n",
        "\n",
        "def decrypt(text):\n",
        "  decrypted = []\n",
        "  shift = 1\n",
        "  for i in text:\n",
        "    if i.isalpha():\n",
        "      if i == \"a\":\n",
        "        new = chr(ord(\"z\")-shift+1)\n",
        "        decrypted.append(new)\n",
        "      else:\n",
        "        new = chr(ord(i)-shift)\n",
        "        decrypted.append(new)\n",
        "    else:\n",
        "      decrypted.append(i)\n",
        "  decrypted = \"\".join(decrypted)\n",
        "  print(f\"The decrypted text is: \\033[91m {decrypted}\\033[0m\")\n",
        "  return\n",
        "\n",
        "while True:\n",
        "  print(\"\"\"\n",
        "  1. encrypt your text\n",
        "  2. decrypt your text\n",
        "  3. exit \"\"\")\n",
        "  your_choice = input(\"Your choice: >\")\n",
        "  if your_choice == \"1\":\n",
        "    text = input(\"Enter your text here: > \")\n",
        "    encrypt(text)\n",
        "  elif your_choice == \"2\":\n",
        "    text = input(\"Enter your text here: > \")\n",
        "    decrypt(text)\n",
        "  elif your_choice == \"3\":\n",
        "    print(\"\\033[1m Thank you and bye! \\033[0m\")\n",
        "    break\n",
        "  else:\n",
        "    print(\"\\033[91m Sorry you need to choose between 1-3, please try again \\033[0m\")\n",
        "\n",
        "\n",
        ""
      ],
      "metadata": {
        "id": "zMxnikay-oMe",
        "outputId": "ebbb9e4b-2665-4b4e-def1-df5ae08d1852",
        "colab": {
          "base_uri": "https://localhost:8080/"
        }
      },
      "execution_count": 11,
      "outputs": [
        {
          "output_type": "stream",
          "name": "stdout",
          "text": [
            "\n",
            "  1. encrypt your text\n",
            "  2. decrypt your text\n",
            "  3. exit \n",
            "Your choice: >3\n",
            "\u001b[1m Thank you and bye! \u001b[0m\n"
          ]
        }
      ]
    }
  ],
  "metadata": {
    "colab": {
      "provenance": [],
      "toc_visible": true,
      "include_colab_link": true
    },
    "kernelspec": {
      "display_name": "Python 3 (ipykernel)",
      "language": "python",
      "name": "python3"
    },
    "language_info": {
      "codemirror_mode": {
        "name": "ipython",
        "version": 3
      },
      "file_extension": ".py",
      "mimetype": "text/x-python",
      "name": "python",
      "nbconvert_exporter": "python",
      "pygments_lexer": "ipython3",
      "version": "3.8.13"
    },
    "vscode": {
      "interpreter": {
        "hash": "0da836a34428266995a795f1e1e27b816fa1c02f148d9728b3fbbbc5459afca6"
      }
    }
  },
  "nbformat": 4,
  "nbformat_minor": 0
}