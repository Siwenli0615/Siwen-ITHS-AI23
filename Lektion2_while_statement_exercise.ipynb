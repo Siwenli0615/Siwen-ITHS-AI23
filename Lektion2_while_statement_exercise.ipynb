{
  "cells": [
    {
      "cell_type": "markdown",
      "metadata": {
        "id": "view-in-github",
        "colab_type": "text"
      },
      "source": [
        "<a href=\"https://colab.research.google.com/github/Siwenli0615/Hello-world/blob/main/Lektion2_while_statement_exercise.ipynb\" target=\"_parent\"><img src=\"https://colab.research.google.com/assets/colab-badge.svg\" alt=\"Open In Colab\"/></a>"
      ]
    },
    {
      "cell_type": "markdown",
      "metadata": {
        "id": "Po7swMETQNgZ"
      },
      "source": [
        "## 1. Count numbers (*)\n",
        "\n",
        "Use a **while** statement to count from -10 to 10 with one increment.\n",
        "\n",
        "<details>\n",
        "\n",
        "<summary>Hint </summary>\n",
        "\n",
        "```python\n",
        "\n",
        "i += 1 # adds one and assigns it to i, equivalent to i = i + 1\n",
        "```\n",
        "\n",
        "</details>\n",
        "<br>\n",
        "<details>\n",
        "\n",
        "<summary>Answer </summary>\n",
        "\n",
        "```\n",
        "\n",
        "-10 -9 -8 -7 -6 -5 -4 -3 -2 -1 0 1 2 3 4 5 6 7 8 9 10\n",
        "```\n",
        "\n",
        "</details>\n"
      ]
    },
    {
      "cell_type": "code",
      "source": [
        "#Use a while statement to count from -10 to 10 with one increment.\n",
        "i = -11\n",
        "\n",
        "while i < 10:\n",
        "  i += 1\n",
        "  print(i)"
      ],
      "metadata": {
        "colab": {
          "base_uri": "https://localhost:8080/"
        },
        "id": "s1W5lvzljaEF",
        "outputId": "7f99fd7b-607e-4325-d295-531008166482"
      },
      "execution_count": null,
      "outputs": [
        {
          "output_type": "stream",
          "name": "stdout",
          "text": [
            "-10\n",
            "-9\n",
            "-8\n",
            "-7\n",
            "-6\n",
            "-5\n",
            "-4\n",
            "-3\n",
            "-2\n",
            "-1\n",
            "0\n",
            "1\n",
            "2\n",
            "3\n",
            "4\n",
            "5\n",
            "6\n",
            "7\n",
            "8\n",
            "9\n",
            "10\n"
          ]
        }
      ]
    },
    {
      "cell_type": "markdown",
      "metadata": {
        "id": "bt8iHnYRQNga"
      },
      "source": [
        "---\n",
        "## 2. Arithmetic sum (*)\n",
        "Use a **while** statement to compute the following sums:\n",
        "\n",
        "&nbsp; a) &nbsp; $\\text{sum} = 1 + 2 + \\ldots + 99+ 100$\n",
        "\n",
        "&nbsp; b) &nbsp; $\\text{sum} = 1 + 3 + 5 + \\ldots + 97 + 99$\n",
        "\n",
        "<details>\n",
        "\n",
        "<summary>Answer </summary>\n",
        "\n",
        "```\n",
        "a) 1 + 2 + ... + 99 + 100 = 5050\n",
        "\n",
        "b) 1 + 3 + 5 +...+ 97 + 99 = 2500\n",
        "```\n",
        "\n",
        "</details>"
      ]
    },
    {
      "cell_type": "code",
      "source": [
        "# Use a while statement to compute the following sums:   a)    sum=1+2+…+99+100\n",
        "i = 0\n",
        "sum = 0\n",
        "while i < 100:\n",
        "  i += 1\n",
        "  sum += i\n",
        "print(sum)\n",
        "\n",
        "#b)    sum=1+3+5+…+97+99\n",
        "j = 1\n",
        "sum2 = 0\n",
        "while j <= 99:\n",
        "  sum2 += j\n",
        "  j += 2\n",
        "\n",
        "print(sum2)\n"
      ],
      "metadata": {
        "colab": {
          "base_uri": "https://localhost:8080/"
        },
        "id": "NJYMgXw2kmBw",
        "outputId": "2665767d-4b46-45d3-fd97-30c0a54931b2"
      },
      "execution_count": null,
      "outputs": [
        {
          "output_type": "stream",
          "name": "stdout",
          "text": [
            "5050\n",
            "2500\n"
          ]
        }
      ]
    },
    {
      "cell_type": "markdown",
      "metadata": {
        "id": "NxECsk35QNgb"
      },
      "source": [
        "---\n",
        "## 3. Guess number game (*)\n",
        "&nbsp; a) &nbsp; Create a guessing number game following this flow chart:\n",
        "\n",
        "<img align=\"left\" src=\"https://github.com/aleylani/Python/blob/main/assets/guessing_game.png?raw=1\" width=\"300\"/>"
      ]
    },
    {
      "cell_type": "markdown",
      "metadata": {
        "id": "ZKtnK2rOQNgc"
      },
      "source": [
        "&nbsp; b) &nbsp; Make an algorithm to automatically guess the correct number. Can you optimize to get as few guesses as possible? (**)\n",
        "\n",
        "<details>\n",
        "\n",
        "<summary>Hint </summary>\n",
        "\n",
        "&nbsp; b) &nbsp; Half your testing number each time\n",
        "\n",
        "</details>"
      ]
    },
    {
      "cell_type": "markdown",
      "metadata": {
        "id": "D3P-6PvDQNgc"
      },
      "source": [
        "---\n",
        "## 4. Multiplication game (*)\n",
        "&nbsp; a) &nbsp; Create a multiplication game following this flow chart:\n",
        "\n",
        "<img align=\"left\" src=\"https://github.com/aleylani/Python/blob/main/assets/Multiplication_game.png?raw=1\" width=\"300\"/>"
      ]
    },
    {
      "cell_type": "markdown",
      "metadata": {
        "id": "ScWfGvWxQNgc"
      },
      "source": [
        "&nbsp; b) &nbsp; Add a menu for choosing difficulty level of the game\n",
        "\n",
        "&nbsp; c) &nbsp; Feel free to extend this program with features of your choice."
      ]
    },
    {
      "cell_type": "markdown",
      "metadata": {
        "id": "pnm3fwjJQNgd"
      },
      "source": [
        "---\n",
        "## 5. Check convergence (**)\n",
        "Use a while statement to compute the following sums:\n",
        "\n",
        "&nbsp; a) &nbsp; $\\text{sum} = 1 + \\frac{1}{2} + \\frac{1}{4} + \\frac{1}{8} + \\dots + \\frac{1}{2^n}$\n",
        "\n",
        "&nbsp; b) &nbsp; $\\text{sum} = 1 - \\frac{1}{3} + \\frac{1}{5} - \\frac{1}{7} + \\dots + \\frac{(-1)^n}{2n+1}$\n",
        "\n",
        "Try different values on $n$ to see which value it converges to.\n",
        "\n",
        "<details>\n",
        "\n",
        "<summary>Answer </summary>\n",
        "\n",
        "&nbsp; a) &nbsp; $1 + \\frac{1}{2} + \\frac{1}{4} + \\frac{1}{8} + \\dots + \\frac{1}{2^n} \\xrightarrow[n\\rightarrow \\infty]{} 2$\n",
        "\n",
        "&nbsp; b) &nbsp; $ 1 - \\frac{1}{3} + \\frac{1}{5} - \\frac{1}{7} + \\dots + \\frac{(-1)^n}{2n+1} \\xrightarrow[n\\rightarrow \\infty]{} \\frac{\\pi}{4}$\n",
        "\n",
        "</details>"
      ]
    }
  ],
  "metadata": {
    "colab": {
      "provenance": [],
      "include_colab_link": true
    },
    "kernelspec": {
      "display_name": "Python 3 (ipykernel)",
      "language": "python",
      "name": "python3"
    },
    "language_info": {
      "codemirror_mode": {
        "name": "ipython",
        "version": 3
      },
      "file_extension": ".py",
      "mimetype": "text/x-python",
      "name": "python",
      "nbconvert_exporter": "python",
      "pygments_lexer": "ipython3",
      "version": "3.8.13"
    },
    "vscode": {
      "interpreter": {
        "hash": "0da836a34428266995a795f1e1e27b816fa1c02f148d9728b3fbbbc5459afca6"
      }
    }
  },
  "nbformat": 4,
  "nbformat_minor": 0
}