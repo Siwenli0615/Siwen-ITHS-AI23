{
  "nbformat": 4,
  "nbformat_minor": 0,
  "metadata": {
    "colab": {
      "provenance": [],
      "authorship_tag": "ABX9TyPhaJs9UAuJtGq1w4DHXjle",
      "include_colab_link": true
    },
    "kernelspec": {
      "name": "python3",
      "display_name": "Python 3"
    },
    "language_info": {
      "name": "python"
    }
  },
  "cells": [
    {
      "cell_type": "markdown",
      "metadata": {
        "id": "view-in-github",
        "colab_type": "text"
      },
      "source": [
        "<a href=\"https://colab.research.google.com/github/Siwenli0615/General/blob/main/class%20Video.ipynb\" target=\"_parent\"><img src=\"https://colab.research.google.com/assets/colab-badge.svg\" alt=\"Open In Colab\"/></a>"
      ]
    },
    {
      "cell_type": "code",
      "execution_count": 19,
      "metadata": {
        "id": "aOrXNh4Dv7Ez"
      },
      "outputs": [],
      "source": [
        "class Video():\n",
        "  def __init__(self,title:str,genre:str,rating:float):\n",
        "    if not isinstance(title,str):\n",
        "      raise TypeError('Title needs to be string')\n",
        "    if not isinstance(genre,str):\n",
        "      raise TypeError('Genre needs to be string')\n",
        "    if not isinstance(rating,(float,int)):\n",
        "      raise TypeError('Rating needs to be a float number')\n",
        "    self.title = title\n",
        "    self.genre = genre\n",
        "    self.rating = rating\n",
        "\n",
        "  def info(self)->str:\n",
        "    print(f'''{Video} with title {self.title},genre {self.genre}, rating {self.rating} ''')\n",
        "\n",
        "class TV_serie(Video):\n",
        "  def __init__(self,TV_title:str,TV_genre:str,TV_rating:float,num_episodes:int):\n",
        "    super().__init__(TV_title,TV_genre,TV_rating)\n",
        "    if not isinstance(num_episodes,int):\n",
        "      raise TypeError('Numbers of episodes need to be integer')\n",
        "    self.num_epi = num_episodes\n",
        "class Movie(Video):\n",
        "  def __init__(self,Movie_title:str,Movie_genre:str,Movie_rating:float,Duration:float):\n",
        "    super().__init__(Movie_title,Movie_genre,Movie_rating)\n",
        "    if not isinstance(Duration,(float,int)):\n",
        "      raise TypeError('Duration shall be in float or integer')\n",
        "    self.duration = Duration\n",
        "class Documentary(Video):\n",
        "  def __init__(self,Doc_name:str,Doc_genre:str,Doc_ration:float):\n",
        "    super().__init__(Doc_name,Doc_genre,Doc_ration)\n",
        "\n"
      ]
    },
    {
      "cell_type": "code",
      "source": [
        "pokemon = TV_serie(\"Pokemon\", \"Cartoon\", 4.5, 550)\n",
        "titanic = Movie(\"Titanic\", \"Romance\", 4.7, 194)\n",
        "code = Documentary(\"The Code\", \"Math\", 4)\n"
      ],
      "metadata": {
        "id": "0-kcf3R-2o78"
      },
      "execution_count": 20,
      "outputs": []
    },
    {
      "cell_type": "code",
      "source": [
        "for video in tuple((pokemon, titanic, code)):\n",
        "    print(video.info())"
      ],
      "metadata": {
        "colab": {
          "base_uri": "https://localhost:8080/"
        },
        "id": "rqK3G8qv3EfQ",
        "outputId": "d7dc1325-770f-4c2c-83c5-a3f2c484304a"
      },
      "execution_count": 21,
      "outputs": [
        {
          "output_type": "stream",
          "name": "stdout",
          "text": [
            "<class '__main__.Video'> with title Pokemon,genre Cartoon, rating 4.5 \n",
            "None\n",
            "<class '__main__.Video'> with title Titanic,genre Romance, rating 4.7 \n",
            "None\n",
            "<class '__main__.Video'> with title The Code,genre Math, rating 4 \n",
            "None\n"
          ]
        }
      ]
    }
  ]
}