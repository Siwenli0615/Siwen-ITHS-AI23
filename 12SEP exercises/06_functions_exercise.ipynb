{
  "cells": [
    {
      "cell_type": "markdown",
      "metadata": {
        "id": "view-in-github",
        "colab_type": "text"
      },
      "source": [
        "<a href=\"https://colab.research.google.com/github/Siwenli0615/Hello-world/blob/main/12SEP%20exercises/06_functions_exercise.ipynb\" target=\"_parent\"><img src=\"https://colab.research.google.com/assets/colab-badge.svg\" alt=\"Open In Colab\"/></a>"
      ]
    },
    {
      "cell_type": "markdown",
      "metadata": {
        "id": "GCjW3bj4Rjiy"
      },
      "source": [
        "# functions exercises\n",
        "\n",
        "---\n",
        "These are introductory exercises in Python with focus in **functions**.\n",
        "\n",
        "<p class = \"alert alert-info\" role=\"alert\"><b>Remember</b> to use <b>descriptive variable and function names</b> in order to get readable code </p>\n",
        "\n",
        "<p class = \"alert alert-info\" role=\"alert\"><b>Remember</b> to format your answers in a neat way using <b>f-strings</b>\n",
        "\n",
        "<p class = \"alert alert-info\" role=\"alert\"><b>Remember</b> to format your input questions in a pedagogical way to guide the user\n",
        "\n",
        "The number of stars (\\*), (\\*\\*), (\\*\\*\\*) denotes the difficulty level of the task\n",
        "\n",
        "---"
      ]
    },
    {
      "cell_type": "markdown",
      "metadata": {
        "id": "U1m45wj-Rjiy"
      },
      "source": [
        "## 1. Area (*)\n",
        "\n",
        "Create a function that takes the base and height of a triangle as input parameters and returns the area of the triangle."
      ]
    },
    {
      "cell_type": "code",
      "source": [
        "def triangle_area(b,h):\n",
        "\n",
        "  area_triangle = b * h / 2\n",
        "  svar = print(f\"The area of a triangle with base {b} and height {h} is {area_triangle} a.u.\")\n",
        "\n",
        "  return svar\n",
        "\n",
        "b = float(input(\"Please enter the base of the triangle: > \"))\n",
        "h = float(input(\"Please enter the height of the triangle: > \"))\n",
        "triangle_area(b,h)"
      ],
      "metadata": {
        "id": "N93lgaNauVis",
        "outputId": "cc3d2a38-5d31-437a-f334-e32bdb773b6b",
        "colab": {
          "base_uri": "https://localhost:8080/"
        }
      },
      "execution_count": 2,
      "outputs": [
        {
          "output_type": "stream",
          "name": "stdout",
          "text": [
            "Please enter the base of the triangle: > 5\n",
            "Please enter the height of the triangle: > 6\n",
            "The area of a triangle with base 5.0 and height 6.0 is 15.0 a.e.\n"
          ]
        }
      ]
    },
    {
      "cell_type": "markdown",
      "metadata": {
        "id": "BWpBhHfdRjiy"
      },
      "source": [
        "import---\n",
        "\n",
        "## 2. Euclidean distance (*)\n",
        "\n",
        "The formula for Euclidean distance in 2D between $P: (p_1, p_2)$ and $Q: (q_1, q_2)$  is:\n",
        "\n",
        "$d(P,Q) = \\sqrt{(p_1-q_1)^2 + (p_2-q_2)^2}$\n",
        "\n",
        "&nbsp; a) &nbsp; Create a function that takes two points as input parameters and return the Euclidean between them. (*)\n",
        "\n",
        "&nbsp; b) &nbsp; Let the user input two points. Call the function using the users input points. (*)\n",
        "\n",
        "&nbsp; c) &nbsp; Use your function to calculate distances between the origin (0, 0) and each of these points: (10, 3), (-1, -9), (10, -10), (4, -2), (9, -10). (*)\n",
        "\n",
        "<details>\n",
        "\n",
        "<summary>Hint</summary>\n",
        "\n",
        "Use a **for** statement\n",
        "\n",
        "</details>\n",
        "<br>\n",
        "<details>\n",
        "\n",
        "<summary>Answer</summary>\n",
        "\n",
        "c)\n",
        "\n",
        "```\n",
        "[10.4, 9.1, 14.1, 4.5, 13.5]\n",
        "```\n",
        "\n",
        "</details>\n"
      ]
    },
    {
      "cell_type": "code",
      "source": [
        "import math\n",
        "\n",
        "p1 = float(input(\"Please enter P1: > \"))\n",
        "q1 = float(input(\"Please enter Q1: > \"))\n",
        "p2 = float(input(\"Please enter P2: > \"))\n",
        "q2 = float(input(\"Please enter Q2: > \"))\n",
        "\n",
        "def euclidean_distance(p1,p2,q1,q2):\n",
        "  d = math.sqrt((p1-q1)**2 + (p2-q2)**2)\n",
        "  d = round(d,1)\n",
        "  print(f\"The Euclidean distance between (p1,p2)  and  Q:(q1,q2)  is: {d} l.u.\")\n",
        "euclidean_distance(p1,q1,p2,q2)\n"
      ],
      "metadata": {
        "id": "hkilxa8VvYMU",
        "outputId": "0766c055-45c9-4512-81df-8dab0d3cf91a",
        "colab": {
          "base_uri": "https://localhost:8080/"
        }
      },
      "execution_count": 21,
      "outputs": [
        {
          "output_type": "stream",
          "name": "stdout",
          "text": [
            "Please enter P1: > 10\n",
            "Please enter Q1: > -10\n",
            "Please enter P2: > 0\n",
            "Please enter Q2: > 0\n",
            "The Euclidean distance between (p1,p2)  and  Q:(q1,q2)  is: 14.1 l.u.\n"
          ]
        }
      ]
    },
    {
      "cell_type": "markdown",
      "metadata": {
        "id": "Je3hvdMsRji0"
      },
      "source": [
        "---\n",
        "## 3. Mathematical functions (*)\n",
        "\n",
        "Make the following functions with **def** and plot their graphs in the same figure window, with $x\\in [-10,10]$ :\n",
        "\n",
        "&nbsp; a) &nbsp;  $f(x) = x^2 -3$ (*)\n",
        "\n",
        "&nbsp; b) &nbsp; $g(x) = 4x-7$ (*)\n",
        "\n",
        "What could the relation between $f(x)$ and $g(x)$ be?\n",
        "\n",
        "<details>\n",
        "\n",
        "<summary>Hint</summary>\n",
        "Use numpy's linspace function:\n",
        "\n",
        "```python\n",
        "import numpy as np\n",
        "x = np.linspace(-10,10)\n",
        "```\n",
        "\n",
        "[Derivative video][derivative_video] (Swedish)\n",
        "\n",
        "[Derivative of polynomials][derivative_polynomial] (Swedish)\n",
        "\n",
        "[derivative_video]: https://www.youtube.com/watch?v=hzXJxOXkU_M\n",
        "[derivative_polynomial]: https://www.youtube.com/watch?v=dFnro1sBn1Y\n",
        "\n",
        "</details>\n",
        "<br>\n",
        "<details>\n",
        "\n",
        "<summary>Answer</summary>\n",
        "\n",
        "<img align=\"left\" src=\"https://github.com/aleylani/Python/blob/main/assets/functions_graph.png?raw=1\" width=\"200\"/>\n",
        "\n",
        "</details>\n"
      ]
    },
    {
      "cell_type": "code",
      "source": [
        "import matplotlib.pyplot as plt\n",
        "import numpy as np\n",
        "\n",
        "x_value = np.linspace(-10,10)\n",
        "fx = [x**2-3 for x in np.linspace(-10,10)]\n",
        "gx = [4*x-7 for x in np.linspace(-10,10)]\n",
        "\n",
        "plt.plot(x_value,fx)\n",
        "plt.plot(x_value,gx)\n",
        "\n",
        "plt.title(f\"f(x)=$x^2−3$ and g(x)=4x−7\")\n",
        "plt.xlabel(\"x\")\n",
        "plt.ylabel(\"y\")\n",
        "\n",
        "\n",
        "\n"
      ],
      "metadata": {
        "id": "WePjDVUyw8uA",
        "outputId": "d57133e7-845b-4e56-80b0-72e8d4fde1fe",
        "colab": {
          "base_uri": "https://localhost:8080/",
          "height": 494
        }
      },
      "execution_count": 29,
      "outputs": [
        {
          "output_type": "execute_result",
          "data": {
            "text/plain": [
              "Text(0, 0.5, 'y')"
            ]
          },
          "metadata": {},
          "execution_count": 29
        },
        {
          "output_type": "display_data",
          "data": {
            "text/plain": [
              "<Figure size 640x480 with 1 Axes>"
            ],
            "image/png": "[encoded data removed]"
          },
          "metadata": {}
        }
      ]
    },
    {
      "cell_type": "markdown",
      "metadata": {
        "id": "oDD5-Sy3Rji0"
      },
      "source": [
        "---\n",
        "## 4. Name cleaner (*)\n",
        "\n",
        "Create a function that takes a name as an input and:\n",
        "\n",
        "- removes all leading and trailing blank spaces\n",
        "- make capitalize the first character of each name, and make the rest lowercase\n",
        "\n",
        "Use your function on this list of strings:\n",
        "\n",
        "```\n",
        "[\"  MaRcUs \", \" iDA aNderSon\", \"OLOF Olofsson            \"  ]\n",
        "```\n",
        "\n",
        "\n",
        "<details>\n",
        "\n",
        "<summary>Hint</summary>\n",
        "Use\n",
        "\n",
        "- [title() method][str_title]\n",
        "- [strip() method][str_strip]\n",
        "- [join() method][str_join]\n",
        "- [split() method][str_split]\n",
        "\n",
        "[str_title]: https://www.w3schools.com/python/ref_string_title.asp\n",
        "[str_strip]: https://www.w3schools.com/python/ref_string_strip.asp\n",
        "[str_join]: https://www.w3schools.com/python/ref_string_join.asp\n",
        "[str_split]: https://www.w3schools.com/python/ref_string_split.asp\n",
        "\n",
        "</details>\n",
        "<br>\n",
        "<details>\n",
        "\n",
        "<summary>Answer</summary>\n",
        "\n",
        "```\n",
        "Marcus\n",
        "Ida Anderson\n",
        "Olof Olofsson\n",
        "```\n",
        "\n",
        "</details>\n"
      ]
    },
    {
      "cell_type": "code",
      "source": [
        "def name_test(names):\n",
        "  return [print(f\"{i.strip().title()}\") for i in names]\n",
        "\n",
        "name_test([\"  MaRcUs \", \" iDA aNderSon\", \"OLOF Olofsson            \"  ])"
      ],
      "metadata": {
        "id": "d1x5ufYM8bEu",
        "outputId": "ec1509be-1216-43a7-d859-a96b8fa70332",
        "colab": {
          "base_uri": "https://localhost:8080/"
        }
      },
      "execution_count": 44,
      "outputs": [
        {
          "output_type": "stream",
          "name": "stdout",
          "text": [
            "Marcus\n",
            "Ida Anderson\n",
            "Olof Olofsson\n"
          ]
        },
        {
          "output_type": "execute_result",
          "data": {
            "text/plain": [
              "[None, None, None]"
            ]
          },
          "metadata": {},
          "execution_count": 44
        }
      ]
    },
    {
      "cell_type": "markdown",
      "metadata": {
        "id": "KPzkiXToRji1"
      },
      "source": [
        "---\n",
        "## 5. Change (**)\n",
        "\n",
        "Create a function that takes a value as input parameter and print out the banknotes and coins in Swedish currency representing this value. For example 5289 would give the following printout:\n",
        "\n",
        "- 5st 1000-lapp\n",
        "- 1st 200-lapp\n",
        "- 1st 50-lapp\n",
        "- 1st 20-lapp\n",
        "- 1st 10-krona\n",
        "- 1st 5-krona\n",
        "- 2st 2-krona\n",
        "\n",
        "Now let the user input a value, and use the function to calculate the change."
      ]
    },
    {
      "cell_type": "code",
      "source": [
        "entered_value = int(input(\"Please enter a value (needs to be integer): >\"))\n",
        "value_left = entered_value\n",
        "valoor = [1000,200,50,20,10,5,2,1]\n",
        "for i in valoor:\n",
        "  lappar = value_left//i\n",
        "  if i > 11:\n",
        "    print(f\"* {lappar}st {i}-lapp\")\n",
        "    value_left = value_left - lappar*i\n",
        "  elif i <= 10:\n",
        "    print(f\"* {lappar}st {i}-krona\")\n",
        "    value_left = value_left - lappar*i\n",
        "\n",
        "\n",
        "\n"
      ],
      "metadata": {
        "id": "MFKpAGku-MS5",
        "outputId": "a9758d57-6a9a-4fa8-f727-89ad052e44e5",
        "colab": {
          "base_uri": "https://localhost:8080/"
        }
      },
      "execution_count": 54,
      "outputs": [
        {
          "output_type": "stream",
          "name": "stdout",
          "text": [
            "Please enter a value (needs to be integer): >16\n",
            "* 0st 1000-lapp\n",
            "* 0st 200-lapp\n",
            "* 0st 50-lapp\n",
            "* 0st 20-lapp\n",
            "* 1st 10-krona\n",
            "* 1st 5-krona\n",
            "* 0st 2-krona\n",
            "* 1st 1-krona\n"
          ]
        }
      ]
    },
    {
      "cell_type": "code",
      "source": [
        "56986//1000\n"
      ],
      "metadata": {
        "id": "Deb_TnaVAJWA",
        "outputId": "46de2979-24ea-4cc6-c9fd-ade9f75877ee",
        "colab": {
          "base_uri": "https://localhost:8080/"
        }
      },
      "execution_count": 46,
      "outputs": [
        {
          "output_type": "execute_result",
          "data": {
            "text/plain": [
              "56"
            ]
          },
          "metadata": {},
          "execution_count": 46
        }
      ]
    }
  ],
  "metadata": {
    "colab": {
      "provenance": [],
      "toc_visible": true,
      "include_colab_link": true
    },
    "kernelspec": {
      "display_name": "Python 3 (ipykernel)",
      "language": "python",
      "name": "python3"
    },
    "language_info": {
      "codemirror_mode": {
        "name": "ipython",
        "version": 3
      },
      "file_extension": ".py",
      "mimetype": "text/x-python",
      "name": "python",
      "nbconvert_exporter": "python",
      "pygments_lexer": "ipython3",
      "version": "3.8.13"
    },
    "vscode": {
      "interpreter": {
        "hash": "0da836a34428266995a795f1e1e27b816fa1c02f148d9728b3fbbbc5459afca6"
      }
    }
  },
  "nbformat": 4,
  "nbformat_minor": 0
}