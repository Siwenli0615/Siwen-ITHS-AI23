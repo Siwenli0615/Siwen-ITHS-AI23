{
  "nbformat": 4,
  "nbformat_minor": 0,
  "metadata": {
    "colab": {
      "provenance": [],
      "toc_visible": true,
      "authorship_tag": "ABX9TyMloueb+WjQry7okkok8P+O",
      "include_colab_link": true
    },
    "kernelspec": {
      "name": "python3",
      "display_name": "Python 3"
    },
    "language_info": {
      "name": "python"
    }
  },
  "cells": [
    {
      "cell_type": "markdown",
      "metadata": {
        "id": "view-in-github",
        "colab_type": "text"
      },
      "source": [
        "<a href=\"https://colab.research.google.com/github/Siwenli0615/General/blob/main/lektions%C3%B6vning_class1.ipynb\" target=\"_parent\"><img src=\"https://colab.research.google.com/assets/colab-badge.svg\" alt=\"Open In Colab\"/></a>"
      ]
    },
    {
      "cell_type": "code",
      "execution_count": null,
      "metadata": {
        "id": "ygyKwxxcpdwY"
      },
      "outputs": [],
      "source": [
        "class Person:\n",
        "  \"\"\"here I can put more information about Person as a description of this class. \"\"\"\n",
        "  def __init__(self,namn,skola,program,åler):\n",
        "    self._name = namn\n",
        "    self.__school = skola\n",
        "    self.programme = program\n",
        "    self.age = åler\n",
        "\n",
        "  @property\n",
        "  def school(self):\n",
        "    return self.__school\n",
        "\n",
        "\n",
        "  def __repr__(self):\n",
        "    return f\"The name is: {self._name}, \\nthe school: {self.__school}, \\ngoing in programme: {self.programme} \\nand the age is {self.age}\"\n",
        "\n",
        "  def birthday(self):\n",
        "    self.age+=1\n",
        "  def change_name(self,new_name):\n",
        "    self.name = new_name\n",
        "\n",
        "\n",
        "\n",
        "\n"
      ]
    },
    {
      "cell_type": "code",
      "source": [
        "person1 = Person('Siwen',['KTH','SU','ITHS'],\"AI for pros\",38)\n",
        "person2 = Person('Li','KTH','Kemi',38)\n",
        "person3 = Person('Jiang',\"HIT\",\"architect\",33)\n",
        "\n",
        "\n",
        "\n",
        "print(f\"person1 name: {person1._name}, age: {person1.age}\")\n",
        "print(f\"person2 name: {person2._name}, age: {person2.age}\")\n",
        "print(f\"person3 name: {person3._name}, age: {person3.age}\")"
      ],
      "metadata": {
        "colab": {
          "base_uri": "https://localhost:8080/"
        },
        "id": "3EtlbJdliO6u",
        "outputId": "3a177982-fa65-425f-c264-a27a4c1c1f96"
      },
      "execution_count": null,
      "outputs": [
        {
          "output_type": "stream",
          "name": "stdout",
          "text": [
            "person1 name: Siwen, age: 38\n",
            "person2 name: Li, age: 38\n",
            "person3 name: Jiang, age: 33\n"
          ]
        }
      ]
    },
    {
      "cell_type": "code",
      "source": [
        "# ny klass, namn: varor\n",
        "# namn, pris, brand, giltighetsdatum\n",
        "# doc-str som förklarar vad klassen är för något\n",
        "# skapa __repr__ som returnerar en f-str med alla instansens attribut\n",
        "# metod som tar ett argument \"discount\" som applicerar discount på priset"
      ],
      "metadata": {
        "id": "tHzLaU1hk4gr"
      },
      "execution_count": null,
      "outputs": []
    },
    {
      "cell_type": "code",
      "source": [
        "class Vara:\n",
        "  \"\"\" Denna class visar namn, pris, brand, giltighetsdatum och antal kvar på varorna\"\"\"\n",
        "  def __init__(self,namn,pris,brand,giltighetsdatum,i_lager):\n",
        "    self.__name = namn\n",
        "    self.__price = round(pris,2)\n",
        "    self.__brand = brand\n",
        "    self.expire_date = giltighetsdatum\n",
        "    self.available = i_lager\n",
        "    self.current_price = self.__price\n",
        "\n",
        "  @property\n",
        "  def name(self):\n",
        "    return self.__name\n",
        "  def brand(self):\n",
        "    return self.__brand\n",
        "\n",
        "\n",
        "\n",
        "  def __repr__(self):\n",
        "    return f\"\"\"{self.__name}:\n",
        "    Current price: {self.current_price}kr\n",
        "    Brans: {self.__brand}\n",
        "    Expire date: {self.expire_date}\n",
        "    Available: {self.available}pcs\"\"\"\n",
        "\n",
        "  def discount(self,discount_rate):\n",
        "    self.current_price = round(self.__price*(1-discount_rate/100),2)\n",
        "\n",
        "  def purchase(self,pieces):\n",
        "    if pieces<=self.available:\n",
        "      self.available -= pieces\n",
        "    else:\n",
        "      return f\"Sorry we have only {self.available}pcs left!\"\n",
        "\n"
      ],
      "metadata": {
        "id": "ad-Wwty6lYN0"
      },
      "execution_count": null,
      "outputs": []
    },
    {
      "cell_type": "code",
      "source": [
        "kaffe1 = Vara('snabbkaffe',59.90,'Linnbergs','11SEP2023',100)\n",
        "ost1 = Vara('HusmansOst',64.90,'Eldorado','22OCT2024',50)\n"
      ],
      "metadata": {
        "id": "9Ha9Xf4ynCU3"
      },
      "execution_count": null,
      "outputs": []
    },
    {
      "cell_type": "code",
      "source": [
        "print(kaffe1)\n",
        "kaffe1.discount(20)\n",
        "print(kaffe1)"
      ],
      "metadata": {
        "colab": {
          "base_uri": "https://localhost:8080/"
        },
        "id": "6C7fER_VmXXR",
        "outputId": "056caf34-ab8c-4e3a-d439-d8dc1b13797b"
      },
      "execution_count": null,
      "outputs": [
        {
          "output_type": "stream",
          "name": "stdout",
          "text": [
            "snabbkaffe:\n",
            "    Current price: 59.9kr\n",
            "    Brans: Linnbergs\n",
            "    Expire date: 11SEP2023\n",
            "    Available: 100pcs\n",
            "snabbkaffe:\n",
            "    Current price: 47.92kr\n",
            "    Brans: Linnbergs\n",
            "    Expire date: 11SEP2023\n",
            "    Available: 100pcs\n"
          ]
        }
      ]
    },
    {
      "cell_type": "code",
      "source": [
        "kaffe1.purchase(90)\n",
        "print(kaffe1)"
      ],
      "metadata": {
        "colab": {
          "base_uri": "https://localhost:8080/"
        },
        "id": "aB2B3AMcrINb",
        "outputId": "3d28fd6d-7692-4675-e94f-efc3ee661297"
      },
      "execution_count": null,
      "outputs": [
        {
          "output_type": "stream",
          "name": "stdout",
          "text": [
            "snabbkaffe:\n",
            "    Current price: 47.92kr\n",
            "    Brans: Linnbergs\n",
            "    Expire date: 11SEP2023\n",
            "    Available: 10pcs\n"
          ]
        }
      ]
    },
    {
      "cell_type": "code",
      "source": [
        "kaffe1.discount(0)\n",
        "print(kaffe1)"
      ],
      "metadata": {
        "colab": {
          "base_uri": "https://localhost:8080/"
        },
        "id": "Ik8Ghhzqu84M",
        "outputId": "a635a3b5-1b81-42d8-a15b-8ade3222532a"
      },
      "execution_count": null,
      "outputs": [
        {
          "output_type": "stream",
          "name": "stdout",
          "text": [
            "snabbkaffe:\n",
            "    Current price: 59.9kr\n",
            "    Brans: Linnbergs\n",
            "    Expire date: 11SEP2023\n",
            "    Available: 10pcs\n"
          ]
        }
      ]
    }
  ]
}