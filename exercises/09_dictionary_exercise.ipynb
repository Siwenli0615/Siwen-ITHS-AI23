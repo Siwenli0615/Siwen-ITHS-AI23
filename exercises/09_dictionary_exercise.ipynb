{
  "cells": [
    {
      "cell_type": "markdown",
      "metadata": {
        "id": "view-in-github",
        "colab_type": "text"
      },
      "source": [
        "<a href=\"https://colab.research.google.com/github/Siwenli0615/General/blob/main/exercises/09_dictionary_exercise.ipynb\" target=\"_parent\"><img src=\"https://colab.research.google.com/assets/colab-badge.svg\" alt=\"Open In Colab\"/></a>"
      ]
    },
    {
      "cell_type": "markdown",
      "metadata": {
        "id": "-Tt0Nh61Q93M"
      },
      "source": [
        "# dictionary exercises\n",
        "\n",
        "---\n",
        "These are introductory exercises in Python with focus in **dictionary**.\n",
        "\n",
        "<p class = \"alert alert-info\" role=\"alert\"><b>Remember</b> to use <b>descriptive variable and function names</b> in order to get readable code </p>\n",
        "\n",
        "<p class = \"alert alert-info\" role=\"alert\"><b>Remember</b> to format your answers in a neat way using <b>f-strings</b>\n",
        "\n",
        "<p class = \"alert alert-info\" role=\"alert\"><b>Remember</b> to format your input questions in a pedagogical way to guide the user\n",
        "\n",
        "The number of stars (\\*), (\\*\\*), (\\*\\*\\*) denotes the difficulty level of the task\n",
        "\n",
        "---"
      ]
    },
    {
      "cell_type": "markdown",
      "metadata": {
        "id": "h12a82ufQ93O"
      },
      "source": [
        "## 1. Curriculum (*)\n",
        "\n",
        "Create a dictionary containing all the courses that you will study in this program, with the course names as **keys** and the amount of points as **value**. Then calculate the number of points that you will study in total. (*)\n",
        "\n",
        "<details>\n",
        "\n",
        "<summary>Answer</summary>\n",
        "\n",
        "Look at your course program curriculum\n",
        "\n",
        "</details>\n"
      ]
    },
    {
      "cell_type": "code",
      "source": [
        "text = \"\"\"Examensarbete Examensarbete 15\n",
        "Databaser Standard 25\n",
        "Databehandling Standard 25\n",
        "Djup maskininlärning Standard 40\n",
        "Introduktionskurs till AI Standard 5\n",
        "LIA1 Standard 40\n",
        "LIA2 LIA 70\n",
        "Maskininlärning Standard 45\n",
        "Praktisk maskininlärning Standard 35\n",
        "Programmering med Python Standard 40\n",
        "Projektmetodik Standard 10\n",
        "Statistiska metoder Standard 30\n",
        "Visualisering, presentationer och storytelling Standard 20\"\"\""
      ],
      "metadata": {
        "id": "ILGRB9R_H7QJ"
      },
      "execution_count": 35,
      "outputs": []
    },
    {
      "cell_type": "code",
      "source": [
        "text1 = text.split()\n",
        "name = []\n",
        "points = []\n",
        "names = []\n",
        "for i in text1:\n",
        "  if not i.isdigit():\n",
        "    name.append(i)\n",
        "  elif i.isdigit():\n",
        "    points.append(i)\n",
        "    name=\" \".join(name)\n",
        "    names.append(name)\n",
        "    name = []\n",
        "dict = {}\n",
        "for name,point in zip(names,points):\n",
        "  dict[name]=point\n",
        "\n",
        "for a,b in dict.items():\n",
        "\n",
        "  print(a,b)\n"
      ],
      "metadata": {
        "colab": {
          "base_uri": "https://localhost:8080/"
        },
        "id": "SxaJsrlOIpAF",
        "outputId": "f852915f-7f8e-492d-9caa-c77740157643"
      },
      "execution_count": 36,
      "outputs": [
        {
          "output_type": "stream",
          "name": "stdout",
          "text": [
            "Examensarbete Examensarbete 15\n",
            "Databaser Standard 25\n",
            "Databehandling Standard 25\n",
            "Djup maskininlärning Standard 40\n",
            "Introduktionskurs till AI Standard 5\n",
            "LIA1 Standard 40\n",
            "LIA2 LIA 70\n",
            "Maskininlärning Standard 45\n",
            "Praktisk maskininlärning Standard 35\n",
            "Programmering med Python Standard 40\n",
            "Projektmetodik Standard 10\n",
            "Statistiska metoder Standard 30\n",
            "Visualisering, presentationer och storytelling Standard 20\n"
          ]
        }
      ]
    },
    {
      "cell_type": "markdown",
      "metadata": {
        "id": "q_VkLopFQ93O"
      },
      "source": [
        "---\n",
        "## 2. Dice simulation (*)\n",
        "\n",
        "Simulate 1000000 dice rolls and save the number of ones, twos, ..., sixes in a dictionary. Then print them out in the terminal. (*)\n",
        "\n",
        "<details>\n",
        "\n",
        "<summary>Answer</summary>\n",
        "\n",
        "```\n",
        "1: 166481\n",
        "2: 166844\n",
        "3: 166154\n",
        "4: 167400\n",
        "5: 167260\n",
        "6: 165861\n",
        "```\n",
        "\n",
        "</details>\n"
      ]
    },
    {
      "cell_type": "code",
      "source": [
        "import random\n",
        "path = 'Dice simulation'\n",
        "with open(path,'w')as f:\n",
        "  f.write('Dice simulation for 1000000 casts:\\n')\n",
        "times = 1000000\n",
        "dict = {1:0,2:0,3:0,4:0,5:0,6:0}\n",
        "def dice_rolls():\n",
        "  dice_roll = random.randint(1,6)\n",
        "  return dice_roll\n",
        "\n",
        "for i in range(times):\n",
        "  result = dice_rolls()\n",
        "  dict[result]+=1\n",
        "with open(path,'a')as f:\n",
        "  for number,result in dict.items():\n",
        "    f.write(f\"\\n{number}: {result}\\n\")\n",
        "\n",
        "with open(path,'r')as f:\n",
        "  text = f.read()\n",
        "print(text)\n"
      ],
      "metadata": {
        "colab": {
          "base_uri": "https://localhost:8080/"
        },
        "id": "lTqAgP0GZ8ZH",
        "outputId": "21c45f86-5206-49b1-cb67-023c9097713a"
      },
      "execution_count": 48,
      "outputs": [
        {
          "output_type": "stream",
          "name": "stdout",
          "text": [
            "Dice simulation for 1000000 casts:\n",
            "\n",
            "1: 167000\n",
            "\n",
            "2: 167115\n",
            "\n",
            "3: 166520\n",
            "\n",
            "4: 166652\n",
            "\n",
            "5: 166251\n",
            "\n",
            "6: 166462\n",
            "\n"
          ]
        }
      ]
    },
    {
      "cell_type": "markdown",
      "metadata": {
        "id": "GlL9XKOhQ93P"
      },
      "source": [
        "---\n",
        "## 3. Pokemon list (*)\n",
        "\n",
        "Read in the file pokemon_list.txt in Python. Create a variable with name pokedex with the key:value **\"pokemon\":\"type, index\"**. For example when searching for the keys \"Gengar\" and \"Pikachu\": (*)\n",
        "\n",
        "```python\n",
        "\n",
        "print(pokedex[\"Gengar\"])\n",
        "print(pokedex[\"Pikachu\"])\n",
        "\n",
        "Spöke/Gift, 94\n",
        "Elektrisk, 25\n",
        "```\n",
        "\n",
        "<details>\n",
        "\n",
        "<summary>Answer</summary>\n",
        "\n",
        "```\n",
        "{'Bulbasaur': 'Gräs/Gift, 1',\n",
        " 'Ivysaur': 'Gräs/Gift, 2',\n",
        " 'Venusaur': 'Gräs/Gift, 3',\n",
        " 'Charmander': 'Eld, 4',\n",
        " 'Charmeleon': 'Eld, 5',\n",
        " 'Charizard': 'Eld/Flygande, 6',\n",
        " 'Squirtle': 'Vatten, 7',\n",
        " 'Wartortle': 'Vatten, 8',\n",
        " 'Blastoise': 'Vatten, 9',\n",
        " ...\n",
        "}\n",
        "```\n",
        "\n",
        "</details>\n"
      ]
    },
    {
      "cell_type": "code",
      "source": [
        "text = \"\"\"1 Bulbasaur Gräs/Gift\n",
        "2 Ivysaur Gräs/Gift\n",
        "3 Venusaur Gräs/Gift\n",
        "4 Charmander Eld\n",
        "5 Charmeleon Eld\n",
        "6 Charizard Eld/Flygande\n",
        "7 Squirtle Vatten\n",
        "8 Wartortle Vatten\n",
        "9 Blastoise Vatten\n",
        "10 Caterpie Insekt\n",
        "11 Metapod Insekt\n",
        "12 Butterfree Insekt/Flygande\n",
        "13 Weedle Insekt/Gift\n",
        "14 Kakuna Insekt/Gift\n",
        "15 Beedrill Insekt/Gift\n",
        "16 Pidgey Normal/Flygande\n",
        "17 Pidgeotto Normal/Flygande\n",
        "18 Pidgeot Normal/Flygande\n",
        "19 Rattata Normal\n",
        "20 Raticate Normal\n",
        "21 Spearow Normal/Flygande\n",
        "22 Fearow Normal/Flygande\n",
        "23 Ekans Gift\n",
        "24 Arbok Gift\n",
        "25 Pikachu Elektrisk\n",
        "26 Raichu Elektrisk\n",
        "27 Sandshrew Mark\n",
        "28 Sandslash Mark\n",
        "29 Nidoran♀ Gift\n",
        "30 Nidorina Gift\n",
        "31 Nidoqueen Gift/Mark\n",
        "32 Nidoran♂ Gift\n",
        "33 Nidorino Gift\n",
        "34 Nidoking Gift/Mark\n",
        "35 Clefairy Fé\n",
        "36 Clefable Fé\n",
        "37 Vulpix Eld\n",
        "38 Ninetales Eld\n",
        "39 Jigglypuff Normal/Fé\n",
        "40 Wigglytuff Normal/Fé\n",
        "41 Zubat Gift/Flygande\n",
        "42 Golbat Gift/Flygande\n",
        "43 Oddish Gräs/Gift\n",
        "44 Gloom Gräs/Gift\n",
        "45 Vileplume Gräs/Gift\n",
        "46 Paras Insekt/Gräs\n",
        "47 Parasect Insekt/Gräs\n",
        "48 Venonat Insekt/Gift\n",
        "49 Venomoth Insekt/Gift\n",
        "50 Diglett Mark\n",
        "51 Dugtrio Mark\n",
        "52 Meowth Normal\n",
        "53 Persian Normal\n",
        "54 Psyduck Vatten\n",
        "55 Golduck Vatten\n",
        "56 Mankey Kamp\n",
        "57 Primeape Kamp\n",
        "58 Growlithe Eld\n",
        "59 Arcanine Eld\n",
        "60 Poliwag Vatten\n",
        "61 Poliwhirl Vatten\n",
        "62 Poliwrath Vatten/Kamp\n",
        "63 Abra Psykisk\n",
        "64 Kadabra Psykisk\n",
        "65 Alakazam Psykisk\n",
        "66 Machop Kamp\n",
        "67 Machoke Kamp\n",
        "68 Machamp Kamp\n",
        "69 Bellsprout Gräs/Gift\n",
        "70 Weepinbell Gräs/Gift\n",
        "71 Victreebel Gräs/Gift\n",
        "72 Tentacool Vatten/Gift\n",
        "73 Tentacruel Vatten/Gift\n",
        "74 Geodude Sten/Mark\n",
        "75 Graveler Sten/Mark\n",
        "76 Golem Sten/Mark\n",
        "77 Ponyta Eld\n",
        "78 Rapidash Eld\n",
        "79 Slowpoke Vatten/Psykisk\n",
        "80 Slowbro Vatten/Psykisk\n",
        "81 Magnemite Elektrisk/Stål\n",
        "82 Magneton Elektrisk/Stål\n",
        "83 Farfetch'd Normal/Flygande\n",
        "84 Doduo Normal/Flygande\n",
        "85 Dodrio Normal/Flygande\n",
        "86 Seel Vatten\n",
        "87 Dewgong Vatten/Is\n",
        "88 Grimer Gift\n",
        "89 Muk Gift\n",
        "90 Shellder Vatten\n",
        "91 Cloyster Vatten/Is\n",
        "92 Gastly Spöke/Gift\n",
        "93 Haunter Spöke/Gift\n",
        "94 Gengar Spöke/Gift\n",
        "95 Onix Sten/Mark\n",
        "96 Drowzee Psykisk\n",
        "97 Hypno Psykisk\n",
        "98 Krabby Vatten\n",
        "99 Kingler Vatten\n",
        "100 Voltorb Elektrisk\n",
        "101 Electrode Elektrisk\n",
        "102 Exeggcute Gräs/Psykisk\n",
        "103 Exeggutor Gräs/Psykisk\n",
        "104 Cubone Mark\n",
        "105 Marowak Mark\n",
        "106 Hitmonlee Kamp\n",
        "107 Hitmonchan Kamp\n",
        "108 Lickitung Normal\n",
        "109 Koffing Gift\n",
        "110 Weezing Gift\n",
        "111 Rhyhorn Mark/Sten\n",
        "112 Rhydon Mark/Sten\n",
        "113 Chansey Normal\n",
        "114 Tangela Gräs\n",
        "115 Kangaskhan Normal\n",
        "116 Horsea Vatten\n",
        "117 Seadra Vatten\n",
        "118 Goldeen Vatten\n",
        "119 Seaking Vatten\n",
        "120 Staryu Vatten\n",
        "121 Starmie Vatten/Psykisk\n",
        "122 Mr. Mime Psykisk\n",
        "123 Scyther Insekt/Flygande\n",
        "124 Jynx Is/Psykisk\n",
        "125 Electabuzz Elektrisk\n",
        "126 Magmar Eld\n",
        "127 Pinsir Insekt\n",
        "128 Tauros Normal\n",
        "129 Magikarp Vatten\n",
        "130 Gyarados Vatten/Flygande\n",
        "131 Lapras Vatten/Is\n",
        "132 Ditto Normal\n",
        "133 Eevee Normal\n",
        "134 Vaporeon Vatten\n",
        "135 Jolteon Elektrisk\n",
        "136 Flareon Eld\n",
        "137 Porygon Normal\n",
        "138 Omanyte Sten/Vatten\n",
        "139 Omastar Sten/Vatten\n",
        "140 Kabuto Sten/Vatten\n",
        "141 Kabutops Sten/Vatten\n",
        "142 Aerodactyl Sten/Flygande\n",
        "143 Snorlax Normal\n",
        "144 Articuno Is/Flygande\n",
        "145 Zapdos Elektrisk/Flygande\n",
        "146 Moltres Eld/Flygande\n",
        "147 Dratini Drake\n",
        "148 Dragonair Drake\n",
        "149 Dragonite Drake/Flygande\n",
        "150 Mewtwo Psykisk\n",
        "\n",
        "\"\"\""
      ],
      "metadata": {
        "id": "KGZbLf-eocPr"
      },
      "execution_count": 54,
      "outputs": []
    },
    {
      "cell_type": "code",
      "source": [
        "text1=text.strip().split(\"\\n\")\n",
        "#print(text1)\n",
        "dict = {}\n",
        "for word in text1:\n",
        "  word = word.split()\n",
        "  #print(f\"{word[1]},{word[2]},{word[1]}\")\n",
        "  dict[word[1]]=f\"{word[2]}, {word[0]}\"\n",
        "\n",
        "#print(text1[0].split()[1])\n",
        "#dict['Drowzee']=f\"{'Psykisk'}, {'96'}\"\n",
        "\n",
        "#print(dict['Drowzee'])\n",
        "\n",
        "print(dict['Drowzee'])\n",
        "\n",
        "print(dict[\"Gengar\"])\n",
        "print(dict[\"Pikachu\"])"
      ],
      "metadata": {
        "colab": {
          "base_uri": "https://localhost:8080/"
        },
        "id": "avsmfx-EohSQ",
        "outputId": "5de5ffe8-56c8-40cd-bb7b-ffefcf845ad4"
      },
      "execution_count": 92,
      "outputs": [
        {
          "output_type": "stream",
          "name": "stdout",
          "text": [
            "Psykisk, 96\n",
            "Spöke/Gift, 94\n",
            "Elektrisk, 25\n"
          ]
        }
      ]
    },
    {
      "cell_type": "code",
      "source": [
        "\n",
        "\n"
      ],
      "metadata": {
        "id": "gqdiNJE1p1Gb"
      },
      "execution_count": null,
      "outputs": []
    },
    {
      "cell_type": "markdown",
      "metadata": {
        "id": "nz9uG-zFQ93P"
      },
      "source": [
        "---\n",
        "## 4. Morse code (**)\n",
        "\n",
        "Read in the file morse.txt, save it in a dictionary and create a function that lets the user input a message to get it translated to morse code. For example  (**)\n",
        "\n",
        "```python\n",
        "\n",
        "print(morse(\"SOS\"))\n",
        "print(morse(\"POKEMON\"))\n",
        "\n",
        "...---...\n",
        ".------.-.------.\n",
        "```"
      ]
    },
    {
      "cell_type": "code",
      "source": [
        "morse = \"\"\"\n",
        "A: .-\n",
        "B: -...\n",
        "C: -.-.\n",
        "D: -..\n",
        "E: .\n",
        "F: ..-.\n",
        "G: --\n",
        "H: ....\n",
        "I: ..\n",
        "J: .---\n",
        "K: -.-\n",
        "L: .-..\n",
        "M: --\n",
        "N: -.\n",
        "O: ---\n",
        "P: .--\n",
        "Q: --.-\n",
        "R: .-.\n",
        "S: ...\n",
        "T: -\n",
        "U: ..-\n",
        "V: ...-\n",
        "W: .--\n",
        "X: -..-\n",
        "Y: -.--\n",
        "Z: --..\n",
        "Å: .--.-\n",
        "Ä: .-.-\n",
        "Ö: ---\n",
        "\"\"\""
      ],
      "metadata": {
        "id": "2F-LdL-nuiT6"
      },
      "execution_count": 95,
      "outputs": []
    },
    {
      "cell_type": "code",
      "source": [
        "text1 = morse.strip().split('\\n')\n",
        "#print(text1)\n",
        "\n",
        "dict_morse = {}\n",
        "for i in text1:\n",
        "  letter_and_morse = i.split(':')\n",
        "  #print(letter_and_morse[1].strip())\n",
        "  dict_morse[letter_and_morse[0]]=letter_and_morse[1].strip()\n",
        "\n",
        "#print(dict_morse['B'])\n",
        "\n",
        "\n",
        "data = input('what would you like to translate to morese?(letters only) >').upper()\n",
        "print(f'\\nThe morse code for {data} is: ')\n",
        "for i in data:\n",
        "  for j in i:\n",
        "  p  print(dict_morse[j],end='')\n"
      ],
      "metadata": {
        "colab": {
          "base_uri": "https://localhost:8080/"
        },
        "id": "H0ljd9NAuvGM",
        "outputId": "fa8d10df-ce8d-4251-e2d0-f8009dcac073"
      },
      "execution_count": 139,
      "outputs": [
        {
          "output_type": "stream",
          "name": "stdout",
          "text": [
            "what would you like to translate to morese?(letters only) >pokemon\n",
            "\n",
            "The morse code for POKEMON is: \n",
            ".------.-.------."
          ]
        }
      ]
    },
    {
      "cell_type": "code",
      "source": [
        "for i in text1:\n",
        "  letter_and_morse = i.split(':')\n",
        "\n",
        "  dict_morse[letter_and_morse[0]]=letter_and_morse[1]\n",
        "\n",
        "print(dict_morse)"
      ],
      "metadata": {
        "id": "8-4jZd2ywwkq"
      },
      "execution_count": null,
      "outputs": []
    }
  ],
  "metadata": {
    "colab": {
      "provenance": [],
      "toc_visible": true,
      "include_colab_link": true
    },
    "kernelspec": {
      "display_name": "Python 3 (ipykernel)",
      "language": "python",
      "name": "python3"
    },
    "language_info": {
      "codemirror_mode": {
        "name": "ipython",
        "version": 3
      },
      "file_extension": ".py",
      "mimetype": "text/x-python",
      "name": "python",
      "nbconvert_exporter": "python",
      "pygments_lexer": "ipython3",
      "version": "3.8.13"
    },
    "vscode": {
      "interpreter": {
        "hash": "0da836a34428266995a795f1e1e27b816fa1c02f148d9728b3fbbbc5459afca6"
      }
    }
  },
  "nbformat": 4,
  "nbformat_minor": 0
}