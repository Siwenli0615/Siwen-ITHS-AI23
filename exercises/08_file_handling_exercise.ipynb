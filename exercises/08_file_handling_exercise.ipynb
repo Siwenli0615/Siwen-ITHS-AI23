{
  "cells": [
    {
      "cell_type": "markdown",
      "metadata": {
        "id": "view-in-github",
        "colab_type": "text"
      },
      "source": [
        "<a href=\"https://colab.research.google.com/github/Siwenli0615/General/blob/main/exercises/08_file_handling_exercise.ipynb\" target=\"_parent\"><img src=\"https://colab.research.google.com/assets/colab-badge.svg\" alt=\"Open In Colab\"/></a>"
      ]
    },
    {
      "cell_type": "markdown",
      "metadata": {
        "id": "DlOV9_wuQ2Vm"
      },
      "source": [
        "# file handling exercises\n",
        "\n",
        "---\n",
        "These are introductory exercises in Python with focus in **file handling**.\n",
        "\n",
        "All files needed for these exercises can be found in the **files** folder in this repo. Clone the repo to access them.\n",
        "\n",
        "<p class = \"alert alert-info\" role=\"alert\"><b>Remember</b> to use <b>descriptive variable and function names</b> in order to get readable code </p>\n",
        "\n",
        "<p class = \"alert alert-info\" role=\"alert\"><b>Remember</b> to format your answers in a neat way using <b>f-strings</b>\n",
        "\n",
        "<p class = \"alert alert-info\" role=\"alert\"><b>Remember</b> to format your input questions in a pedagogical way to guide the user\n",
        "\n",
        "The number of stars (\\*), (\\*\\*), (\\*\\*\\*) denotes the difficulty level of the task\n",
        "\n",
        "---"
      ]
    },
    {
      "cell_type": "markdown",
      "metadata": {
        "id": "5g_cU15OQ2Vo"
      },
      "source": [
        "## 1. Dice rolls (*)\n",
        "Create a textfile called **dice_rolls.txt** using Python. Also for each subtask, write adequate headers.\n",
        "\n",
        "&nbsp; a) &nbsp; Simulate 20 dice rolls and write them to your textfile. (*)\n",
        "\n",
        "&nbsp; b) &nbsp; Sort the dice rolls from a) and write them to a separate row in the same textfile. (*)\n",
        "\n",
        "&nbsp; c) &nbsp; Count the number of fours in the dice rolls and write them to a separate row in the same textfile. (*)\n",
        "\n",
        "<details>\n",
        "\n",
        "<summary>Answer </summary>\n",
        "\n",
        "For example:\n",
        "\n",
        "```\n",
        "\n",
        "Simulate 20 dice rolls:\n",
        "[3 4 4 3 1 2 6 6 4 6 2 4 5 3 1 2 1 3 3 1]\n",
        "\n",
        "Sorted dice rolls:\n",
        "[1 1 1 1 2 2 2 3 3 3 3 3 4 4 4 4 5 6 6 6]\n",
        "\n",
        "Number of fours: 4\n",
        "\n",
        "```\n",
        "\n",
        "</details>"
      ]
    },
    {
      "cell_type": "code",
      "source": [
        "import random\n",
        "path = 'dice_rolls.txt'\n",
        "\n",
        "def dice_rolls(i):\n",
        "    roll_output = []\n",
        "    for times in range(i):\n",
        "      dice = random.randint(1,6)\n",
        "      roll_output.append(dice)\n",
        "    return roll_output\n",
        "dice = dice_rolls(20)\n",
        "fours = 0\n",
        "for i in dice:\n",
        "  if i==4:\n",
        "    fours+=1\n",
        "\n",
        "with open(path, 'w') as f:\n",
        "  f.write(f\"Simulate 20 dice rolls: \\n{dice}\\n\\n\")\n",
        "  f.write(f\"Sorted dice rolls: \\n{sorted(dice)}\\n\\n\")\n",
        "  f.write(f\"Number of fours: \\n{fours}\\n\")\n",
        "\n",
        "\n",
        "\n",
        "\n",
        "\n",
        "\n",
        "\n",
        "\n"
      ],
      "metadata": {
        "id": "yq2X_y-ivD9L"
      },
      "execution_count": null,
      "outputs": []
    },
    {
      "cell_type": "code",
      "source": [
        "path = 'dice_rolls.txt'\n",
        "with open(path,'r') as f:\n",
        "  text = f.read()\n",
        "print(text)\n"
      ],
      "metadata": {
        "colab": {
          "base_uri": "https://localhost:8080/"
        },
        "id": "3EzrRrD8xeUL",
        "outputId": "fe20e793-8427-45a6-c6ed-16152ba84b67"
      },
      "execution_count": null,
      "outputs": [
        {
          "output_type": "stream",
          "name": "stdout",
          "text": [
            "Simulate 20 dice rolls: \n",
            "[2, 5, 3, 5, 3, 4, 1, 4, 5, 3, 1, 1, 3, 4, 6, 5, 5, 3, 5, 5]\n",
            "\n",
            "Sorted dice rolls: \n",
            "[1, 1, 1, 2, 3, 3, 3, 3, 3, 4, 4, 4, 5, 5, 5, 5, 5, 5, 5, 6]\n",
            "\n",
            "Number of fours: \n",
            "3\n",
            "\n"
          ]
        }
      ]
    },
    {
      "cell_type": "markdown",
      "metadata": {
        "id": "yuL8hz-IQ2Vo"
      },
      "source": [
        "---\n",
        "## 2. Test results (*)\n",
        "Read in the file test_result.txt (located in the data folder of this repo) in Python.\n",
        "\n",
        "[test_result]: https://github.com/kokchun/Programmering-med-Python-21/blob/main/Files/test_result.txt\n",
        "\n",
        "&nbsp; a) &nbsp; Print out the text in the terminal (*)\n",
        "\n",
        "&nbsp; b) &nbsp; Create new rows in the same file and write the people and their corresponding scores in alphabetical order. (*)\n",
        "\n",
        "&nbsp; c) &nbsp; Create additional rows in the same file and sort the people after their grades. The grade limits are: (**)\n",
        "\n",
        "- F < 20\n",
        "- E: 20-29\n",
        "- D: 30-39\n",
        "- C: 40-49\n",
        "- B: 50-59\n",
        "- A: 60-70\n",
        "\n",
        "<details>\n",
        "\n",
        "<summary>Hint </summary>\n",
        "\n",
        "Open the file using option \"r\" for read and open the file using option \"a\" for append.\n",
        "\n",
        "</details>\n",
        "<br>\n",
        "<details>\n",
        "\n",
        "<summary>Answer </summary>\n",
        "\n",
        "```\n",
        "\n",
        "Adam Gustafsson 25\n",
        "Emil Johansson 23\n",
        "Sven Erik Karlsson 13\n",
        "Ove Karlsten 41\n",
        "Emma Boden 32\n",
        "Ida Håkansson 23\n",
        "Ella Ester 41\n",
        "Hanna Karlsson 23\n",
        "Johan Johansson 42\n",
        "Sven Erik Lundin 39\n",
        "Björn Björnsson 39\n",
        "Karl Karlsson 32\n",
        "Bose Bosseson 32\n",
        "Håkan Håkanson 24\n",
        "Jonas Jonasson 31\n",
        "Erik Eriksson 31\n",
        "Gore Bord 55\n",
        "Jakob Kallander 65\n",
        "Fredrika Ulven 10\n",
        "\n",
        "Sorted alphabetically\n",
        "Adam Gustafsson 25\n",
        "Björn Björnsson 39\n",
        "Bose Bosseson 32\n",
        "Ella Ester 41\n",
        "Emil Johansson 23\n",
        "Emma Boden 32\n",
        "Erik Eriksson 31\n",
        "Fredrika Ulven 10\n",
        "Gore Bord 55\n",
        "Hanna Karlsson 23\n",
        "Håkan Håkanson 24\n",
        "Ida Håkansson 23\n",
        "Jakob Kallander 65\n",
        "Johan Johansson 42\n",
        "Jonas Jonasson 31\n",
        "Karl Karlsson 32\n",
        "Ove Karlsten 41\n",
        "Sven Erik Karlsson 13\n",
        "Sven Erik Lundin 39\n",
        "\n",
        "Sorted results:\n",
        "Grade: F\n",
        "Fredrika Ulven 10\n",
        "Sven Erik Karlsson 13\n",
        "Grade: E\n",
        "Adam Gustafsson 25\n",
        "Emil Johansson 23\n",
        "Hanna Karlsson 23\n",
        "Håkan Håkanson 24\n",
        "Ida Håkansson 23\n",
        "Grade: D\n",
        "Björn Björnsson 39\n",
        "Bose Bosseson 32\n",
        "Emma Boden 32\n",
        "Erik Eriksson 31\n",
        "Jonas Jonasson 31\n",
        "Karl Karlsson 32\n",
        "Sven Erik Lundin 39\n",
        "Grade: C\n",
        "Ella Ester 41\n",
        "Johan Johansson 42\n",
        "Ove Karlsten 41\n",
        "Grade: B\n",
        "Gore Bord 55\n",
        "Grade: A\n",
        "Jakob Kallander 65\n",
        "\n",
        "```\n",
        "\n",
        "</details>"
      ]
    },
    {
      "cell_type": "code",
      "source": [
        "# a)  Print out the text in the terminal (*)\n",
        "path = 'test_results.txt'\n",
        "with open(path,'w')as f:\n",
        "  f.write(\"\"\"Adam Gustafsson 25\n",
        "Emil Johansson 23\n",
        "Sven Erik Karlsson 13\n",
        "Ove Karlsten 41\n",
        "Emma Boden 32\n",
        "Ida Håkansson 23\n",
        "Ella Ester 41\n",
        "Hanna Karlsson 23\n",
        "Johan Johansson 42\n",
        "Sven Erik Lundin 39\n",
        "Björn Björnsson 39\n",
        "Karl Karlsson 32\n",
        "Bose Bosseson 32\n",
        "Håkan Håkanson 24\n",
        "Jonas Jonasson 31\n",
        "Erik Eriksson 31\n",
        "Gore Bord 55\n",
        "Jakob Kallander 65\n",
        "Fredrika Ulven 10\"\"\")"
      ],
      "metadata": {
        "id": "UTFTbHGy1muS"
      },
      "execution_count": 1,
      "outputs": []
    },
    {
      "cell_type": "code",
      "source": [
        "#control a):\n",
        "path = 'test_results.txt'\n",
        "with open(path,'r') as f:\n",
        "  text = f.read()\n",
        "print(text)"
      ],
      "metadata": {
        "id": "pUjvimKf2WE_",
        "outputId": "3e3199af-d148-4ee5-ecbb-2eac81090a04",
        "colab": {
          "base_uri": "https://localhost:8080/"
        }
      },
      "execution_count": 2,
      "outputs": [
        {
          "output_type": "stream",
          "name": "stdout",
          "text": [
            "Adam Gustafsson 25\n",
            "Emil Johansson 23\n",
            "Sven Erik Karlsson 13\n",
            "Ove Karlsten 41\n",
            "Emma Boden 32\n",
            "Ida Håkansson 23\n",
            "Ella Ester 41\n",
            "Hanna Karlsson 23\n",
            "Johan Johansson 42\n",
            "Sven Erik Lundin 39\n",
            "Björn Björnsson 39\n",
            "Karl Karlsson 32\n",
            "Bose Bosseson 32\n",
            "Håkan Håkanson 24\n",
            "Jonas Jonasson 31\n",
            "Erik Eriksson 31\n",
            "Gore Bord 55\n",
            "Jakob Kallander 65\n",
            "Fredrika Ulven 10\n"
          ]
        }
      ]
    },
    {
      "cell_type": "code",
      "source": [
        "# b)  Create new rows in the same file and write the people and\n",
        "# their corresponding scores in alphabetical order. (*)\n",
        "path = \"test_results.txt\"\n",
        "with open(path,'r') as f:\n",
        "  text = f.read()\n",
        "text1 = text.split(\"\\n\")\n",
        "text1 = sorted(text1)\n",
        "text1 = \"\\n\".join(text1)\n",
        "with open(path,'a') as f:\n",
        " f.write(f\"\\n\\nSorted alphabetically:\\n\\n{text1}\")\n",
        "\n",
        "\n"
      ],
      "metadata": {
        "id": "_NJJUPuI26CA"
      },
      "execution_count": 3,
      "outputs": []
    },
    {
      "cell_type": "code",
      "source": [
        "# control b):\n",
        "with open(path,'r') as f:\n",
        "  text2=f.read()\n",
        "print(text2)"
      ],
      "metadata": {
        "id": "gSWtH0n083OO"
      },
      "execution_count": null,
      "outputs": []
    },
    {
      "cell_type": "code",
      "source": [
        "#ej klar\n",
        "\n",
        "path = \"test_results.txt\"\n",
        "with open(path,'r') as f:\n",
        "  text_original = f.readlines()\n",
        "\n",
        "cleaned_contents = [name.replace(\"\\n\",\" \") for name in text_original]\n",
        "\n",
        "\n",
        "#name = 'adam gustaf 25'\n",
        "#name_splitted = name.split()\n",
        "#names_together = \" \".join(name_splitted[:-1])\n",
        "#numbers_splitted = name_splitted[-1]\n",
        "#print(names_together)\n",
        "#print(numbers_splitted)\n",
        "\n",
        "#alla_namn = []\n",
        "#alla_score = []\n",
        "#print(cleaned_contents)\n",
        "\n",
        "#for name in cleaned_contents:\n",
        " # alla_namn.append(\" \".join(name.split()[:-1]))\n",
        " # alla_score.append(name.split()[-1])\n",
        "\n",
        "#print(alla_namn)\n",
        "#print(alla_score)\n",
        "\n",
        "all_names = [\" \".join(name.split()[:-1]) for name in cleaned_contents]\n",
        "all_scores = [name.split()[-1] for name in cleaned_contents]\n",
        "\n",
        "all_names_sorted = sorted(all_names)\n",
        "all_scores_sorted = sorted(all_scores)\n",
        "\n",
        "\n",
        "print(all_scores_sorted)\n",
        "list = []\n",
        "for score in all_scores_sorted:\n",
        "  index = all_scores.index(score)\n",
        "  name = all_names[index]\n",
        "  print(name,score)\n",
        "\n",
        "\n",
        "\n",
        "\n",
        "\n"
      ],
      "metadata": {
        "id": "Pr3XZEOt9Vyo"
      },
      "execution_count": null,
      "outputs": []
    },
    {
      "cell_type": "code",
      "source": [
        "\"\"\"c) Create additional rows in the same file and sort the people\n",
        "after their grades. The grade limits are: (**)\n",
        "\n",
        "F < 20\n",
        "E: 20-29\n",
        "D: 30-39\n",
        "C: 40-49\n",
        "B: 50-59\n",
        "A: 60-70\n",
        "\"\"\"\n",
        "path = \"test_results.txt\"\n",
        "with open(path,'r') as f:\n",
        "  text = f.readlines()\n",
        "\n",
        "grade_A = []\n",
        "grade_B = []\n",
        "grade_C = []\n",
        "grade_D = []\n",
        "grade_E = []\n",
        "grade_F = []\n",
        "\n",
        "\n",
        "text1 = [text.replace(\"\\n\",\"\")for text in text]\n",
        "print(text1)\n",
        "\n",
        "for result in text1:\n",
        "  result1=result.split()\n",
        "  for i in result1:\n",
        "    if i.isdigit():\n",
        "      score = int(i)\n",
        "      if score>=60 and score<=70:\n",
        "        grade_A.append(result)\n",
        "      elif score>=50 and score<=59:\n",
        "        grade_B.append(\"\".join(result))\n",
        "      elif score>=40 and score<=49:\n",
        "        grade_C.append(\"\".join(result))\n",
        "      elif score>=30 and score<=39:\n",
        "        grade_D.append(\"\".join(result))\n",
        "      elif score>=20 and score<=29:\n",
        "        grade_E.append(\"\".join(result))\n",
        "      elif score<20 :\n",
        "        grade_F.append(\"\".join(result))\n",
        "      else:\n",
        "        print(\"something wrong\")\n",
        "#print(f\"grade A: {grade_A}\")\n",
        "grades = [\"A\",\"B\",\"C\",\"D\",\"E\",\"F\"]\n",
        "grade_results = [grade_A,grade_B,grade_C,grade_D,grade_E,grade_F]\n",
        "\n",
        "print()\n",
        "print(\"Sorted results:\")\n",
        "for i in range(6):\n",
        "  print(f\"\"\"\\n\\033[1mGrade {grades[i]}: \\033[0m\"\"\")\n",
        "  for j in grade_results[i]:\n",
        "    print(j)\n",
        "\n"
      ],
      "metadata": {
        "colab": {
          "base_uri": "https://localhost:8080/"
        },
        "id": "J07wacSlkmtb",
        "outputId": "5cb9eefa-e8bc-4f58-bf47-1572484e7e58"
      },
      "execution_count": 7,
      "outputs": [
        {
          "output_type": "stream",
          "name": "stdout",
          "text": [
            "['Adam Gustafsson 25', 'Emil Johansson 23', 'Sven Erik Karlsson 13', 'Ove Karlsten 41', 'Emma Boden 32', 'Ida Håkansson 23', 'Ella Ester 41', 'Hanna Karlsson 23', 'Johan Johansson 42', 'Sven Erik Lundin 39', 'Björn Björnsson 39', 'Karl Karlsson 32', 'Bose Bosseson 32', 'Håkan Håkanson 24', 'Jonas Jonasson 31', 'Erik Eriksson 31', 'Gore Bord 55', 'Jakob Kallander 65', 'Fredrika Ulven 10']\n",
            "\n",
            "Sorted results:\n",
            "\n",
            "\u001b[1mGrade A: \u001b[0m\n",
            "Jakob Kallander 65\n",
            "\n",
            "\u001b[1mGrade B: \u001b[0m\n",
            "Gore Bord 55\n",
            "\n",
            "\u001b[1mGrade C: \u001b[0m\n",
            "Ove Karlsten 41\n",
            "Ella Ester 41\n",
            "Johan Johansson 42\n",
            "\n",
            "\u001b[1mGrade D: \u001b[0m\n",
            "Emma Boden 32\n",
            "Sven Erik Lundin 39\n",
            "Björn Björnsson 39\n",
            "Karl Karlsson 32\n",
            "Bose Bosseson 32\n",
            "Jonas Jonasson 31\n",
            "Erik Eriksson 31\n",
            "\n",
            "\u001b[1mGrade E: \u001b[0m\n",
            "Adam Gustafsson 25\n",
            "Emil Johansson 23\n",
            "Ida Håkansson 23\n",
            "Hanna Karlsson 23\n",
            "Håkan Håkanson 24\n",
            "\n",
            "\u001b[1mGrade F: \u001b[0m\n",
            "Sven Erik Karlsson 13\n",
            "Fredrika Ulven 10\n"
          ]
        }
      ]
    },
    {
      "cell_type": "code",
      "source": [
        "# control C):\n",
        "with open(path,'r') as f:\n",
        "  text2=f.read()\n",
        "print(text2)"
      ],
      "metadata": {
        "id": "PSRfBeWmrw9k"
      },
      "execution_count": null,
      "outputs": []
    },
    {
      "cell_type": "markdown",
      "metadata": {
        "id": "HZ1RT4AFsb-L"
      },
      "source": [
        "---\n",
        "## 3. Text cleanup (**)\n",
        "read in the file quotes.txt (located in the data folder of the course repo) in Python.\n",
        "\n",
        "&nbsp; a) &nbsp; Print out the text in the terminal (*)\n",
        "\n",
        "&nbsp; b) &nbsp; In a new file write the information contained in quotes.txt, in the following format (*)\n",
        "\n",
        "name_1\n",
        "\n",
        "   -- full_quote1\n",
        "\n",
        "name_2\n",
        "\n",
        "   -- full_quote2\n",
        "\n",
        "...\n",
        "\n",
        "name_N\n",
        "\n",
        "   -- full_quoteN\n",
        "\n",
        "**All the quotes must be cleaned! In other words, remove all junk space contained between the words.**\n",
        "\n",
        "<details>\n",
        "\n",
        "<summary>Hint </summary>\n",
        "\n",
        "Open the file using option \"r\" for read and open the file using option \"a\" for append.\n",
        "\n",
        "</details>\n",
        "<br>\n",
        "<details>\n",
        "\n",
        "<summary>Answer </summary>\n",
        "\n",
        "```\n",
        "Albert Einstein\n",
        "--If we knew what it was we were doing, it would not be called research, would it?\n",
        "\n",
        "Terry Pratchett\n",
        "--Time is a drug. Too much of it kills you.\n",
        "\n",
        "Niels Bohr\n",
        "--An expert is a person who has made all the mistakes that can be made in a very narrow field.\n",
        "\n",
        "Albert Einstein\n",
        "--Everything must be made as simple as possible. But not simpler.     \n",
        "\n",
        "Marie  Curie\n",
        "--Nothing in life is to be feared, it is only to be understood. Now is the time to understand more, so that we may fear less.  \n",
        "\n",
        "Isaac Newton\n",
        "--If I have seen further it is by standing on the shoulders of Giants.\n",
        "\n",
        "```\n",
        "\n",
        "</details>"
      ]
    },
    {
      "cell_type": "code",
      "source": [
        "path = \"quotes.txt\"\n",
        "with open(path,'w') as f:\n",
        "  f.write(\"\"\"\n",
        "    If     we     knew what it was      we were doing, it would not be called research,          would it?     - Albert Einstein\n",
        "\n",
        "Time is a drug. Too       much of it kills you.  -  Terry Pratchett\n",
        "\n",
        "\n",
        " An expert is a person who       has made all the mistakes that           can be made in a          very narrow field - Niels Bohr\n",
        "\n",
        "   Everything must be made as simple as possible. But not simpler. - Albert Einstein\n",
        "\n",
        "\n",
        "  Nothing in life                is to be feared, it is only to be understood. Now is the time to understand more, so that we may fear less. - Marie  Curie\n",
        "\n",
        "If I have seen further     it is by standing on the shoulders of Giants. - Isaac Newton\n",
        "  \"\"\")"
      ],
      "metadata": {
        "id": "03OMz0oyZrI3"
      },
      "execution_count": null,
      "outputs": []
    },
    {
      "cell_type": "code",
      "source": [
        "path = \"quotes.txt\"\n",
        "with open(path,'r') as f:\n",
        "  text_q = f.readlines()\n",
        "\n",
        "#print(text_q)\n",
        "\n",
        "text1 = [x for x in text_q if x!='\\n']  # ta bort \\n\n",
        "text1 = [x.split(\"-\") for x in text1]   # dela upp text från namn\n",
        "texten = text1[2][0]              # 0:e stycke, 0:e plats(text)\n",
        "texten = \" \".join(texten.split())\n",
        "name = text1[2][1]\n",
        "print(name)\n",
        "print(f\"--{texten}\")\n",
        "\n"
      ],
      "metadata": {
        "colab": {
          "base_uri": "https://localhost:8080/"
        },
        "id": "InMdjFUCaLPj",
        "outputId": "bf7082d8-b456-4d93-98e6-6e2e672e68f4"
      },
      "execution_count": null,
      "outputs": [
        {
          "output_type": "stream",
          "name": "stdout",
          "text": [
            " Niels Bohr\n",
            "\n",
            "--An expert is a person who has made all the mistakes that can be made in a very narrow field\n"
          ]
        }
      ]
    },
    {
      "cell_type": "code",
      "source": [
        "path = \"quotes.txt\"\n",
        "with open(path,'r') as f:\n",
        "  text_q = f.readlines()\n",
        "\n",
        "text1 = [x for x in text_q if x!='\\n']  # ta bort \\n\n",
        "text1 = [x.split(\"-\") for x in text1]\n",
        "\n",
        "with open(path,'w') as f:\n",
        "\n",
        "  for i in range(len(text1)-1):\n",
        "    texten = text1[i][0]              # 0:e stycke, 0:e plats(text)\n",
        "    texten = \" \".join(texten.split())\n",
        "    name = \" \".join(text1[i][1].split())\n",
        "\n",
        "    f.write(f\"{name}\")\n",
        "    f.write(f\"\\n--{texten}\\n\\n\")\n",
        "\n"
      ],
      "metadata": {
        "id": "fAm6vXvvzwSx"
      },
      "execution_count": null,
      "outputs": []
    },
    {
      "cell_type": "code",
      "source": [
        "path = \"quotes.txt\"\n",
        "with open(path,'r') as f:\n",
        "  text_q = f.readlines()\n",
        "for i in text_q:\n",
        "  print(i)"
      ],
      "metadata": {
        "colab": {
          "base_uri": "https://localhost:8080/"
        },
        "id": "q3xpqBL2a6gF",
        "outputId": "05408d9e-7b82-4cbf-8791-51bba790f97b"
      },
      "execution_count": null,
      "outputs": [
        {
          "output_type": "stream",
          "name": "stdout",
          "text": [
            "Albert Einstein\n",
            "\n",
            "--If we knew what it was we were doing, it would not be called research, would it?\n",
            "\n",
            "\n",
            "\n",
            "Terry Pratchett\n",
            "\n",
            "--Time is a drug. Too much of it kills you.\n",
            "\n",
            "\n",
            "\n",
            "Niels Bohr\n",
            "\n",
            "--An expert is a person who has made all the mistakes that can be made in a very narrow field\n",
            "\n",
            "\n",
            "\n",
            "Albert Einstein\n",
            "\n",
            "--Everything must be made as simple as possible. But not simpler.\n",
            "\n",
            "\n",
            "\n",
            "Marie Curie\n",
            "\n",
            "--Nothing in life is to be feared, it is only to be understood. Now is the time to understand more, so that we may fear less.\n",
            "\n",
            "\n",
            "\n",
            "Isaac Newton\n",
            "\n",
            "--If I have seen further it is by standing on the shoulders of Giants.\n",
            "\n",
            "\n",
            "\n"
          ]
        }
      ]
    },
    {
      "cell_type": "markdown",
      "metadata": {
        "id": "rKc4iOTVQ2Vq"
      },
      "source": [
        "---\n",
        "## 4. Dice roll experiment (**)\n",
        "Simulate 10, 100, 1000, 10000, 100000 dice rolls and count the freqencies and probabilities for each number in each simulation. Create a new text file using Python with the name \"simulation.txt\" and write the results to that text file.(**)\n",
        "\n",
        "[files]: https://github.com/kokchun/Programmering-med-Python-21/tree/main/Files\n",
        "\n",
        "<details>\n",
        "\n",
        "<summary>Answer </summary>\n",
        "\n",
        "```\n",
        "\n",
        "Number of rolls: 10\n",
        "Ones: 4, probability: 0.4\n",
        "Twos: 1, probability: 0.1\n",
        "Threes: 1, probability: 0.1\n",
        "Fours: 2, probability: 0.2\n",
        "Fives: 1, probability: 0.1\n",
        "Sixes: 1, probability: 0.1\n",
        "\n",
        "Number of rolls: 100\n",
        "Ones: 16, probability: 0.16\n",
        "Twos: 12, probability: 0.12\n",
        "Threes: 24, probability: 0.24\n",
        "Fours: 18, probability: 0.18\n",
        "Fives: 16, probability: 0.16\n",
        "Sixes: 14, probability: 0.14\n",
        "\n",
        "Number of rolls: 1000\n",
        "Ones: 181, probability: 0.181\n",
        "Twos: 167, probability: 0.167\n",
        "Threes: 184, probability: 0.184\n",
        "Fours: 152, probability: 0.152\n",
        "Fives: 168, probability: 0.168\n",
        "Sixes: 148, probability: 0.148\n",
        "\n",
        "Number of rolls: 10000\n",
        "Ones: 1630, probability: 0.163\n",
        "Twos: 1666, probability: 0.1666\n",
        "Threes: 1686, probability: 0.1686\n",
        "Fours: 1616, probability: 0.1616\n",
        "Fives: 1677, probability: 0.1677\n",
        "Sixes: 1725, probability: 0.1725\n",
        "\n",
        "Number of rolls: 100000\n",
        "Ones: 16804, probability: 0.16804\n",
        "Twos: 16625, probability: 0.16625\n",
        "Threes: 16646, probability: 0.16646\n",
        "Fours: 16660, probability: 0.1666\n",
        "Fives: 16576, probability: 0.16576\n",
        "Sixes: 16689, probability: 0.16689\n",
        "\n",
        "```"
      ]
    },
    {
      "cell_type": "markdown",
      "metadata": {
        "id": "etQPmQo2sb-M"
      },
      "source": []
    }
  ],
  "metadata": {
    "colab": {
      "provenance": [],
      "toc_visible": true,
      "include_colab_link": true
    },
    "kernelspec": {
      "display_name": "Python 3 (ipykernel)",
      "language": "python",
      "name": "python3"
    },
    "language_info": {
      "codemirror_mode": {
        "name": "ipython",
        "version": 3
      },
      "file_extension": ".py",
      "mimetype": "text/x-python",
      "name": "python",
      "nbconvert_exporter": "python",
      "pygments_lexer": "ipython3",
      "version": "3.11.4"
    },
    "vscode": {
      "interpreter": {
        "hash": "7e1998ff7f8aa20ada591c520b972326324e5ea05489af9e422744c7c09f6dad"
      }
    }
  },
  "nbformat": 4,
  "nbformat_minor": 0
}