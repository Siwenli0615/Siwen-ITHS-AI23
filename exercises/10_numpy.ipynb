{
  "cells": [
    {
      "cell_type": "markdown",
      "metadata": {
        "id": "view-in-github",
        "colab_type": "text"
      },
      "source": [
        "<a href=\"https://colab.research.google.com/github/Siwenli0615/General/blob/main/exercises/10_numpy.ipynb\" target=\"_parent\"><img src=\"https://colab.research.google.com/assets/colab-badge.svg\" alt=\"Open In Colab\"/></a>"
      ]
    },
    {
      "cell_type": "markdown",
      "metadata": {
        "id": "kOYYgGm6RJZG"
      },
      "source": [
        "# Numpy exercises\n",
        "\n",
        "---\n",
        "These are introductory exercises in Python with focus in **Numpy**.\n",
        "\n",
        "<p class = \"alert alert-info\" role=\"alert\"><b>Remember</b> to use <b>descriptive variable names</b> in order to get readable code </p>\n",
        "\n",
        "<p class = \"alert alert-info\" role=\"alert\"><b>Remember</b> to format your answers in a neat way using <b>f-strings</b>\n",
        "\n",
        "<p class = \"alert alert-info\" role=\"alert\"><b>Remember</b> to format your input questions in a pedagogical way to guide the user\n",
        "\n",
        "The number of stars (\\*), (\\*\\*), (\\*\\*\\*) denotes the difficulty level of the task\n",
        "\n",
        "---"
      ]
    },
    {
      "cell_type": "markdown",
      "metadata": {
        "id": "CKdkN00VRJZH"
      },
      "source": [
        "## 1. Dice simulations (*)\n",
        "\n",
        "Simulations of one die,  \n",
        "\n",
        "&nbsp; a) Calculate theoretical mean of a dice (six-sided) (*)\n",
        "\n",
        "&nbsp; b) Now do simulations of\n",
        "\n",
        "- 10\n",
        "- 100\n",
        "- 1000\n",
        "- 10000\n",
        "- 100000\n",
        "- 1000000\n",
        "- 10000000\n",
        "\n",
        "number of dices and plot their means. (*)\n",
        "\n",
        "<details>\n",
        "\n",
        "<summary>Answer </summary>\n",
        "\n",
        "a)\n",
        "```\n",
        "3.5\n",
        "```\n",
        "\n",
        "b)\n",
        "\n",
        "<img src=\"https://github.com/aleylani/Python/blob/main/assets/numpy_1b.png?raw=1\" width = 300>\n",
        "\n",
        "</details>\n",
        "\n",
        "\n"
      ]
    },
    {
      "cell_type": "code",
      "source": [
        "# a)\n",
        "\n",
        "mean = sum([x for x in range(1,7)])/6\n",
        "print(mean)"
      ],
      "metadata": {
        "colab": {
          "base_uri": "https://localhost:8080/"
        },
        "id": "BsaEecOCbT9X",
        "outputId": "aeeaaebb-7761-4d5f-914c-b0fef00fc7b6"
      },
      "execution_count": 2,
      "outputs": [
        {
          "output_type": "stream",
          "name": "stdout",
          "text": [
            "3.5\n"
          ]
        }
      ]
    },
    {
      "cell_type": "code",
      "source": [
        "import numpy as np\n",
        "\n",
        "# for 10 cast\n",
        "simulation = 1000000\n",
        "dice_outcome = np.random.randint(1,7,simulation)\n",
        "mean = sum(dice_outcome)/simulation\n",
        "\n",
        "\n",
        "\n",
        "mean = np.random.randint(1,7,simulation).mean()\n",
        "print(mean)\n",
        "\n"
      ],
      "metadata": {
        "colab": {
          "base_uri": "https://localhost:8080/"
        },
        "id": "OUPuWVSybmzi",
        "outputId": "41744f67-cb45-460b-803f-6de678fcf36c"
      },
      "execution_count": 31,
      "outputs": [
        {
          "output_type": "stream",
          "name": "stdout",
          "text": [
            "3.500591\n"
          ]
        }
      ]
    },
    {
      "cell_type": "code",
      "source": [
        "# for 10,100,1000,10000,100000,1000000,10000000 casts\n",
        "import matplotlib.pyplot as plt\n",
        "\n",
        "simulation = [10,100,1000,10000,100000,1000000,10000000]\n",
        "\n",
        "mean_outcome = [np.random.randint(1,7,i).mean() for i in simulation]\n",
        "\n",
        "\n",
        "plt.xlabel(\"simulation\")\n",
        "plt.ylabel(\"mean outcome\")\n",
        "xvalue = simulation\n",
        "yvalue = mean_outcome\n",
        "plt.xscale('log')\n",
        "\n",
        "plt.plot(xvalue,yvalue,'-*')\n",
        "\n"
      ],
      "metadata": {
        "colab": {
          "base_uri": "https://localhost:8080/",
          "height": 472
        },
        "id": "NjIegnRRcr21",
        "outputId": "2de6bfbc-7c5d-456f-e077-1894e8155a0c"
      },
      "execution_count": 50,
      "outputs": [
        {
          "output_type": "execute_result",
          "data": {
            "text/plain": [
              "[<matplotlib.lines.Line2D at 0x7877616cc9a0>]"
            ]
          },
          "metadata": {},
          "execution_count": 50
        },
        {
          "output_type": "display_data",
          "data": {
            "text/plain": [
              "<Figure size 640x480 with 1 Axes>"
            ],
            "image/png": "[encoded data removed]"
          },
          "metadata": {}
        }
      ]
    },
    {
      "cell_type": "code",
      "source": [
        "for i in simulation:\n",
        "  np.random.randint(1,6,i)\n"
      ],
      "metadata": {
        "id": "0OjpySfFgkr3"
      },
      "execution_count": null,
      "outputs": []
    },
    {
      "cell_type": "markdown",
      "metadata": {
        "id": "eVDKE8kPRJZH"
      },
      "source": [
        "---\n",
        "## 2. Several dices (**)\n",
        "\n",
        "&nbsp; a) Make a sample space for the sum of two dices, i.e. all possible outcomes of these dices. (*)\n",
        "\n",
        "&nbsp; b) Count the number of each values in the sample space (*)\n",
        "\n",
        "&nbsp; c) Now calculate the frequency $f_i$ for each unique value. Also check that the sum of frequencies sums to 1, i.e. $\\sum_i f_i = 1$. (*)\n",
        "\n",
        "&nbsp; d) Make a bar chart of the sum of two dices, with frequencies in y and unique values in x. This is a probability distribution of the sum of your two dices. (*)\n",
        "\n",
        "&nbsp; e) Now make barplots in subplots of sum of dices for 1 dice, 2 dices, 3 dices and 4 dices. What is the pattern that you see? (**)\n",
        "\n",
        "<details>\n",
        "\n",
        "<summary>Hint</summary>\n",
        "\n",
        "a)\n",
        "\n",
        "Here are some potentially useful methods:\n",
        "\n",
        "```py\n",
        "\n",
        "np.meshgrid(), np.add.reduce(), np.unique()\n",
        "\n",
        "```\n",
        "\n",
        "c)\n",
        "\n",
        "Divide by the total number of outcomes\n",
        "\n",
        "\n",
        "</details>\n",
        "\n",
        "<details>\n",
        "\n",
        "<summary>Answer</summary>\n",
        "\n",
        "\n",
        "a)\n",
        "\n",
        "Sample space\n",
        "\n",
        "```\n",
        "[[ 2  3  4  5  6  7]\n",
        " [ 3  4  5  6  7  8]\n",
        " [ 4  5  6  7  8  9]\n",
        " [ 5  6  7  8  9 10]\n",
        " [ 6  7  8  9 10 11]\n",
        " [ 7  8  9 10 11 12]]\n",
        "```\n",
        "\n",
        "b)\n",
        "\n",
        "Unique values:\n",
        "```\n",
        "[ 2  3  4  5  6  7  8  9 10 11 12]\n",
        "```\n",
        "\n",
        "Count:\n",
        "```\n",
        "[1 2 3 4 5 6 5 4 3 2 1]\n",
        "```\n",
        "\n",
        "c)\n",
        "\n",
        "```\n",
        "[0.028 0.056 0.083 0.111 0.139 0.167 0.139 0.111 0.083 0.056 0.028]\n",
        "```\n",
        "\n",
        "d)\n",
        "\n",
        "\n",
        "<img src=\"https://github.com/aleylani/Python/blob/main/assets/numpy2d.png?raw=1\" width = 300>\n",
        "\n",
        "\n",
        "e)\n",
        "\n",
        "<img src=\"https://github.com/aleylani/Python/blob/main/assets/numpy2e.png?raw=1\" width = 500>\n",
        "\n",
        "\n",
        "We see that when we sum several uniformly distributed random variables we will approach the normal distribution. This is called the central limit theorem, which we will come back to in the statistics course.\n",
        "\n",
        "</details>"
      ]
    },
    {
      "cell_type": "code",
      "source": [
        "#a)\n",
        "import numpy as np\n",
        "\n",
        "result = [[x+y for x in range(1,7)]for y in range(1,7)]\n"
      ],
      "metadata": {
        "colab": {
          "base_uri": "https://localhost:8080/"
        },
        "id": "uP-ev0-KmDk7",
        "outputId": "825cdd65-e065-4af3-9ba4-193cdb3e2913"
      },
      "execution_count": 66,
      "outputs": [
        {
          "output_type": "execute_result",
          "data": {
            "text/plain": [
              "[[2, 3, 4, 5, 6, 7],\n",
              " [3, 4, 5, 6, 7, 8],\n",
              " [4, 5, 6, 7, 8, 9],\n",
              " [5, 6, 7, 8, 9, 10],\n",
              " [6, 7, 8, 9, 10, 11],\n",
              " [7, 8, 9, 10, 11, 12]]"
            ]
          },
          "metadata": {},
          "execution_count": 66
        }
      ]
    },
    {
      "cell_type": "code",
      "source": [
        "#b) tolkar som att man slår 2 tärningar t.ex. 100 ggr och hur många ggr av varje resultat\n",
        "result_unique = np.unique(result)\n",
        "#print(result_unique)\n",
        "\n",
        "#print(result.count(3))\n",
        "result_array = np.array(result).flatten()\n",
        "count_value = np.bincount(result_array-2)\n",
        "print(count_value)\n",
        "#print(result_array.count(2))\n",
        "#print(result)\n",
        "\n"
      ],
      "metadata": {
        "colab": {
          "base_uri": "https://localhost:8080/"
        },
        "id": "a0NZI3IlwNY7",
        "outputId": "2ea4c294-2d95-45f7-ec85-9e630e9dc45e"
      },
      "execution_count": 86,
      "outputs": [
        {
          "output_type": "stream",
          "name": "stdout",
          "text": [
            "[1 2 3 4 5 6 5 4 3 2 1]\n"
          ]
        }
      ]
    }
  ],
  "metadata": {
    "colab": {
      "provenance": [],
      "toc_visible": true,
      "include_colab_link": true
    },
    "kernelspec": {
      "display_name": "Python 3 (ipykernel)",
      "language": "python",
      "name": "python3"
    },
    "language_info": {
      "codemirror_mode": {
        "name": "ipython",
        "version": 3
      },
      "file_extension": ".py",
      "mimetype": "text/x-python",
      "name": "python",
      "nbconvert_exporter": "python",
      "pygments_lexer": "ipython3",
      "version": "3.8.13"
    },
    "vscode": {
      "interpreter": {
        "hash": "7e1998ff7f8aa20ada591c520b972326324e5ea05489af9e422744c7c09f6dad"
      }
    }
  },
  "nbformat": 4,
  "nbformat_minor": 0
}